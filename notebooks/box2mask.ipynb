{
 "cells": [
  {
   "cell_type": "code",
   "execution_count": 1,
   "metadata": {},
   "outputs": [],
   "source": [
    "import pandas as pd\n",
    "import numpy as np\n",
    "import os\n",
    "import pycocotools.mask as mutils\n",
    "import base64\n",
    "import numpy as np\n",
    "from pycocotools import mask as coco_mask_d\n",
    "import typing as t\n",
    "import zlib\n",
    "from matplotlib.pyplot import imshow\n",
    "import matplotlib.pyplot as plt\n",
    "import cv2\n",
    "import numpy as np\n",
    "%matplotlib inline\n",
    "from tqdm import tqdm\n",
    "\n",
    "DATA_DIR = '/mnt/chicm/data/open-images/segmentation'"
   ]
  },
  {
   "cell_type": "code",
   "execution_count": 2,
   "metadata": {},
   "outputs": [],
   "source": [
    "def get_top_classes(start_index, end_index, class_file='top_classes_level1.csv'):\n",
    "    df = pd.read_csv(os.path.join(DATA_DIR, class_file))\n",
    "    c = df['class'].values[start_index:end_index]\n",
    "    #print(df.head())\n",
    "    stoi = { c[i]: i for i in range(len(c)) }\n",
    "    return c, stoi\n"
   ]
  },
  {
   "cell_type": "code",
   "execution_count": 3,
   "metadata": {},
   "outputs": [
    {
     "data": {
      "text/plain": [
       "300"
      ]
     },
     "execution_count": 3,
     "metadata": {},
     "output_type": "execute_result"
    }
   ],
   "source": [
    "level1_classes = get_top_classes(0, 275)[0]\n",
    "parent_classes = get_top_classes(0, 25, 'top_classes_parent.csv')[0]\n",
    "\n",
    "seg_classes = set(level1_classes) | set(parent_classes)\n",
    "len(seg_classes)"
   ]
  },
  {
   "cell_type": "code",
   "execution_count": 8,
   "metadata": {},
   "outputs": [
    {
     "data": {
      "text/plain": [
       "300"
      ]
     },
     "execution_count": 8,
     "metadata": {},
     "output_type": "execute_result"
    }
   ],
   "source": [
    "len(seg_classes)"
   ]
  },
  {
   "cell_type": "code",
   "execution_count": 4,
   "metadata": {},
   "outputs": [
    {
     "data": {
      "text/plain": [
       "275"
      ]
     },
     "execution_count": 4,
     "metadata": {},
     "output_type": "execute_result"
    }
   ],
   "source": [
    "len(level1_classes)"
   ]
  },
  {
   "cell_type": "code",
   "execution_count": 28,
   "metadata": {},
   "outputs": [],
   "source": [
    "df = pd.read_csv('/mnt/chicm/open-images-vrd/vrd/det/final_det_segm_ensemble_with_more_extra_higher_level_20191001.csv.zip')"
   ]
  },
  {
   "cell_type": "code",
   "execution_count": 9,
   "metadata": {},
   "outputs": [],
   "source": [
    "#df = pd.read_csv('seg_lb5026_bbox.csv')"
   ]
  },
  {
   "cell_type": "code",
   "execution_count": 29,
   "metadata": {},
   "outputs": [],
   "source": [
    "df.PredictionString = df.PredictionString.fillna('')"
   ]
  },
  {
   "cell_type": "code",
   "execution_count": 30,
   "metadata": {},
   "outputs": [
    {
     "data": {
      "text/html": [
       "<div>\n",
       "<style scoped>\n",
       "    .dataframe tbody tr th:only-of-type {\n",
       "        vertical-align: middle;\n",
       "    }\n",
       "\n",
       "    .dataframe tbody tr th {\n",
       "        vertical-align: top;\n",
       "    }\n",
       "\n",
       "    .dataframe thead th {\n",
       "        text-align: right;\n",
       "    }\n",
       "</style>\n",
       "<table border=\"1\" class=\"dataframe\">\n",
       "  <thead>\n",
       "    <tr style=\"text-align: right;\">\n",
       "      <th></th>\n",
       "      <th>ImageId</th>\n",
       "      <th>PredictionString</th>\n",
       "    </tr>\n",
       "  </thead>\n",
       "  <tbody>\n",
       "    <tr>\n",
       "      <th>0</th>\n",
       "      <td>00000b4dcff7f799</td>\n",
       "      <td>/m/07yv9 0.1014 0.1469 0.1145 0.9360 0.8608 /m...</td>\n",
       "    </tr>\n",
       "    <tr>\n",
       "      <th>1</th>\n",
       "      <td>00001a21632de752</td>\n",
       "      <td>/m/07yv9 0.1103 0.0052 0.0577 0.8222 0.9935 /m...</td>\n",
       "    </tr>\n",
       "    <tr>\n",
       "      <th>2</th>\n",
       "      <td>0000d67245642c5f</td>\n",
       "      <td>/m/07yv9 0.0457 0.0370 0.0690 0.9413 0.9923 /m...</td>\n",
       "    </tr>\n",
       "    <tr>\n",
       "      <th>3</th>\n",
       "      <td>0001244aa8ed3099</td>\n",
       "      <td>/m/07yv9 0.1433 0.0512 0.1449 0.8007 0.7719 /m...</td>\n",
       "    </tr>\n",
       "    <tr>\n",
       "      <th>4</th>\n",
       "      <td>000172d1dd1adce0</td>\n",
       "      <td>/m/07yv9 0.1140 0.2272 0.0299 0.8484 0.9221 /m...</td>\n",
       "    </tr>\n",
       "  </tbody>\n",
       "</table>\n",
       "</div>"
      ],
      "text/plain": [
       "            ImageId                                   PredictionString\n",
       "0  00000b4dcff7f799  /m/07yv9 0.1014 0.1469 0.1145 0.9360 0.8608 /m...\n",
       "1  00001a21632de752  /m/07yv9 0.1103 0.0052 0.0577 0.8222 0.9935 /m...\n",
       "2  0000d67245642c5f  /m/07yv9 0.0457 0.0370 0.0690 0.9413 0.9923 /m...\n",
       "3  0001244aa8ed3099  /m/07yv9 0.1433 0.0512 0.1449 0.8007 0.7719 /m...\n",
       "4  000172d1dd1adce0  /m/07yv9 0.1140 0.2272 0.0299 0.8484 0.9221 /m..."
      ]
     },
     "execution_count": 30,
     "metadata": {},
     "output_type": "execute_result"
    }
   ],
   "source": [
    "df.head()"
   ]
  },
  {
   "cell_type": "code",
   "execution_count": 31,
   "metadata": {},
   "outputs": [],
   "source": [
    "def get_dets_by_pred_str(pred_str):\n",
    "    try:\n",
    "        if len(pred_str) < 1:\n",
    "            return []\n",
    "    except:\n",
    "        print('pred_str:', pred_str)\n",
    "        raise\n",
    "    det_items = pred_str.split(' ')\n",
    "    dets, det = [], []\n",
    "    for i in range(len(det_items)):\n",
    "        det.append(det_items[i])\n",
    "        if (i+1) % 6 == 0:\n",
    "            assert '/' in det[0]\n",
    "            if det[0] in seg_classes:\n",
    "                dets.append(det)\n",
    "            det = []\n",
    "    return sorted(dets, key=lambda x: float(x[1]), reverse=True)[:50]"
   ]
  },
  {
   "cell_type": "code",
   "execution_count": 32,
   "metadata": {},
   "outputs": [],
   "source": [
    "#sorted(ens_det, key=lambda x: x[2], reverse=True)[:MAX_NUM]"
   ]
  },
  {
   "cell_type": "code",
   "execution_count": 33,
   "metadata": {},
   "outputs": [
    {
     "data": {
      "text/html": [
       "<div>\n",
       "<style scoped>\n",
       "    .dataframe tbody tr th:only-of-type {\n",
       "        vertical-align: middle;\n",
       "    }\n",
       "\n",
       "    .dataframe tbody tr th {\n",
       "        vertical-align: top;\n",
       "    }\n",
       "\n",
       "    .dataframe thead th {\n",
       "        text-align: right;\n",
       "    }\n",
       "</style>\n",
       "<table border=\"1\" class=\"dataframe\">\n",
       "  <thead>\n",
       "    <tr style=\"text-align: right;\">\n",
       "      <th></th>\n",
       "      <th>ImageId</th>\n",
       "      <th>PredictionString</th>\n",
       "      <th>dets</th>\n",
       "    </tr>\n",
       "  </thead>\n",
       "  <tbody>\n",
       "    <tr>\n",
       "      <th>0</th>\n",
       "      <td>00000b4dcff7f799</td>\n",
       "      <td>/m/07yv9 0.1014 0.1469 0.1145 0.9360 0.8608 /m...</td>\n",
       "      <td>[[/m/07r04, 0.9051, 0.0080, 0.1285, 0.7067, 0....</td>\n",
       "    </tr>\n",
       "    <tr>\n",
       "      <th>1</th>\n",
       "      <td>00001a21632de752</td>\n",
       "      <td>/m/07yv9 0.1103 0.0052 0.0577 0.8222 0.9935 /m...</td>\n",
       "      <td>[[/m/03bt1vf, 0.6542, 0.2735, 0.6122, 0.5189, ...</td>\n",
       "    </tr>\n",
       "    <tr>\n",
       "      <th>2</th>\n",
       "      <td>0000d67245642c5f</td>\n",
       "      <td>/m/07yv9 0.0457 0.0370 0.0690 0.9413 0.9923 /m...</td>\n",
       "      <td>[[/m/079cl, 0.2559, 0.1846, 0.0429, 0.9924, 0....</td>\n",
       "    </tr>\n",
       "    <tr>\n",
       "      <th>3</th>\n",
       "      <td>0001244aa8ed3099</td>\n",
       "      <td>/m/07yv9 0.1433 0.0512 0.1449 0.8007 0.7719 /m...</td>\n",
       "      <td>[[/m/0c9ph5, 0.2090, 0.5508, 0.4451, 0.9990, 0...</td>\n",
       "    </tr>\n",
       "    <tr>\n",
       "      <th>4</th>\n",
       "      <td>000172d1dd1adce0</td>\n",
       "      <td>/m/07yv9 0.1140 0.2272 0.0299 0.8484 0.9221 /m...</td>\n",
       "      <td>[[/m/04h7h, 0.2846, 0.2505, 0.0348, 0.8005, 0....</td>\n",
       "    </tr>\n",
       "  </tbody>\n",
       "</table>\n",
       "</div>"
      ],
      "text/plain": [
       "            ImageId                                   PredictionString  \\\n",
       "0  00000b4dcff7f799  /m/07yv9 0.1014 0.1469 0.1145 0.9360 0.8608 /m...   \n",
       "1  00001a21632de752  /m/07yv9 0.1103 0.0052 0.0577 0.8222 0.9935 /m...   \n",
       "2  0000d67245642c5f  /m/07yv9 0.0457 0.0370 0.0690 0.9413 0.9923 /m...   \n",
       "3  0001244aa8ed3099  /m/07yv9 0.1433 0.0512 0.1449 0.8007 0.7719 /m...   \n",
       "4  000172d1dd1adce0  /m/07yv9 0.1140 0.2272 0.0299 0.8484 0.9221 /m...   \n",
       "\n",
       "                                                dets  \n",
       "0  [[/m/07r04, 0.9051, 0.0080, 0.1285, 0.7067, 0....  \n",
       "1  [[/m/03bt1vf, 0.6542, 0.2735, 0.6122, 0.5189, ...  \n",
       "2  [[/m/079cl, 0.2559, 0.1846, 0.0429, 0.9924, 0....  \n",
       "3  [[/m/0c9ph5, 0.2090, 0.5508, 0.4451, 0.9990, 0...  \n",
       "4  [[/m/04h7h, 0.2846, 0.2505, 0.0348, 0.8005, 0....  "
      ]
     },
     "execution_count": 33,
     "metadata": {},
     "output_type": "execute_result"
    }
   ],
   "source": [
    "df['dets'] = df.PredictionString.map(lambda x: get_dets_by_pred_str(x))\n",
    "df.head()"
   ]
  },
  {
   "cell_type": "code",
   "execution_count": 34,
   "metadata": {},
   "outputs": [
    {
     "data": {
      "text/plain": [
       "4998829"
      ]
     },
     "execution_count": 34,
     "metadata": {},
     "output_type": "execute_result"
    }
   ],
   "source": [
    "# total\n",
    "df.dets.map(lambda x: len(x)).values.sum()"
   ]
  },
  {
   "cell_type": "code",
   "execution_count": 12,
   "metadata": {},
   "outputs": [
    {
     "data": {
      "text/plain": [
       "9957865"
      ]
     },
     "execution_count": 12,
     "metadata": {},
     "output_type": "execute_result"
    }
   ],
   "source": [
    "# total\n",
    "df.dets.map(lambda x: len(x)).values.sum()"
   ]
  },
  {
   "cell_type": "code",
   "execution_count": 35,
   "metadata": {},
   "outputs": [
    {
     "data": {
      "text/html": [
       "<div>\n",
       "<style scoped>\n",
       "    .dataframe tbody tr th:only-of-type {\n",
       "        vertical-align: middle;\n",
       "    }\n",
       "\n",
       "    .dataframe tbody tr th {\n",
       "        vertical-align: top;\n",
       "    }\n",
       "\n",
       "    .dataframe thead th {\n",
       "        text-align: right;\n",
       "    }\n",
       "</style>\n",
       "<table border=\"1\" class=\"dataframe\">\n",
       "  <thead>\n",
       "    <tr style=\"text-align: right;\">\n",
       "      <th></th>\n",
       "      <th>ImageId</th>\n",
       "      <th>PredictionString</th>\n",
       "      <th>dets</th>\n",
       "      <th>ImageWidth</th>\n",
       "      <th>ImageHeight</th>\n",
       "    </tr>\n",
       "  </thead>\n",
       "  <tbody>\n",
       "    <tr>\n",
       "      <th>0</th>\n",
       "      <td>00000b4dcff7f799</td>\n",
       "      <td>/m/07yv9 0.1014 0.1469 0.1145 0.9360 0.8608 /m...</td>\n",
       "      <td>[[/m/07r04, 0.9051, 0.0080, 0.1285, 0.7067, 0....</td>\n",
       "      <td>1024</td>\n",
       "      <td>683</td>\n",
       "    </tr>\n",
       "    <tr>\n",
       "      <th>1</th>\n",
       "      <td>00001a21632de752</td>\n",
       "      <td>/m/07yv9 0.1103 0.0052 0.0577 0.8222 0.9935 /m...</td>\n",
       "      <td>[[/m/03bt1vf, 0.6542, 0.2735, 0.6122, 0.5189, ...</td>\n",
       "      <td>1024</td>\n",
       "      <td>681</td>\n",
       "    </tr>\n",
       "    <tr>\n",
       "      <th>2</th>\n",
       "      <td>0000d67245642c5f</td>\n",
       "      <td>/m/07yv9 0.0457 0.0370 0.0690 0.9413 0.9923 /m...</td>\n",
       "      <td>[[/m/079cl, 0.2559, 0.1846, 0.0429, 0.9924, 0....</td>\n",
       "      <td>1024</td>\n",
       "      <td>683</td>\n",
       "    </tr>\n",
       "    <tr>\n",
       "      <th>3</th>\n",
       "      <td>0001244aa8ed3099</td>\n",
       "      <td>/m/07yv9 0.1433 0.0512 0.1449 0.8007 0.7719 /m...</td>\n",
       "      <td>[[/m/0c9ph5, 0.2090, 0.5508, 0.4451, 0.9990, 0...</td>\n",
       "      <td>1024</td>\n",
       "      <td>683</td>\n",
       "    </tr>\n",
       "    <tr>\n",
       "      <th>4</th>\n",
       "      <td>000172d1dd1adce0</td>\n",
       "      <td>/m/07yv9 0.1140 0.2272 0.0299 0.8484 0.9221 /m...</td>\n",
       "      <td>[[/m/04h7h, 0.2846, 0.2505, 0.0348, 0.8005, 0....</td>\n",
       "      <td>1024</td>\n",
       "      <td>682</td>\n",
       "    </tr>\n",
       "  </tbody>\n",
       "</table>\n",
       "</div>"
      ],
      "text/plain": [
       "            ImageId                                   PredictionString  \\\n",
       "0  00000b4dcff7f799  /m/07yv9 0.1014 0.1469 0.1145 0.9360 0.8608 /m...   \n",
       "1  00001a21632de752  /m/07yv9 0.1103 0.0052 0.0577 0.8222 0.9935 /m...   \n",
       "2  0000d67245642c5f  /m/07yv9 0.0457 0.0370 0.0690 0.9413 0.9923 /m...   \n",
       "3  0001244aa8ed3099  /m/07yv9 0.1433 0.0512 0.1449 0.8007 0.7719 /m...   \n",
       "4  000172d1dd1adce0  /m/07yv9 0.1140 0.2272 0.0299 0.8484 0.9221 /m...   \n",
       "\n",
       "                                                dets  ImageWidth  ImageHeight  \n",
       "0  [[/m/07r04, 0.9051, 0.0080, 0.1285, 0.7067, 0....        1024          683  \n",
       "1  [[/m/03bt1vf, 0.6542, 0.2735, 0.6122, 0.5189, ...        1024          681  \n",
       "2  [[/m/079cl, 0.2559, 0.1846, 0.0429, 0.9924, 0....        1024          683  \n",
       "3  [[/m/0c9ph5, 0.2090, 0.5508, 0.4451, 0.9990, 0...        1024          683  \n",
       "4  [[/m/04h7h, 0.2846, 0.2505, 0.0348, 0.8005, 0....        1024          682  "
      ]
     },
     "execution_count": 35,
     "metadata": {},
     "output_type": "execute_result"
    }
   ],
   "source": [
    "TEST_IMG_DIR = '/mnt/chicm/data/open-images/test'\n",
    "\n",
    "def get_fn(img_id):\n",
    "    return TEST_IMG_DIR + '/' + img_id + '.jpg'\n",
    "\n",
    "df['ImageWidth'] = df.ImageId.map(lambda x: get_image_size(get_fn(x))[0])\n",
    "df['ImageHeight'] = df.ImageId.map(lambda x: get_image_size(get_fn(x))[1])\n",
    "df.head()"
   ]
  },
  {
   "cell_type": "code",
   "execution_count": 36,
   "metadata": {},
   "outputs": [],
   "source": [
    "def get_mask(bbox, h, w):\n",
    "    b = [float(x) for x in bbox]\n",
    "    mask = np.zeros((h, w))\n",
    "    mask[int(b[1]*h):int(b[3]*h), int(b[0]*w):int(b[2]*w)] = 1\n",
    "    \n",
    "    return mask.astype(np.bool)"
   ]
  },
  {
   "cell_type": "code",
   "execution_count": 37,
   "metadata": {},
   "outputs": [],
   "source": [
    "def gen_preds(row):\n",
    "    res = []\n",
    "    for det in row.dets:\n",
    "        bbox = det[2:]\n",
    "        mask = get_mask(bbox, row.ImageHeight, row.ImageWidth)\n",
    "        res.append(det[0])\n",
    "        res.append(det[1])\n",
    "        #res.append(str(float(det[1])/200))\n",
    "        res.append(encode_binary_mask(mask))\n",
    "    return ' '.join(res)"
   ]
  },
  {
   "cell_type": "code",
   "execution_count": 38,
   "metadata": {},
   "outputs": [],
   "source": [
    "def set_pred_str(df):\n",
    "    df['PredictionString'] = df.apply(lambda row: gen_preds(row), axis=1)\n",
    "    return df"
   ]
  },
  {
   "cell_type": "code",
   "execution_count": 39,
   "metadata": {},
   "outputs": [],
   "source": [
    "df = parallel_apply(df, set_pred_str)"
   ]
  },
  {
   "cell_type": "code",
   "execution_count": 40,
   "metadata": {},
   "outputs": [
    {
     "data": {
      "text/plain": [
       "'/m/06z37_ 0.3613 eNrLzzBLyjOwNRgFo2AUjIJRMBxBUro5ANtCHSo= /m/0bt_c3 0.3528 eNoLyzKNzDNIMxgFo2AUjIJRMGxBbIYZAJxKHh0= /m/0d20w4 0.1679 eNrLCckwzMw1CDM0GAWjYBSMgqEJQtMDjQGi5uf3 /m/09rvcxw 0.1469 eNoLD4yxSswyiDMxGM4gMivOEgAl+y2W /m/0fly7 0.1200 eNqLjkoxyMszMDQYBaNgFIyCUUAvkBAXZwgASy4Jcw== /m/0k5j 0.1180 eNoLjwm0ysoyCDUxGLkgIy/KEgDDZDNF /m/07mhn 0.1179 eNpLjk00SMkzsDYYBaNgFIyCUTBYQEZ2oCEA+AcPgw== /m/06y5r 0.0989 eNrLzk6wisgySDcxGG4gPjPeEgBBoyuO /m/0k1tl 0.0858 eNrLSUu1Cs82yDA2GPogPD3REgD6Kyjn /m/01n4qj 0.0696 eNqLSLRLyTGINjIYBaNgFIyCUTCUQGpUsgEAVMsWNg== /m/0d20w4 0.0695 eNoLD4q2Cs42yDE2GO4gOjvWEgDbri5Y /m/0frqm 0.0550 eNrLS7QNyzPINBgFo2AUjIJRMERBSLw9AJjJF8s= /m/01bms0 0.0503 eNrLTku1ysg0CDc1GNogLDXZEgBZaigl /m/04ylt 0.0410 eNqLCQu3CswyyDMxGFkgNi/KEgB0xTD/ /m/04dr76w 0.0405 eNqLi000SM0zsDIYBaNgFIyCgQOp8aGmAANv3Gg= /m/01d40f 0.0350 eNrLTsiyTM4zsDEYBaNgFFACIsLTDQD3GKCC /m/01d40f 0.0337 eNrLj042yM41CDE0GAWjYBSMAtJAXmSEGQBvic6Q /m/04ctx 0.0336 eNoLS0+xSss2iDQ2GB4gPyPBEgCLrSmp /m/04dr76w 0.0335 eNoLiQ+3SkgyiLcxGO4gLi7REgDhNi5Y /m/0bjyj5 0.0316 eNrLiLePzjNIMRgFo2AUjIJRQBaIjIsxAgC5gP+p /m/06y5r 0.0286 eNqLCU83iMgzSDcYBaNgFIyCUUBHkJAUZQgAG7AKJA== /m/01rkbr 0.0276 eNqLCMgzCM4zyDEYBaNgFIyCQQ5i48NNAMip42s= /m/0k5j 0.0267 eNqLiYg2i8g1SDc0GAWjgLYgPCfJHACeIHa/ /m/03120 0.0261 eNrLS7NIzDOwMxgFo2AUjIJRMBxBcqYpANVZHSo= /m/0k1tl 0.0260 eNrLS80xi8o1SDU0GAUjHYTmxlsAAAh1ZOw= /m/0fly7 0.0245 eNqLiUgwzsgzMDcYBaOAOiA7PtMKAAdqcgI= /m/079cl 0.0244 eNoLzDOMyTNINhgFo2AUjIJRMMxBaro5ADTVH0A= /m/083wq 0.0235 eNrLzjSNyTJINjEYBaNgFIyCUTBcQEKCHQBM8hs0 /m/01g317 0.0230 eNqLCciyzLAPtzcYBZggICPUEgDg/DfD /m/03v5tg 0.0222 eNpLD4mwyskyCDYxGGkgODDSEgDf0zFB /m/09rvcxw 0.0221 eNoLSg8zjMgzSDcYBaNgFIyCUQAFEfHRRgDJgvdC /m/0271t 0.0219 eNrLTLJJyjOwNRgFo2AUjIJRQAjkBWQaAQBRQ/uu /m/0283dt1 0.0215 eNoLzM1IMgg2zMk1GBCQHZFiBAAJBRqP /m/05r5c 0.0202 eNrLjU42SMw1iDM0GAWjYBSMglFATxAQH2sIAI0LCoU= /m/0d20w4 0.0190 eNpLTs+xyksyCLQxGEogNDrVEgCtwSS8 /m/0l14j_ 0.0189 eNrLzIuxysk2CDY2GN4gIzfGEgCsHy41 /m/0271t 0.0180 eNpLTAyzyk8wCLAzGO4gMCbJEgDuKS5Y /m/0d20w4 0.0179 eNqLj4k0S8g2iDc2GAWjABPkJWRaAACrOmiX /m/03v5tg 0.0164 eNrLik42CMgzyDcYBaNgFIyCIQHywuJNAHOa5K0= /m/07mhn 0.0163 eNqLiUgwzsgzMDcYBaOAOiA7PtMKAAdqcgI= /m/02gzp 0.0158 eNoLTEuzisw0SDM1GNogIC3JEgBFOCgG /m/058qzx 0.0157 eNoLzUyyCswxyDMyGE4gOCveEgCEAiqt /m/06z37_ 0.0151 eNrLj820zswzMDMYBaNgeIOUDDMAw8GOQA== /m/09rvcxw 0.0149 eNrLjQs2z8wxCDMyGAWjgDSQl5NoDgBuZm3l /m/0k5j 0.0147 eNoLSg8zjMgzSDcYBaNgFIyCUQAFEfHRRgDJgvdC /m/01g317 0.0131 eNpLDU83CM4yyDExGAWjYBSMglEw+EFwvD0Afp8UUQ== /m/0162_1 0.0119 eNrLTrSNyjNINRgFo2AUjIJRMKRBVJINABfpGO4= /m/05bm6 0.0106 eNoLCks3jDJMzTUYIJAdkJpsAAAaThrR /m/0bt_c3 0.0095 eNqLTYu3icwzSDMYBaNgyIH4DDMAtDqF2Q== /m/0271t 0.0093 eNrLyYm2jsozSDUYBaNg2ICYvDwDACgTitQ='"
      ]
     },
     "execution_count": 40,
     "metadata": {},
     "output_type": "execute_result"
    }
   ],
   "source": [
    "df.iloc[90000].PredictionString"
   ]
  },
  {
   "cell_type": "code",
   "execution_count": 41,
   "metadata": {},
   "outputs": [
    {
     "data": {
      "text/html": [
       "<div>\n",
       "<style scoped>\n",
       "    .dataframe tbody tr th:only-of-type {\n",
       "        vertical-align: middle;\n",
       "    }\n",
       "\n",
       "    .dataframe tbody tr th {\n",
       "        vertical-align: top;\n",
       "    }\n",
       "\n",
       "    .dataframe thead th {\n",
       "        text-align: right;\n",
       "    }\n",
       "</style>\n",
       "<table border=\"1\" class=\"dataframe\">\n",
       "  <thead>\n",
       "    <tr style=\"text-align: right;\">\n",
       "      <th></th>\n",
       "      <th>ImageId</th>\n",
       "      <th>PredictionString</th>\n",
       "      <th>dets</th>\n",
       "      <th>ImageWidth</th>\n",
       "      <th>ImageHeight</th>\n",
       "    </tr>\n",
       "  </thead>\n",
       "  <tbody>\n",
       "    <tr>\n",
       "      <th>0</th>\n",
       "      <td>00000b4dcff7f799</td>\n",
       "      <td>/m/07r04 0.9051 eNqLjzUNSDCINjUYBaNgFIyCUTBYQE...</td>\n",
       "      <td>[[/m/07r04, 0.9051, 0.0080, 0.1285, 0.7067, 0....</td>\n",
       "      <td>1024</td>\n",
       "      <td>683</td>\n",
       "    </tr>\n",
       "    <tr>\n",
       "      <th>1</th>\n",
       "      <td>00001a21632de752</td>\n",
       "      <td>/m/03bt1vf 0.6542 eNrLSM4yDbUIsTUYBSMNpMaFWwEA...</td>\n",
       "      <td>[[/m/03bt1vf, 0.6542, 0.2735, 0.6122, 0.5189, ...</td>\n",
       "      <td>1024</td>\n",
       "      <td>681</td>\n",
       "    </tr>\n",
       "    <tr>\n",
       "      <th>2</th>\n",
       "      <td>0000d67245642c5f</td>\n",
       "      <td>/m/079cl 0.2559 eNrLCcozjk4xCDA0GAWjYBSMglEwCu...</td>\n",
       "      <td>[[/m/079cl, 0.2559, 0.1846, 0.0429, 0.9924, 0....</td>\n",
       "      <td>1024</td>\n",
       "      <td>683</td>\n",
       "    </tr>\n",
       "    <tr>\n",
       "      <th>3</th>\n",
       "      <td>0001244aa8ed3099</td>\n",
       "      <td>/m/0c9ph5 0.2090 eNqLic+wTrNOtTQYBaNgFAweEBZoC...</td>\n",
       "      <td>[[/m/0c9ph5, 0.2090, 0.5508, 0.4451, 0.9990, 0...</td>\n",
       "      <td>1024</td>\n",
       "      <td>683</td>\n",
       "    </tr>\n",
       "    <tr>\n",
       "      <th>4</th>\n",
       "      <td>000172d1dd1adce0</td>\n",
       "      <td>/m/04h7h 0.2846 eNpLT4gyjUo0CDAxGAWjYBSMAtqB6I...</td>\n",
       "      <td>[[/m/04h7h, 0.2846, 0.2505, 0.0348, 0.8005, 0....</td>\n",
       "      <td>1024</td>\n",
       "      <td>682</td>\n",
       "    </tr>\n",
       "  </tbody>\n",
       "</table>\n",
       "</div>"
      ],
      "text/plain": [
       "            ImageId                                   PredictionString  \\\n",
       "0  00000b4dcff7f799  /m/07r04 0.9051 eNqLjzUNSDCINjUYBaNgFIyCUTBYQE...   \n",
       "1  00001a21632de752  /m/03bt1vf 0.6542 eNrLSM4yDbUIsTUYBSMNpMaFWwEA...   \n",
       "2  0000d67245642c5f  /m/079cl 0.2559 eNrLCcozjk4xCDA0GAWjYBSMglEwCu...   \n",
       "3  0001244aa8ed3099  /m/0c9ph5 0.2090 eNqLic+wTrNOtTQYBaNgFAweEBZoC...   \n",
       "4  000172d1dd1adce0  /m/04h7h 0.2846 eNpLT4gyjUo0CDAxGAWjYBSMAtqB6I...   \n",
       "\n",
       "                                                dets  ImageWidth  ImageHeight  \n",
       "0  [[/m/07r04, 0.9051, 0.0080, 0.1285, 0.7067, 0....        1024          683  \n",
       "1  [[/m/03bt1vf, 0.6542, 0.2735, 0.6122, 0.5189, ...        1024          681  \n",
       "2  [[/m/079cl, 0.2559, 0.1846, 0.0429, 0.9924, 0....        1024          683  \n",
       "3  [[/m/0c9ph5, 0.2090, 0.5508, 0.4451, 0.9990, 0...        1024          683  \n",
       "4  [[/m/04h7h, 0.2846, 0.2505, 0.0348, 0.8005, 0....        1024          682  "
      ]
     },
     "execution_count": 41,
     "metadata": {},
     "output_type": "execute_result"
    }
   ],
   "source": [
    "df.head()"
   ]
  },
  {
   "cell_type": "code",
   "execution_count": 42,
   "metadata": {},
   "outputs": [
    {
     "data": {
      "text/html": [
       "<div>\n",
       "<style scoped>\n",
       "    .dataframe tbody tr th:only-of-type {\n",
       "        vertical-align: middle;\n",
       "    }\n",
       "\n",
       "    .dataframe tbody tr th {\n",
       "        vertical-align: top;\n",
       "    }\n",
       "\n",
       "    .dataframe thead th {\n",
       "        text-align: right;\n",
       "    }\n",
       "</style>\n",
       "<table border=\"1\" class=\"dataframe\">\n",
       "  <thead>\n",
       "    <tr style=\"text-align: right;\">\n",
       "      <th></th>\n",
       "      <th>ImageID</th>\n",
       "      <th>PredictionString</th>\n",
       "      <th>dets</th>\n",
       "      <th>ImageWidth</th>\n",
       "      <th>ImageHeight</th>\n",
       "    </tr>\n",
       "  </thead>\n",
       "  <tbody>\n",
       "    <tr>\n",
       "      <th>0</th>\n",
       "      <td>00000b4dcff7f799</td>\n",
       "      <td>/m/07r04 0.9051 eNqLjzUNSDCINjUYBaNgFIyCUTBYQE...</td>\n",
       "      <td>[[/m/07r04, 0.9051, 0.0080, 0.1285, 0.7067, 0....</td>\n",
       "      <td>1024</td>\n",
       "      <td>683</td>\n",
       "    </tr>\n",
       "    <tr>\n",
       "      <th>1</th>\n",
       "      <td>00001a21632de752</td>\n",
       "      <td>/m/03bt1vf 0.6542 eNrLSM4yDbUIsTUYBSMNpMaFWwEA...</td>\n",
       "      <td>[[/m/03bt1vf, 0.6542, 0.2735, 0.6122, 0.5189, ...</td>\n",
       "      <td>1024</td>\n",
       "      <td>681</td>\n",
       "    </tr>\n",
       "    <tr>\n",
       "      <th>2</th>\n",
       "      <td>0000d67245642c5f</td>\n",
       "      <td>/m/079cl 0.2559 eNrLCcozjk4xCDA0GAWjYBSMglEwCu...</td>\n",
       "      <td>[[/m/079cl, 0.2559, 0.1846, 0.0429, 0.9924, 0....</td>\n",
       "      <td>1024</td>\n",
       "      <td>683</td>\n",
       "    </tr>\n",
       "    <tr>\n",
       "      <th>3</th>\n",
       "      <td>0001244aa8ed3099</td>\n",
       "      <td>/m/0c9ph5 0.2090 eNqLic+wTrNOtTQYBaNgFAweEBZoC...</td>\n",
       "      <td>[[/m/0c9ph5, 0.2090, 0.5508, 0.4451, 0.9990, 0...</td>\n",
       "      <td>1024</td>\n",
       "      <td>683</td>\n",
       "    </tr>\n",
       "    <tr>\n",
       "      <th>4</th>\n",
       "      <td>000172d1dd1adce0</td>\n",
       "      <td>/m/04h7h 0.2846 eNpLT4gyjUo0CDAxGAWjYBSMAtqB6I...</td>\n",
       "      <td>[[/m/04h7h, 0.2846, 0.2505, 0.0348, 0.8005, 0....</td>\n",
       "      <td>1024</td>\n",
       "      <td>682</td>\n",
       "    </tr>\n",
       "  </tbody>\n",
       "</table>\n",
       "</div>"
      ],
      "text/plain": [
       "            ImageID                                   PredictionString  \\\n",
       "0  00000b4dcff7f799  /m/07r04 0.9051 eNqLjzUNSDCINjUYBaNgFIyCUTBYQE...   \n",
       "1  00001a21632de752  /m/03bt1vf 0.6542 eNrLSM4yDbUIsTUYBSMNpMaFWwEA...   \n",
       "2  0000d67245642c5f  /m/079cl 0.2559 eNrLCcozjk4xCDA0GAWjYBSMglEwCu...   \n",
       "3  0001244aa8ed3099  /m/0c9ph5 0.2090 eNqLic+wTrNOtTQYBaNgFAweEBZoC...   \n",
       "4  000172d1dd1adce0  /m/04h7h 0.2846 eNpLT4gyjUo0CDAxGAWjYBSMAtqB6I...   \n",
       "\n",
       "                                                dets  ImageWidth  ImageHeight  \n",
       "0  [[/m/07r04, 0.9051, 0.0080, 0.1285, 0.7067, 0....        1024          683  \n",
       "1  [[/m/03bt1vf, 0.6542, 0.2735, 0.6122, 0.5189, ...        1024          681  \n",
       "2  [[/m/079cl, 0.2559, 0.1846, 0.0429, 0.9924, 0....        1024          683  \n",
       "3  [[/m/0c9ph5, 0.2090, 0.5508, 0.4451, 0.9990, 0...        1024          683  \n",
       "4  [[/m/04h7h, 0.2846, 0.2505, 0.0348, 0.8005, 0....        1024          682  "
      ]
     },
     "execution_count": 42,
     "metadata": {},
     "output_type": "execute_result"
    }
   ],
   "source": [
    "df.rename(columns={'ImageId': 'ImageID'}, inplace=True)\n",
    "df.head()"
   ]
  },
  {
   "cell_type": "code",
   "execution_count": null,
   "metadata": {},
   "outputs": [],
   "source": []
  },
  {
   "cell_type": "code",
   "execution_count": 43,
   "metadata": {},
   "outputs": [],
   "source": [
    "df.to_csv('od628_mask_300_top50.csv', columns=['ImageID', 'ImageWidth', 'ImageHeight', 'PredictionString'], index=False)"
   ]
  },
  {
   "cell_type": "code",
   "execution_count": null,
   "metadata": {},
   "outputs": [],
   "source": []
  },
  {
   "cell_type": "code",
   "execution_count": 75,
   "metadata": {},
   "outputs": [
    {
     "data": {
      "text/html": [
       "<div>\n",
       "<style scoped>\n",
       "    .dataframe tbody tr th:only-of-type {\n",
       "        vertical-align: middle;\n",
       "    }\n",
       "\n",
       "    .dataframe tbody tr th {\n",
       "        vertical-align: top;\n",
       "    }\n",
       "\n",
       "    .dataframe thead th {\n",
       "        text-align: right;\n",
       "    }\n",
       "</style>\n",
       "<table border=\"1\" class=\"dataframe\">\n",
       "  <thead>\n",
       "    <tr style=\"text-align: right;\">\n",
       "      <th></th>\n",
       "      <th>ImageID</th>\n",
       "      <th>PredictionString</th>\n",
       "    </tr>\n",
       "  </thead>\n",
       "  <tbody>\n",
       "    <tr>\n",
       "      <th>0</th>\n",
       "      <td>80155d58d0ee19bd</td>\n",
       "      <td>/m/01k6s3 0.4164521 0.25684 0.26940 0.72363 0....</td>\n",
       "    </tr>\n",
       "    <tr>\n",
       "      <th>1</th>\n",
       "      <td>52a76f3fe21185bf</td>\n",
       "      <td>/m/03y6mg 0.2951875 0.61914 0.04685 0.97559 0....</td>\n",
       "    </tr>\n",
       "    <tr>\n",
       "      <th>2</th>\n",
       "      <td>65e9da7c04c8e4cd</td>\n",
       "      <td>/m/01lrl 0.0051426 0.00195 0.87537 0.14355 0.9...</td>\n",
       "    </tr>\n",
       "    <tr>\n",
       "      <th>3</th>\n",
       "      <td>6d10fa21d93bd6cc</td>\n",
       "      <td>/m/01xyhv 0.9428729 0.53125 0.25073 0.88379 0....</td>\n",
       "    </tr>\n",
       "    <tr>\n",
       "      <th>4</th>\n",
       "      <td>0841dee573a875ca</td>\n",
       "      <td>/m/0342h 0.8243405 0.45898 0.49780 0.71582 0.7...</td>\n",
       "    </tr>\n",
       "  </tbody>\n",
       "</table>\n",
       "</div>"
      ],
      "text/plain": [
       "            ImageID                                   PredictionString\n",
       "0  80155d58d0ee19bd  /m/01k6s3 0.4164521 0.25684 0.26940 0.72363 0....\n",
       "1  52a76f3fe21185bf  /m/03y6mg 0.2951875 0.61914 0.04685 0.97559 0....\n",
       "2  65e9da7c04c8e4cd  /m/01lrl 0.0051426 0.00195 0.87537 0.14355 0.9...\n",
       "3  6d10fa21d93bd6cc  /m/01xyhv 0.9428729 0.53125 0.25073 0.88379 0....\n",
       "4  0841dee573a875ca  /m/0342h 0.8243405 0.45898 0.49780 0.71582 0.7..."
      ]
     },
     "execution_count": 75,
     "metadata": {},
     "output_type": "execute_result"
    }
   ],
   "source": [
    "df.head()"
   ]
  },
  {
   "cell_type": "code",
   "execution_count": 81,
   "metadata": {},
   "outputs": [],
   "source": [
    "tmp_mask = get_mask(df.iloc[1].PredictionString.split(' ')[8:12], 683, 1024)"
   ]
  },
  {
   "cell_type": "code",
   "execution_count": 82,
   "metadata": {},
   "outputs": [
    {
     "data": {
      "text/plain": [
       "<matplotlib.image.AxesImage at 0x7f4c2a451710>"
      ]
     },
     "execution_count": 82,
     "metadata": {},
     "output_type": "execute_result"
    },
    {
     "data": {
      "image/png": "[encoded data removed]",
      "text/plain": [
       "<Figure size 432x288 with 1 Axes>"
      ]
     },
     "metadata": {
      "needs_background": "light"
     },
     "output_type": "display_data"
    }
   ],
   "source": [
    "plt.imshow(tmp_mask)"
   ]
  },
  {
   "cell_type": "code",
   "execution_count": null,
   "metadata": {},
   "outputs": [],
   "source": []
  },
  {
   "cell_type": "code",
   "execution_count": null,
   "metadata": {},
   "outputs": [],
   "source": []
  },
  {
   "cell_type": "code",
   "execution_count": 16,
   "metadata": {},
   "outputs": [],
   "source": [
    "from multiprocessing import Pool\n",
    "\n",
    "def parallel_apply(df, func, n_cores=24):\n",
    "    #ncores = 24\n",
    "    df_split = np.array_split(df, n_cores)\n",
    "    pool = Pool(n_cores)\n",
    "    df = pd.concat(pool.map(func, df_split))\n",
    "    pool.close()\n",
    "    pool.join()\n",
    "    return df"
   ]
  },
  {
   "cell_type": "code",
   "execution_count": 14,
   "metadata": {},
   "outputs": [],
   "source": [
    "import struct\n",
    "import imghdr\n",
    "\n",
    "def get_image_size(fname):\n",
    "    '''Determine the image type of fhandle and return its size.\n",
    "    from draco'''\n",
    "    with open(fname, 'rb') as fhandle:\n",
    "        head = fhandle.read(24)\n",
    "        if len(head) != 24:\n",
    "            raise AssertionError('imghead len != 24')\n",
    "        if imghdr.what(fname) == 'png':\n",
    "            check = struct.unpack('>i', head[4:8])[0]\n",
    "            if check != 0x0d0a1a0a:\n",
    "                raise AssertionError('png check failed')\n",
    "            width, height = struct.unpack('>ii', head[16:24])\n",
    "        elif imghdr.what(fname) == 'gif':\n",
    "            width, height = struct.unpack('<HH', head[6:10])\n",
    "        elif imghdr.what(fname) == 'jpeg':\n",
    "            try:\n",
    "                fhandle.seek(0) # Read 0xff next\n",
    "                size = 2\n",
    "                ftype = 0\n",
    "                while not 0xc0 <= ftype <= 0xcf:\n",
    "                    fhandle.seek(size, 1)\n",
    "                    byte = fhandle.read(1)\n",
    "                    while ord(byte) == 0xff:\n",
    "                        byte = fhandle.read(1)\n",
    "                    ftype = ord(byte)\n",
    "                    size = struct.unpack('>H', fhandle.read(2))[0] - 2\n",
    "                # We are at a SOFn block\n",
    "                fhandle.seek(1, 1)  # Skip `precision' byte.\n",
    "                height, width = struct.unpack('>HH', fhandle.read(4))\n",
    "            except Exception: #IGNORE:W0703\n",
    "                raise\n",
    "        else:\n",
    "            print(fname, imghdr.what(fname))\n",
    "            #raise AssertionError('file format not supported')\n",
    "            img = cv2.imread(fname)\n",
    "            print(img.shape)\n",
    "            height, width, _ = img.shape\n",
    "\n",
    "        return width, height\n"
   ]
  },
  {
   "cell_type": "code",
   "execution_count": 15,
   "metadata": {},
   "outputs": [],
   "source": [
    "import base64\n",
    "import numpy as np\n",
    "from pycocotools import _mask as coco_mask\n",
    "import typing as t\n",
    "import zlib\n",
    "def encode_binary_mask(mask: np.ndarray) -> t.Text:\n",
    "    \"\"\"Converts a binary mask into OID challenge encoding ascii text.\"\"\"\n",
    "\n",
    "    # check input mask --\n",
    "    if mask.dtype != np.bool:\n",
    "        raise ValueError(\"encode_binary_mask expects a binary mask, received dtype == %s\" % mask.dtype)\n",
    "\n",
    "    mask = np.squeeze(mask)\n",
    "    if len(mask.shape) != 2:\n",
    "        raise ValueError(\"encode_binary_mask expects a 2d mask, received shape == %s\" % mask.shape)\n",
    "    # convert input mask to expected COCO API input --\n",
    "    mask_to_encode = mask.reshape(mask.shape[0], mask.shape[1], 1)\n",
    "    mask_to_encode = mask_to_encode.astype(np.uint8)\n",
    "    mask_to_encode = np.asfortranarray(mask_to_encode)\n",
    "\n",
    "    # RLE encode mask --\n",
    "    encoded_mask = coco_mask.encode(mask_to_encode)[0][\"counts\"]\n",
    "\n",
    "    # compress and base64 encoding --\n",
    "    binary_str = zlib.compress(encoded_mask, zlib.Z_BEST_COMPRESSION)\n",
    "    base64_str = base64.b64encode(binary_str)\n",
    "    return base64_str.decode('utf-8')\n"
   ]
  },
  {
   "cell_type": "code",
   "execution_count": null,
   "metadata": {},
   "outputs": [],
   "source": []
  }
 ],
 "metadata": {
  "kernelspec": {
   "display_name": "Python 3",
   "language": "python",
   "name": "python3"
  },
  "language_info": {
   "codemirror_mode": {
    "name": "ipython",
    "version": 3
   },
   "file_extension": ".py",
   "mimetype": "text/x-python",
   "name": "python",
   "nbconvert_exporter": "python",
   "pygments_lexer": "ipython3",
   "version": "3.7.3"
  }
 },
 "nbformat": 4,
 "nbformat_minor": 2
}

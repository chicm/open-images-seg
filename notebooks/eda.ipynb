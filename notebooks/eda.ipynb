{
 "cells": [
  {
   "cell_type": "code",
   "execution_count": 6,
   "metadata": {},
   "outputs": [],
   "source": [
    "import os\n",
    "import numpy as np\n",
    "import pandas as pd\n",
    "import torch\n",
    "import os.path as osp\n",
    "import json\n",
    "import pandas as pd\n",
    "from PIL import Image\n",
    "from matplotlib.pyplot import imshow\n",
    "import matplotlib.pyplot as plt\n",
    "import cv2\n",
    "import numpy as np\n",
    "%matplotlib inline\n",
    "from tqdm import tqdm\n",
    "import glob\n",
    "import pickle\n",
    "IMG_DIR = '/mnt/chicm/data/open-images/train/imgs'\n",
    "MASK_DIR = '/mnt/chicm/data/open-images/masks/train'\n",
    "DATA_DIR = '/mnt/chicm/data/open-images/segmentation'"
   ]
  },
  {
   "cell_type": "code",
   "execution_count": 104,
   "metadata": {},
   "outputs": [],
   "source": [
    "img_files = glob.glob(IMG_DIR + '/**/*.jpg')\n",
    "fullpath_dict = {}\n",
    "for fn in img_files:\n",
    "    fullpath_dict[osp.basename(fn).split('.')[0]] = osp.join(osp.basename(osp.dirname(fn)), fn)\n"
   ]
  },
  {
   "cell_type": "code",
   "execution_count": 2,
   "metadata": {},
   "outputs": [
    {
     "name": "stdout",
     "output_type": "stream",
     "text": [
      "challenge-2019-classes-description-segmentable.csv\r\n",
      "challenge-2019-label300-segmentable-hierarchy.json\r\n",
      "challenge-2019-train-segmentation-bbox.csv\r\n",
      "challenge-2019-train-segmentation-labels.csv\r\n",
      "challenge-2019-train-segmentation-masks.csv\r\n",
      "challenge-2019-validation-segmentation-bbox.csv\r\n",
      "challenge-2019-validation-segmentation-labels.csv\r\n",
      "challenge-2019-validation-segmentation-masks.csv\r\n",
      "eda.ipynb\r\n",
      "open-images-2019-instance-segmentation.zip\r\n",
      "sample_empty_submission.csv\r\n",
      "sample_truncated_submission.csv\r\n",
      "test.zip\r\n",
      "top_classes.csv\r\n"
     ]
    }
   ],
   "source": [
    "!ls"
   ]
  },
  {
   "cell_type": "code",
   "execution_count": 115,
   "metadata": {},
   "outputs": [
    {
     "data": {
      "text/html": [
       "<div>\n",
       "<style scoped>\n",
       "    .dataframe tbody tr th:only-of-type {\n",
       "        vertical-align: middle;\n",
       "    }\n",
       "\n",
       "    .dataframe tbody tr th {\n",
       "        vertical-align: top;\n",
       "    }\n",
       "\n",
       "    .dataframe thead th {\n",
       "        text-align: right;\n",
       "    }\n",
       "</style>\n",
       "<table border=\"1\" class=\"dataframe\">\n",
       "  <thead>\n",
       "    <tr style=\"text-align: right;\">\n",
       "      <th></th>\n",
       "      <th>class</th>\n",
       "      <th>name</th>\n",
       "    </tr>\n",
       "  </thead>\n",
       "  <tbody>\n",
       "    <tr>\n",
       "      <th>0</th>\n",
       "      <td>/m/01bms0</td>\n",
       "      <td>Screwdriver</td>\n",
       "    </tr>\n",
       "    <tr>\n",
       "      <th>1</th>\n",
       "      <td>/m/03jbxj</td>\n",
       "      <td>Light switch</td>\n",
       "    </tr>\n",
       "    <tr>\n",
       "      <th>2</th>\n",
       "      <td>/m/0jy4k</td>\n",
       "      <td>Doughnut</td>\n",
       "    </tr>\n",
       "    <tr>\n",
       "      <th>3</th>\n",
       "      <td>/m/09gtd</td>\n",
       "      <td>Toilet paper</td>\n",
       "    </tr>\n",
       "    <tr>\n",
       "      <th>4</th>\n",
       "      <td>/m/01j5ks</td>\n",
       "      <td>Wrench</td>\n",
       "    </tr>\n",
       "  </tbody>\n",
       "</table>\n",
       "</div>"
      ],
      "text/plain": [
       "       class          name\n",
       "0  /m/01bms0   Screwdriver\n",
       "1  /m/03jbxj  Light switch\n",
       "2   /m/0jy4k      Doughnut\n",
       "3   /m/09gtd  Toilet paper\n",
       "4  /m/01j5ks        Wrench"
      ]
     },
     "execution_count": 115,
     "metadata": {},
     "output_type": "execute_result"
    }
   ],
   "source": [
    "df_des = pd.read_csv('challenge-2019-classes-description-segmentable.csv', names=['class', 'name'])\n",
    "df_des.head()"
   ]
  },
  {
   "cell_type": "code",
   "execution_count": 118,
   "metadata": {},
   "outputs": [],
   "source": [
    "class_dict = df_des.set_index('class').to_dict()['name']"
   ]
  },
  {
   "cell_type": "code",
   "execution_count": 7,
   "metadata": {},
   "outputs": [],
   "source": [
    "with open('challenge-2019-label300-segmentable-hierarchy.json', 'r') as f:\n",
    "    h = json.load(f)"
   ]
  },
  {
   "cell_type": "code",
   "execution_count": 15,
   "metadata": {},
   "outputs": [
    {
     "data": {
      "text/plain": [
       "{'LabelName': '/m/0bl9f',\n",
       " 'Subcategory': [{'LabelName': '/m/0242l'},\n",
       "  {'LabelName': '/m/03120'},\n",
       "  {'LabelName': '/m/0138tl',\n",
       "   'Subcategory': [{'LabelName': '/m/01j51'},\n",
       "    {'LabelName': '/m/029b3'},\n",
       "    {'LabelName': '/m/02zt3'},\n",
       "    {'LabelName': '/m/0kmg4'}]},\n",
       "  {'LabelName': '/m/0174k2'},\n",
       "  {'LabelName': '/m/01k6s3'},\n",
       "  {'LabelName': '/m/029bxz'},\n",
       "  {'LabelName': '/m/03s_tn'},\n",
       "  {'LabelName': '/m/0fx9l'},\n",
       "  {'LabelName': '/m/02f9f_'},\n",
       "  {'LabelName': '/m/02jz0l'},\n",
       "  {'LabelName': '/m/09g1w'},\n",
       "  {'LabelName': '/m/01lsmm'},\n",
       "  {'LabelName': '/m/025dyy'},\n",
       "  {'LabelName': '/m/02d9qx'},\n",
       "  {'LabelName': '/m/03m3vtv'},\n",
       "  {'LabelName': '/m/05gqfk'},\n",
       "  {'LabelName': '/m/09gtd'},\n",
       "  {'LabelName': '/m/0frqm'},\n",
       "  {'LabelName': '/m/0k1tl'},\n",
       "  {'LabelName': '/m/02w3r3'},\n",
       "  {'LabelName': '/m/034c16'},\n",
       "  {'LabelName': '/m/01_5g'},\n",
       "  {'LabelName': '/m/02d1br'},\n",
       "  {'LabelName': '/m/03v5tg'},\n",
       "  {'LabelName': '/m/04ctx'},\n",
       "  {'LabelName': '/m/0cmx8'},\n",
       "  {'LabelName': '/m/01fh4r'},\n",
       "  {'LabelName': '/m/02jvh9'},\n",
       "  {'LabelName': '/m/02p5f1q'},\n",
       "  {'LabelName': '/m/03q5c7'},\n",
       "  {'LabelName': '/m/04dr76w'},\n",
       "  {'LabelName': '/m/04kkgm'},\n",
       "  {'LabelName': '/m/054fyh'},\n",
       "  {'LabelName': '/m/058qzx'},\n",
       "  {'LabelName': '/m/08hvt4'},\n",
       "  {'LabelName': '/m/099ssp'},\n",
       "  {'LabelName': '/m/04v6l4'},\n",
       "  {'LabelName': '/m/084rd'},\n",
       "  {'LabelName': '/m/02tsc9'},\n",
       "  {'LabelName': '/m/03y6mg'},\n",
       "  {'LabelName': '/m/0h8ntjv'},\n",
       "  {'LabelName': '/m/0bt_c3'},\n",
       "  {'LabelName': '/m/02crq1',\n",
       "   'Subcategory': [{'LabelName': '/m/03m3pdh'}, {'LabelName': '/m/0703r8'}]},\n",
       "  {'LabelName': '/m/026qbn5'},\n",
       "  {'LabelName': '/m/047j0r'},\n",
       "  {'LabelName': '/m/05kyg_'},\n",
       "  {'LabelName': '/m/0h8n6f9'},\n",
       "  {'LabelName': '/m/01x3z',\n",
       "   'Subcategory': [{'LabelName': '/m/046dlr'}, {'LabelName': '/m/06_72j'}]},\n",
       "  {'LabelName': '/m/025nd'},\n",
       "  {'LabelName': '/m/02s195'},\n",
       "  {'LabelName': '/m/06msq',\n",
       "   'Subcategory': [{'LabelName': '/m/04yqq2'}, {'LabelName': '/m/01yx86'}]},\n",
       "  {'LabelName': '/m/06z37_'},\n",
       "  {'LabelName': '/m/0c06p'},\n",
       "  {'LabelName': '/m/0fm3zh'},\n",
       "  {'LabelName': '/m/0162_1'},\n",
       "  {'LabelName': '/m/015qff'},\n",
       "  {'LabelName': '/m/01mqdt', 'Subcategory': [{'LabelName': '/m/02pv19'}]},\n",
       "  {'LabelName': '/m/01pns0'},\n",
       "  {'LabelName': '/m/04h7h'},\n",
       "  {'LabelName': '/m/079cl'},\n",
       "  {'LabelName': '/m/01g317',\n",
       "   'Subcategory': [{'LabelName': '/m/04yx4'},\n",
       "    {'LabelName': '/m/03bt1vf'},\n",
       "    {'LabelName': '/m/01bl7v'},\n",
       "    {'LabelName': '/m/05r655'}]},\n",
       "  {'LabelName': '/m/01b9xk'},\n",
       "  {'LabelName': '/m/01dwsz'},\n",
       "  {'LabelName': '/m/01dwwc'},\n",
       "  {'LabelName': '/m/01j3zr'},\n",
       "  {'LabelName': '/m/01f91_'},\n",
       "  {'LabelName': '/m/021mn'},\n",
       "  {'LabelName': '/m/01tcjp'},\n",
       "  {'LabelName': '/m/0fszt'},\n",
       "  {'LabelName': '/m/02g30s'},\n",
       "  {'LabelName': '/m/014j1m'},\n",
       "  {'LabelName': '/m/0388q'},\n",
       "  {'LabelName': '/m/043nyj'},\n",
       "  {'LabelName': '/m/061_f'},\n",
       "  {'LabelName': '/m/07fbm7'},\n",
       "  {'LabelName': '/m/07j87'},\n",
       "  {'LabelName': '/m/09k_b'},\n",
       "  {'LabelName': '/m/09qck'},\n",
       "  {'LabelName': '/m/0cyhj_'},\n",
       "  {'LabelName': '/m/0dj6p'},\n",
       "  {'LabelName': '/m/0fldg'},\n",
       "  {'LabelName': '/m/0hqkz'},\n",
       "  {'LabelName': '/m/0jwn_'},\n",
       "  {'LabelName': '/m/0kpqd'},\n",
       "  {'LabelName': '/m/01fb_0'},\n",
       "  {'LabelName': '/m/09728'},\n",
       "  {'LabelName': '/m/0jy4k'},\n",
       "  {'LabelName': '/m/015wgc'},\n",
       "  {'LabelName': '/m/02zvsm'},\n",
       "  {'LabelName': '/m/052sf'},\n",
       "  {'LabelName': '/m/0663v'},\n",
       "  {'LabelName': '/m/0_cp5'},\n",
       "  {'LabelName': '/m/015x4r'},\n",
       "  {'LabelName': '/m/015x5n'},\n",
       "  {'LabelName': '/m/05vtc'},\n",
       "  {'LabelName': '/m/0cjs7'},\n",
       "  {'LabelName': '/m/0dv77',\n",
       "   'Subcategory': [{'LabelName': '/m/05zsy'}, {'LabelName': '/m/027pcv'}]},\n",
       "  {'LabelName': '/m/0fbw6'},\n",
       "  {'LabelName': '/m/0fj52s'},\n",
       "  {'LabelName': '/m/0hkxq'},\n",
       "  {'LabelName': '/m/0jg57'},\n",
       "  {'LabelName': '/m/02cvgx'},\n",
       "  {'LabelName': '/m/0l515',\n",
       "   'Subcategory': [{'LabelName': '/m/0cdn1'}, {'LabelName': '/m/06pcq'}]},\n",
       "  {'LabelName': '/m/0c9ph5',\n",
       "   'Subcategory': [{'LabelName': '/m/06m11'}, {'LabelName': '/m/0ftb8'}]},\n",
       "  {'LabelName': '/m/012n7d'},\n",
       "  {'LabelName': '/m/01bjv'},\n",
       "  {'LabelName': '/m/01x3jk'},\n",
       "  {'LabelName': '/m/04_sv'},\n",
       "  {'LabelName': '/m/076bq'},\n",
       "  {'LabelName': '/m/07cmd'},\n",
       "  {'LabelName': '/m/07jdr'},\n",
       "  {'LabelName': '/m/07r04'},\n",
       "  {'LabelName': '/m/0k4j',\n",
       "   'Subcategory': [{'LabelName': '/m/01lcw4'}, {'LabelName': '/m/0h2r6'}]},\n",
       "  {'LabelName': '/m/0pg52'},\n",
       "  {'LabelName': '/m/01btn'},\n",
       "  {'LabelName': '/m/0ph39'},\n",
       "  {'LabelName': '/m/01xs3r'},\n",
       "  {'LabelName': '/m/0k5j',\n",
       "   'Subcategory': [{'LabelName': '/m/0cmf2'}, {'LabelName': '/m/09rvcxw'}]},\n",
       "  {'LabelName': '/m/01bfm9'},\n",
       "  {'LabelName': '/m/01d40f'},\n",
       "  {'LabelName': '/m/01gkx_'},\n",
       "  {'LabelName': '/m/01n4qj'},\n",
       "  {'LabelName': '/m/01xyhv'},\n",
       "  {'LabelName': '/m/02dl1y',\n",
       "   'Subcategory': [{'LabelName': '/m/025rp__'},\n",
       "    {'LabelName': '/m/02fq_6'},\n",
       "    {'LabelName': '/m/02jfl0'},\n",
       "    {'LabelName': '/m/02wbtzl'}]},\n",
       "  {'LabelName': '/m/02h19r'},\n",
       "  {'LabelName': '/m/02wv6h6', 'Subcategory': [{'LabelName': '/m/01cmb2'}]},\n",
       "  {'LabelName': '/m/0174n1', 'Subcategory': [{'LabelName': '/m/03grzl'}]},\n",
       "  {'LabelName': '/m/0176mf'},\n",
       "  {'LabelName': '/m/01nq26'},\n",
       "  {'LabelName': '/m/01rkbr'},\n",
       "  {'LabelName': '/m/0gjkl'},\n",
       "  {'LabelName': '/m/04tn4x'},\n",
       "  {'LabelName': '/m/07mhn', 'Subcategory': [{'LabelName': '/m/0fly7'}]},\n",
       "  {'LabelName': '/m/02p3w7d'},\n",
       "  {'LabelName': '/m/01b638'},\n",
       "  {'LabelName': '/m/06k2mb'},\n",
       "  {'LabelName': '/m/0hf58v5',\n",
       "   'Subcategory': [{'LabelName': '/m/01940j'},\n",
       "    {'LabelName': '/m/01s55n'},\n",
       "    {'LabelName': '/m/0584n8'},\n",
       "    {'LabelName': '/m/080hkjn'}]},\n",
       "  {'LabelName': '/m/015p6',\n",
       "   'Subcategory': [{'LabelName': '/m/01dy8n'},\n",
       "    {'LabelName': '/m/01f8m5'},\n",
       "    {'LabelName': '/m/05n4y'},\n",
       "    {'LabelName': '/m/05z6w'},\n",
       "    {'LabelName': '/m/06j2d'},\n",
       "    {'LabelName': '/m/09b5t'},\n",
       "    {'LabelName': '/m/09csl'},\n",
       "    {'LabelName': '/m/09d5_'},\n",
       "    {'LabelName': '/m/09ddx'},\n",
       "    {'LabelName': '/m/0ccs93'},\n",
       "    {'LabelName': '/m/0dbvp'},\n",
       "    {'LabelName': '/m/0dftk'},\n",
       "    {'LabelName': '/m/0f6wt'},\n",
       "    {'LabelName': '/m/0gv1x'},\n",
       "    {'LabelName': '/m/0h23m'},\n",
       "    {'LabelName': '/m/0jly1'}]},\n",
       "  {'LabelName': '/m/01h8tj'},\n",
       "  {'LabelName': '/m/01h44'},\n",
       "  {'LabelName': '/m/01lrl',\n",
       "   'Subcategory': [{'LabelName': '/m/01dws',\n",
       "     'Subcategory': [{'LabelName': '/m/01dxs'},\n",
       "      {'LabelName': '/m/0633h'},\n",
       "      {'LabelName': '/m/0kmg4'}]},\n",
       "    {'LabelName': '/m/01yrx'},\n",
       "    {'LabelName': '/m/0306r'},\n",
       "    {'LabelName': '/m/0449p'},\n",
       "    {'LabelName': '/m/04g2r'},\n",
       "    {'LabelName': '/m/07dm6'},\n",
       "    {'LabelName': '/m/096mb'},\n",
       "    {'LabelName': '/m/0bt9lr'},\n",
       "    {'LabelName': '/m/0c29q'},\n",
       "    {'LabelName': '/m/0cd4d'},\n",
       "    {'LabelName': '/m/0cn6p'},\n",
       "    {'LabelName': '/m/0dq75'}]},\n",
       "  {'LabelName': '/m/01x_v'},\n",
       "  {'LabelName': '/m/01xq0k1'},\n",
       "  {'LabelName': '/m/03bk1'},\n",
       "  {'LabelName': '/m/03d443'},\n",
       "  {'LabelName': '/m/03fwl'},\n",
       "  {'LabelName': '/m/03k3r'},\n",
       "  {'LabelName': '/m/03qrc'},\n",
       "  {'LabelName': '/m/04c0y'},\n",
       "  {'LabelName': '/m/04rmv'},\n",
       "  {'LabelName': '/m/068zj'},\n",
       "  {'LabelName': '/m/06mf6'},\n",
       "  {'LabelName': '/m/071qp'},\n",
       "  {'LabelName': '/m/07bgp'},\n",
       "  {'LabelName': '/m/0898b'},\n",
       "  {'LabelName': '/m/08pbxl'},\n",
       "  {'LabelName': '/m/0bwd_0j'},\n",
       "  {'LabelName': '/m/0cnyhnx'},\n",
       "  {'LabelName': '/m/0dbzx'},\n",
       "  {'LabelName': '/m/02hj4'},\n",
       "  {'LabelName': '/m/084zz'},\n",
       "  {'LabelName': '/m/0gd36'},\n",
       "  {'LabelName': '/m/02l8p9'},\n",
       "  {'LabelName': '/m/0pcr'},\n",
       "  {'LabelName': '/m/06bt6',\n",
       "   'Subcategory': [{'LabelName': '/m/04m9y'},\n",
       "    {'LabelName': '/m/078jl'},\n",
       "    {'LabelName': '/m/09dzg',\n",
       "     'Subcategory': [{'LabelName': '/m/011k07'}, {'LabelName': '/m/0120dh'}]},\n",
       "    {'LabelName': '/m/09f_2'},\n",
       "    {'LabelName': '/m/09ld4'}]},\n",
       "  {'LabelName': '/m/0ch_cf',\n",
       "   'Subcategory': [{'LabelName': '/m/03fj2'}, {'LabelName': '/m/0by6g'}]},\n",
       "  {'LabelName': '/m/01xqw'},\n",
       "  {'LabelName': '/m/0342h'},\n",
       "  {'LabelName': '/m/03q5t'},\n",
       "  {'LabelName': '/m/05r5c'},\n",
       "  {'LabelName': '/m/06ncr'},\n",
       "  {'LabelName': '/m/0l14j_'},\n",
       "  {'LabelName': '/m/018xm',\n",
       "   'Subcategory': [{'LabelName': '/m/01226z'},\n",
       "    {'LabelName': '/m/02rgn06'},\n",
       "    {'LabelName': '/m/05ctyq'},\n",
       "    {'LabelName': '/m/0wdt60w'}]},\n",
       "  {'LabelName': '/m/019w40'},\n",
       "  {'LabelName': '/m/03g8mr'},\n",
       "  {'LabelName': '/m/0420v5'},\n",
       "  {'LabelName': '/m/06_fw'},\n",
       "  {'LabelName': '/m/04h8sr'},\n",
       "  {'LabelName': '/m/0dv9c',\n",
       "   'Subcategory': [{'LabelName': '/m/0h8my_4'}, {'LabelName': '/m/05_5p_0'}]},\n",
       "  {'LabelName': '/m/04p0qw'},\n",
       "  {'LabelName': '/m/02zn6n'},\n",
       "  {'LabelName': '/m/0bjyj5'},\n",
       "  {'LabelName': '/m/0d20w4'},\n",
       "  {'LabelName': '/m/01bms0'},\n",
       "  {'LabelName': '/m/01j5ks'},\n",
       "  {'LabelName': '/m/01kb5b'},\n",
       "  {'LabelName': '/m/05bm6'},\n",
       "  {'LabelName': '/m/07dd4'},\n",
       "  {'LabelName': '/m/0dv5r'},\n",
       "  {'LabelName': '/m/0hdln'},\n",
       "  {'LabelName': '/m/0lt4_'},\n",
       "  {'LabelName': '/m/02gzp'},\n",
       "  {'LabelName': '/m/0gxl3'},\n",
       "  {'LabelName': '/m/06y5r'},\n",
       "  {'LabelName': '/m/04ylt'},\n",
       "  {'LabelName': '/m/01c648'},\n",
       "  {'LabelName': '/m/01m2v'},\n",
       "  {'LabelName': '/m/01m4t'},\n",
       "  {'LabelName': '/m/020lf'},\n",
       "  {'LabelName': '/m/03bbps'},\n",
       "  {'LabelName': '/m/03jbxj'},\n",
       "  {'LabelName': '/m/050k8'},\n",
       "  {'LabelName': '/m/0h8lkj8'},\n",
       "  {'LabelName': '/m/0bh9flk'},\n",
       "  {'LabelName': '/m/0271t',\n",
       "   'Subcategory': [{'LabelName': '/m/01599'},\n",
       "    {'LabelName': '/m/024g6'},\n",
       "    {'LabelName': '/m/02vqfm'},\n",
       "    {'LabelName': '/m/01z1kdw'},\n",
       "    {'LabelName': '/m/07clx'},\n",
       "    {'LabelName': '/m/081qc'}]},\n",
       "  {'LabelName': '/m/01bqk0'},\n",
       "  {'LabelName': '/m/03c7gz'},\n",
       "  {'LabelName': '/m/016m2d'},\n",
       "  {'LabelName': '/m/0283dt1'},\n",
       "  {'LabelName': '/m/039xj_'},\n",
       "  {'LabelName': '/m/01jfm_'},\n",
       "  {'LabelName': '/m/083wq'},\n",
       "  {'LabelName': '/m/0dkzw'}]}"
      ]
     },
     "execution_count": 15,
     "metadata": {},
     "output_type": "execute_result"
    }
   ],
   "source": [
    " 'Subcategory': [{'LabelName': '/m/0242l'},\n",
    "h"
   ]
  },
  {
   "cell_type": "code",
   "execution_count": 135,
   "metadata": {},
   "outputs": [],
   "source": [
    "leaf_classes = []\n",
    "parent_classes = []\n",
    "parent_dict = {}\n",
    "\n",
    "def travel(root, parent=[]):\n",
    "    if 'Subcategory' in root:\n",
    "        parent_classes.append(root['LabelName'])\n",
    "        for c in root['Subcategory']:\n",
    "            travel(c, parent+[root['LabelName']])\n",
    "    else:\n",
    "        leaf_classes.append(root['LabelName'])\n",
    "        parent_dict[root['LabelName']] = parent\n",
    "\n",
    "travel(h)"
   ]
  },
  {
   "cell_type": "code",
   "execution_count": 42,
   "metadata": {},
   "outputs": [
    {
     "data": {
      "text/plain": [
       "['/m/011k07',\n",
       " '/m/0120dh',\n",
       " '/m/01226z',\n",
       " '/m/012n7d',\n",
       " '/m/014j1m',\n",
       " '/m/01599',\n",
       " '/m/015qff',\n",
       " '/m/015wgc',\n",
       " '/m/015x4r',\n",
       " '/m/015x5n',\n",
       " '/m/0162_1',\n",
       " '/m/016m2d',\n",
       " '/m/0174k2',\n",
       " '/m/0176mf',\n",
       " '/m/01940j',\n",
       " '/m/019w40',\n",
       " '/m/01_5g',\n",
       " '/m/01b638',\n",
       " '/m/01b9xk',\n",
       " '/m/01bfm9',\n",
       " '/m/01bjv',\n",
       " '/m/01bl7v',\n",
       " '/m/01bms0',\n",
       " '/m/01bqk0',\n",
       " '/m/01btn',\n",
       " '/m/01c648',\n",
       " '/m/01cmb2',\n",
       " '/m/01d40f',\n",
       " '/m/01dwsz',\n",
       " '/m/01dwwc',\n",
       " '/m/01dxs',\n",
       " '/m/01dy8n',\n",
       " '/m/01f8m5',\n",
       " '/m/01f91_',\n",
       " '/m/01fb_0',\n",
       " '/m/01fh4r',\n",
       " '/m/01gkx_',\n",
       " '/m/01h44',\n",
       " '/m/01h8tj',\n",
       " '/m/01j3zr',\n",
       " '/m/01j51',\n",
       " '/m/01j5ks',\n",
       " '/m/01jfm_',\n",
       " '/m/01k6s3',\n",
       " '/m/01kb5b',\n",
       " '/m/01lcw4',\n",
       " '/m/01lsmm',\n",
       " '/m/01m2v',\n",
       " '/m/01m4t',\n",
       " '/m/01n4qj',\n",
       " '/m/01nq26',\n",
       " '/m/01pns0',\n",
       " '/m/01rkbr',\n",
       " '/m/01s55n',\n",
       " '/m/01tcjp',\n",
       " '/m/01x3jk',\n",
       " '/m/01x_v',\n",
       " '/m/01xq0k1',\n",
       " '/m/01xqw',\n",
       " '/m/01xs3r',\n",
       " '/m/01xyhv',\n",
       " '/m/01yrx',\n",
       " '/m/01yx86',\n",
       " '/m/01z1kdw',\n",
       " '/m/020lf',\n",
       " '/m/021mn',\n",
       " '/m/0242l',\n",
       " '/m/024g6',\n",
       " '/m/025dyy',\n",
       " '/m/025nd',\n",
       " '/m/025rp__',\n",
       " '/m/026qbn5',\n",
       " '/m/027pcv',\n",
       " '/m/0283dt1',\n",
       " '/m/029b3',\n",
       " '/m/029bxz',\n",
       " '/m/02cvgx',\n",
       " '/m/02d1br',\n",
       " '/m/02d9qx',\n",
       " '/m/02f9f_',\n",
       " '/m/02fq_6',\n",
       " '/m/02g30s',\n",
       " '/m/02gzp',\n",
       " '/m/02h19r',\n",
       " '/m/02hj4',\n",
       " '/m/02jfl0',\n",
       " '/m/02jvh9',\n",
       " '/m/02jz0l',\n",
       " '/m/02l8p9',\n",
       " '/m/02p3w7d',\n",
       " '/m/02p5f1q',\n",
       " '/m/02pv19',\n",
       " '/m/02rgn06',\n",
       " '/m/02s195',\n",
       " '/m/02tsc9',\n",
       " '/m/02vqfm',\n",
       " '/m/02w3r3',\n",
       " '/m/02wbtzl',\n",
       " '/m/02zn6n',\n",
       " '/m/02zt3',\n",
       " '/m/02zvsm',\n",
       " '/m/0306r',\n",
       " '/m/03120',\n",
       " '/m/0342h',\n",
       " '/m/034c16',\n",
       " '/m/0388q',\n",
       " '/m/039xj_',\n",
       " '/m/03bbps',\n",
       " '/m/03bk1',\n",
       " '/m/03bt1vf',\n",
       " '/m/03c7gz',\n",
       " '/m/03d443',\n",
       " '/m/03fj2',\n",
       " '/m/03fwl',\n",
       " '/m/03g8mr',\n",
       " '/m/03grzl',\n",
       " '/m/03jbxj',\n",
       " '/m/03k3r',\n",
       " '/m/03m3pdh',\n",
       " '/m/03m3vtv',\n",
       " '/m/03q5c7',\n",
       " '/m/03q5t',\n",
       " '/m/03qrc',\n",
       " '/m/03s_tn',\n",
       " '/m/03v5tg',\n",
       " '/m/03y6mg',\n",
       " '/m/0420v5',\n",
       " '/m/043nyj',\n",
       " '/m/0449p',\n",
       " '/m/046dlr',\n",
       " '/m/047j0r',\n",
       " '/m/04_sv',\n",
       " '/m/04c0y',\n",
       " '/m/04ctx',\n",
       " '/m/04dr76w',\n",
       " '/m/04g2r',\n",
       " '/m/04h7h',\n",
       " '/m/04h8sr',\n",
       " '/m/04kkgm',\n",
       " '/m/04m9y',\n",
       " '/m/04p0qw',\n",
       " '/m/04rmv',\n",
       " '/m/04tn4x',\n",
       " '/m/04v6l4',\n",
       " '/m/04ylt',\n",
       " '/m/04yqq2',\n",
       " '/m/04yx4',\n",
       " '/m/050k8',\n",
       " '/m/052sf',\n",
       " '/m/054fyh',\n",
       " '/m/0584n8',\n",
       " '/m/058qzx',\n",
       " '/m/05_5p_0',\n",
       " '/m/05bm6',\n",
       " '/m/05ctyq',\n",
       " '/m/05gqfk',\n",
       " '/m/05kyg_',\n",
       " '/m/05n4y',\n",
       " '/m/05r5c',\n",
       " '/m/05r655',\n",
       " '/m/05vtc',\n",
       " '/m/05z6w',\n",
       " '/m/05zsy',\n",
       " '/m/061_f',\n",
       " '/m/0633h',\n",
       " '/m/0663v',\n",
       " '/m/068zj',\n",
       " '/m/06_72j',\n",
       " '/m/06_fw',\n",
       " '/m/06j2d',\n",
       " '/m/06k2mb',\n",
       " '/m/06m11',\n",
       " '/m/06mf6',\n",
       " '/m/06ncr',\n",
       " '/m/06pcq',\n",
       " '/m/06y5r',\n",
       " '/m/06z37_',\n",
       " '/m/0703r8',\n",
       " '/m/071qp',\n",
       " '/m/076bq',\n",
       " '/m/078jl',\n",
       " '/m/079cl',\n",
       " '/m/07bgp',\n",
       " '/m/07clx',\n",
       " '/m/07cmd',\n",
       " '/m/07dd4',\n",
       " '/m/07dm6',\n",
       " '/m/07fbm7',\n",
       " '/m/07j87',\n",
       " '/m/07jdr',\n",
       " '/m/07r04',\n",
       " '/m/080hkjn',\n",
       " '/m/081qc',\n",
       " '/m/083wq',\n",
       " '/m/084rd',\n",
       " '/m/084zz',\n",
       " '/m/0898b',\n",
       " '/m/08hvt4',\n",
       " '/m/08pbxl',\n",
       " '/m/096mb',\n",
       " '/m/09728',\n",
       " '/m/099ssp',\n",
       " '/m/09b5t',\n",
       " '/m/09csl',\n",
       " '/m/09d5_',\n",
       " '/m/09ddx',\n",
       " '/m/09f_2',\n",
       " '/m/09g1w',\n",
       " '/m/09gtd',\n",
       " '/m/09k_b',\n",
       " '/m/09ld4',\n",
       " '/m/09qck',\n",
       " '/m/09rvcxw',\n",
       " '/m/0_cp5',\n",
       " '/m/0bh9flk',\n",
       " '/m/0bjyj5',\n",
       " '/m/0bt9lr',\n",
       " '/m/0bt_c3',\n",
       " '/m/0bwd_0j',\n",
       " '/m/0by6g',\n",
       " '/m/0c06p',\n",
       " '/m/0c29q',\n",
       " '/m/0ccs93',\n",
       " '/m/0cd4d',\n",
       " '/m/0cdn1',\n",
       " '/m/0cjs7',\n",
       " '/m/0cmf2',\n",
       " '/m/0cmx8',\n",
       " '/m/0cn6p',\n",
       " '/m/0cnyhnx',\n",
       " '/m/0cyhj_',\n",
       " '/m/0d20w4',\n",
       " '/m/0dbvp',\n",
       " '/m/0dbzx',\n",
       " '/m/0dftk',\n",
       " '/m/0dj6p',\n",
       " '/m/0dkzw',\n",
       " '/m/0dq75',\n",
       " '/m/0dv5r',\n",
       " '/m/0f6wt',\n",
       " '/m/0fbw6',\n",
       " '/m/0fj52s',\n",
       " '/m/0fldg',\n",
       " '/m/0fly7',\n",
       " '/m/0fm3zh',\n",
       " '/m/0frqm',\n",
       " '/m/0fszt',\n",
       " '/m/0ftb8',\n",
       " '/m/0fx9l',\n",
       " '/m/0gd36',\n",
       " '/m/0gjkl',\n",
       " '/m/0gv1x',\n",
       " '/m/0gxl3',\n",
       " '/m/0h23m',\n",
       " '/m/0h2r6',\n",
       " '/m/0h8lkj8',\n",
       " '/m/0h8my_4',\n",
       " '/m/0h8n6f9',\n",
       " '/m/0h8ntjv',\n",
       " '/m/0hdln',\n",
       " '/m/0hkxq',\n",
       " '/m/0hqkz',\n",
       " '/m/0jg57',\n",
       " '/m/0jly1',\n",
       " '/m/0jwn_',\n",
       " '/m/0jy4k',\n",
       " '/m/0k1tl',\n",
       " '/m/0kmg4',\n",
       " '/m/0kmg4',\n",
       " '/m/0kpqd',\n",
       " '/m/0l14j_',\n",
       " '/m/0lt4_',\n",
       " '/m/0pcr',\n",
       " '/m/0pg52',\n",
       " '/m/0ph39',\n",
       " '/m/0wdt60w']"
      ]
     },
     "execution_count": 42,
     "metadata": {},
     "output_type": "execute_result"
    }
   ],
   "source": [
    "sorted(leaf_classes)"
   ]
  },
  {
   "cell_type": "code",
   "execution_count": 140,
   "metadata": {},
   "outputs": [
    {
     "data": {
      "text/plain": [
       "['/m/0bl9f', '/m/0138tl']"
      ]
     },
     "execution_count": 140,
     "metadata": {},
     "output_type": "execute_result"
    }
   ],
   "source": [
    "parent_dict['/m/029b3']"
   ]
  },
  {
   "cell_type": "code",
   "execution_count": 136,
   "metadata": {},
   "outputs": [
    {
     "data": {
      "text/plain": [
       "276"
      ]
     },
     "execution_count": 136,
     "metadata": {},
     "output_type": "execute_result"
    }
   ],
   "source": [
    "len(leaf_classes)"
   ]
  },
  {
   "cell_type": "code",
   "execution_count": 137,
   "metadata": {},
   "outputs": [
    {
     "data": {
      "text/plain": [
       "26"
      ]
     },
     "execution_count": 137,
     "metadata": {},
     "output_type": "execute_result"
    }
   ],
   "source": [
    "len(parent_classes)"
   ]
  },
  {
   "cell_type": "code",
   "execution_count": 27,
   "metadata": {},
   "outputs": [
    {
     "data": {
      "text/plain": [
       "['/m/0bl9f',\n",
       " '/m/0138tl',\n",
       " '/m/02crq1',\n",
       " '/m/01x3z',\n",
       " '/m/06msq',\n",
       " '/m/01mqdt',\n",
       " '/m/01g317',\n",
       " '/m/0dv77',\n",
       " '/m/0l515',\n",
       " '/m/0c9ph5',\n",
       " '/m/0k4j',\n",
       " '/m/0k5j',\n",
       " '/m/02dl1y',\n",
       " '/m/02wv6h6',\n",
       " '/m/0174n1',\n",
       " '/m/07mhn',\n",
       " '/m/0hf58v5',\n",
       " '/m/015p6',\n",
       " '/m/01lrl',\n",
       " '/m/01dws',\n",
       " '/m/06bt6',\n",
       " '/m/09dzg',\n",
       " '/m/0ch_cf',\n",
       " '/m/018xm',\n",
       " '/m/0dv9c',\n",
       " '/m/0271t']"
      ]
     },
     "execution_count": 27,
     "metadata": {},
     "output_type": "execute_result"
    }
   ],
   "source": [
    "parent_classes"
   ]
  },
  {
   "cell_type": "code",
   "execution_count": 28,
   "metadata": {},
   "outputs": [],
   "source": [
    "df_box = pd.read_csv('challenge-2019-train-segmentation-bbox.csv')"
   ]
  },
  {
   "cell_type": "code",
   "execution_count": 45,
   "metadata": {},
   "outputs": [
    {
     "data": {
      "text/html": [
       "<div>\n",
       "<style scoped>\n",
       "    .dataframe tbody tr th:only-of-type {\n",
       "        vertical-align: middle;\n",
       "    }\n",
       "\n",
       "    .dataframe tbody tr th {\n",
       "        vertical-align: top;\n",
       "    }\n",
       "\n",
       "    .dataframe thead th {\n",
       "        text-align: right;\n",
       "    }\n",
       "</style>\n",
       "<table border=\"1\" class=\"dataframe\">\n",
       "  <thead>\n",
       "    <tr style=\"text-align: right;\">\n",
       "      <th></th>\n",
       "      <th>ImageID</th>\n",
       "      <th>LabelName</th>\n",
       "      <th>XMin</th>\n",
       "      <th>XMax</th>\n",
       "      <th>YMin</th>\n",
       "      <th>YMax</th>\n",
       "      <th>IsGroupOf</th>\n",
       "    </tr>\n",
       "  </thead>\n",
       "  <tbody>\n",
       "    <tr>\n",
       "      <th>0</th>\n",
       "      <td>5f866de5eeff2ea9</td>\n",
       "      <td>/m/04dr76w</td>\n",
       "      <td>0.259375</td>\n",
       "      <td>0.336250</td>\n",
       "      <td>0.893697</td>\n",
       "      <td>0.999059</td>\n",
       "      <td>0</td>\n",
       "    </tr>\n",
       "    <tr>\n",
       "      <th>1</th>\n",
       "      <td>5f866de5eeff2ea9</td>\n",
       "      <td>/m/04dr76w</td>\n",
       "      <td>0.275000</td>\n",
       "      <td>0.363125</td>\n",
       "      <td>0.750706</td>\n",
       "      <td>0.952963</td>\n",
       "      <td>0</td>\n",
       "    </tr>\n",
       "    <tr>\n",
       "      <th>2</th>\n",
       "      <td>5f866de5eeff2ea9</td>\n",
       "      <td>/m/04dr76w</td>\n",
       "      <td>0.322500</td>\n",
       "      <td>0.423750</td>\n",
       "      <td>0.921919</td>\n",
       "      <td>0.999059</td>\n",
       "      <td>0</td>\n",
       "    </tr>\n",
       "    <tr>\n",
       "      <th>3</th>\n",
       "      <td>5f866de5eeff2ea9</td>\n",
       "      <td>/m/04dr76w</td>\n",
       "      <td>0.323750</td>\n",
       "      <td>0.404375</td>\n",
       "      <td>0.561618</td>\n",
       "      <td>0.781750</td>\n",
       "      <td>0</td>\n",
       "    </tr>\n",
       "    <tr>\n",
       "      <th>4</th>\n",
       "      <td>5f866de5eeff2ea9</td>\n",
       "      <td>/m/04dr76w</td>\n",
       "      <td>0.368750</td>\n",
       "      <td>0.451875</td>\n",
       "      <td>0.763876</td>\n",
       "      <td>0.927563</td>\n",
       "      <td>0</td>\n",
       "    </tr>\n",
       "  </tbody>\n",
       "</table>\n",
       "</div>"
      ],
      "text/plain": [
       "            ImageID   LabelName      XMin      XMax      YMin      YMax  \\\n",
       "0  5f866de5eeff2ea9  /m/04dr76w  0.259375  0.336250  0.893697  0.999059   \n",
       "1  5f866de5eeff2ea9  /m/04dr76w  0.275000  0.363125  0.750706  0.952963   \n",
       "2  5f866de5eeff2ea9  /m/04dr76w  0.322500  0.423750  0.921919  0.999059   \n",
       "3  5f866de5eeff2ea9  /m/04dr76w  0.323750  0.404375  0.561618  0.781750   \n",
       "4  5f866de5eeff2ea9  /m/04dr76w  0.368750  0.451875  0.763876  0.927563   \n",
       "\n",
       "   IsGroupOf  \n",
       "0          0  \n",
       "1          0  \n",
       "2          0  \n",
       "3          0  \n",
       "4          0  "
      ]
     },
     "execution_count": 45,
     "metadata": {},
     "output_type": "execute_result"
    }
   ],
   "source": [
    "df_box.head()"
   ]
  },
  {
   "cell_type": "code",
   "execution_count": 29,
   "metadata": {},
   "outputs": [
    {
     "data": {
      "text/plain": [
       "(5984294, 7)"
      ]
     },
     "execution_count": 29,
     "metadata": {},
     "output_type": "execute_result"
    }
   ],
   "source": [
    "df_box.shape"
   ]
  },
  {
   "cell_type": "code",
   "execution_count": 46,
   "metadata": {},
   "outputs": [
    {
     "data": {
      "text/plain": [
       "300"
      ]
     },
     "execution_count": 46,
     "metadata": {},
     "output_type": "execute_result"
    }
   ],
   "source": [
    "len(df_box.LabelName.unique())"
   ]
  },
  {
   "cell_type": "code",
   "execution_count": 51,
   "metadata": {},
   "outputs": [
    {
     "data": {
      "text/plain": [
       "1242734"
      ]
     },
     "execution_count": 51,
     "metadata": {},
     "output_type": "execute_result"
    }
   ],
   "source": [
    "len(df_box.ImageID.unique())"
   ]
  },
  {
   "cell_type": "code",
   "execution_count": 7,
   "metadata": {},
   "outputs": [
    {
     "data": {
      "text/html": [
       "<div>\n",
       "<style scoped>\n",
       "    .dataframe tbody tr th:only-of-type {\n",
       "        vertical-align: middle;\n",
       "    }\n",
       "\n",
       "    .dataframe tbody tr th {\n",
       "        vertical-align: top;\n",
       "    }\n",
       "\n",
       "    .dataframe thead th {\n",
       "        text-align: right;\n",
       "    }\n",
       "</style>\n",
       "<table border=\"1\" class=\"dataframe\">\n",
       "  <thead>\n",
       "    <tr style=\"text-align: right;\">\n",
       "      <th></th>\n",
       "      <th>MaskPath</th>\n",
       "      <th>ImageID</th>\n",
       "      <th>LabelName</th>\n",
       "      <th>BoxID</th>\n",
       "      <th>BoxXMin</th>\n",
       "      <th>BoxXMax</th>\n",
       "      <th>BoxYMin</th>\n",
       "      <th>BoxYMax</th>\n",
       "      <th>PredictedIoU</th>\n",
       "      <th>Clicks</th>\n",
       "    </tr>\n",
       "  </thead>\n",
       "  <tbody>\n",
       "    <tr>\n",
       "      <th>0</th>\n",
       "      <td>ccead8c5906e6e11_m09ddx_a881dc5b.png</td>\n",
       "      <td>ccead8c5906e6e11</td>\n",
       "      <td>/m/09ddx</td>\n",
       "      <td>a881dc5b</td>\n",
       "      <td>0.319531</td>\n",
       "      <td>0.657812</td>\n",
       "      <td>0.328271</td>\n",
       "      <td>0.738318</td>\n",
       "      <td>0.88407</td>\n",
       "      <td>0.62748 0.63862 0;0.44461 0.72795 1;0.44990 0....</td>\n",
       "    </tr>\n",
       "    <tr>\n",
       "      <th>1</th>\n",
       "      <td>88e582a7b14e34a8_m039xj__6133896f.png</td>\n",
       "      <td>88e582a7b14e34a8</td>\n",
       "      <td>/m/039xj_</td>\n",
       "      <td>6133896f</td>\n",
       "      <td>0.756250</td>\n",
       "      <td>0.810625</td>\n",
       "      <td>0.326797</td>\n",
       "      <td>0.442577</td>\n",
       "      <td>0.76044</td>\n",
       "      <td>0.76475 0.42231 0;0.79720 0.32467 1;0.76502 0....</td>\n",
       "    </tr>\n",
       "    <tr>\n",
       "      <th>2</th>\n",
       "      <td>280849e5239012cb_m0342h_c420399e.png</td>\n",
       "      <td>280849e5239012cb</td>\n",
       "      <td>/m/0342h</td>\n",
       "      <td>c420399e</td>\n",
       "      <td>0.000000</td>\n",
       "      <td>0.513950</td>\n",
       "      <td>0.600586</td>\n",
       "      <td>0.739258</td>\n",
       "      <td>0.88397</td>\n",
       "      <td>0.00690 0.67839 1;0.11382 0.62844 0;0.08955 0....</td>\n",
       "    </tr>\n",
       "    <tr>\n",
       "      <th>3</th>\n",
       "      <td>6533d5bbc139857d_m0342h_9466984b.png</td>\n",
       "      <td>6533d5bbc139857d</td>\n",
       "      <td>/m/0342h</td>\n",
       "      <td>9466984b</td>\n",
       "      <td>0.115625</td>\n",
       "      <td>0.312500</td>\n",
       "      <td>0.414634</td>\n",
       "      <td>0.605066</td>\n",
       "      <td>0.57796</td>\n",
       "      <td>0.17948 0.51202 1;0.22844 0.50576 0;0.17219 0....</td>\n",
       "    </tr>\n",
       "    <tr>\n",
       "      <th>4</th>\n",
       "      <td>74362934ae874b7d_m083wq_0e0c104e.png</td>\n",
       "      <td>74362934ae874b7d</td>\n",
       "      <td>/m/083wq</td>\n",
       "      <td>0e0c104e</td>\n",
       "      <td>0.006250</td>\n",
       "      <td>0.081875</td>\n",
       "      <td>0.470833</td>\n",
       "      <td>0.635833</td>\n",
       "      <td>0.83177</td>\n",
       "      <td>0.00726 0.56089 1;0.06891 0.61937 1;0.07646 0....</td>\n",
       "    </tr>\n",
       "  </tbody>\n",
       "</table>\n",
       "</div>"
      ],
      "text/plain": [
       "                                MaskPath           ImageID  LabelName  \\\n",
       "0   ccead8c5906e6e11_m09ddx_a881dc5b.png  ccead8c5906e6e11   /m/09ddx   \n",
       "1  88e582a7b14e34a8_m039xj__6133896f.png  88e582a7b14e34a8  /m/039xj_   \n",
       "2   280849e5239012cb_m0342h_c420399e.png  280849e5239012cb   /m/0342h   \n",
       "3   6533d5bbc139857d_m0342h_9466984b.png  6533d5bbc139857d   /m/0342h   \n",
       "4   74362934ae874b7d_m083wq_0e0c104e.png  74362934ae874b7d   /m/083wq   \n",
       "\n",
       "      BoxID   BoxXMin   BoxXMax   BoxYMin   BoxYMax  PredictedIoU  \\\n",
       "0  a881dc5b  0.319531  0.657812  0.328271  0.738318       0.88407   \n",
       "1  6133896f  0.756250  0.810625  0.326797  0.442577       0.76044   \n",
       "2  c420399e  0.000000  0.513950  0.600586  0.739258       0.88397   \n",
       "3  9466984b  0.115625  0.312500  0.414634  0.605066       0.57796   \n",
       "4  0e0c104e  0.006250  0.081875  0.470833  0.635833       0.83177   \n",
       "\n",
       "                                              Clicks  \n",
       "0  0.62748 0.63862 0;0.44461 0.72795 1;0.44990 0....  \n",
       "1  0.76475 0.42231 0;0.79720 0.32467 1;0.76502 0....  \n",
       "2  0.00690 0.67839 1;0.11382 0.62844 0;0.08955 0....  \n",
       "3  0.17948 0.51202 1;0.22844 0.50576 0;0.17219 0....  \n",
       "4  0.00726 0.56089 1;0.06891 0.61937 1;0.07646 0....  "
      ]
     },
     "execution_count": 7,
     "metadata": {},
     "output_type": "execute_result"
    }
   ],
   "source": [
    "df_masks = pd.read_csv(osp.join(DATA_DIR, 'challenge-2019-train-segmentation-masks.csv'))\n",
    "df_masks.head()\n"
   ]
  },
  {
   "cell_type": "code",
   "execution_count": 9,
   "metadata": {},
   "outputs": [
    {
     "data": {
      "text/plain": [
       "(2125530, 10)"
      ]
     },
     "execution_count": 9,
     "metadata": {},
     "output_type": "execute_result"
    }
   ],
   "source": [
    "df_masks.shape"
   ]
  },
  {
   "cell_type": "code",
   "execution_count": 77,
   "metadata": {},
   "outputs": [
    {
     "data": {
      "text/plain": [
       "848512"
      ]
     },
     "execution_count": 77,
     "metadata": {},
     "output_type": "execute_result"
    }
   ],
   "source": [
    "len(df_masks.ImageID.unique())"
   ]
  },
  {
   "cell_type": "code",
   "execution_count": null,
   "metadata": {},
   "outputs": [],
   "source": []
  },
  {
   "cell_type": "code",
   "execution_count": 30,
   "metadata": {},
   "outputs": [],
   "source": [
    "df_labels = pd.read_csv('challenge-2019-train-segmentation-labels.csv')"
   ]
  },
  {
   "cell_type": "code",
   "execution_count": 31,
   "metadata": {},
   "outputs": [
    {
     "data": {
      "text/html": [
       "<div>\n",
       "<style scoped>\n",
       "    .dataframe tbody tr th:only-of-type {\n",
       "        vertical-align: middle;\n",
       "    }\n",
       "\n",
       "    .dataframe tbody tr th {\n",
       "        vertical-align: top;\n",
       "    }\n",
       "\n",
       "    .dataframe thead th {\n",
       "        text-align: right;\n",
       "    }\n",
       "</style>\n",
       "<table border=\"1\" class=\"dataframe\">\n",
       "  <thead>\n",
       "    <tr style=\"text-align: right;\">\n",
       "      <th></th>\n",
       "      <th>ImageID</th>\n",
       "      <th>LabelName</th>\n",
       "      <th>Confidence</th>\n",
       "    </tr>\n",
       "  </thead>\n",
       "  <tbody>\n",
       "    <tr>\n",
       "      <th>0</th>\n",
       "      <td>75b88edfc847ca14</td>\n",
       "      <td>/m/083wq</td>\n",
       "      <td>0</td>\n",
       "    </tr>\n",
       "    <tr>\n",
       "      <th>1</th>\n",
       "      <td>e43fa7c1c630c560</td>\n",
       "      <td>/m/0k4j</td>\n",
       "      <td>0</td>\n",
       "    </tr>\n",
       "    <tr>\n",
       "      <th>2</th>\n",
       "      <td>5cc33103845e5519</td>\n",
       "      <td>/m/05z6w</td>\n",
       "      <td>1</td>\n",
       "    </tr>\n",
       "    <tr>\n",
       "      <th>3</th>\n",
       "      <td>c7ce47d3312f1b3e</td>\n",
       "      <td>/m/0283dt1</td>\n",
       "      <td>0</td>\n",
       "    </tr>\n",
       "    <tr>\n",
       "      <th>4</th>\n",
       "      <td>9a83163e5073e374</td>\n",
       "      <td>/m/083wq</td>\n",
       "      <td>0</td>\n",
       "    </tr>\n",
       "  </tbody>\n",
       "</table>\n",
       "</div>"
      ],
      "text/plain": [
       "            ImageID   LabelName  Confidence\n",
       "0  75b88edfc847ca14    /m/083wq           0\n",
       "1  e43fa7c1c630c560     /m/0k4j           0\n",
       "2  5cc33103845e5519    /m/05z6w           1\n",
       "3  c7ce47d3312f1b3e  /m/0283dt1           0\n",
       "4  9a83163e5073e374    /m/083wq           0"
      ]
     },
     "execution_count": 31,
     "metadata": {},
     "output_type": "execute_result"
    }
   ],
   "source": [
    "df_labels.head()"
   ]
  },
  {
   "cell_type": "code",
   "execution_count": 35,
   "metadata": {},
   "outputs": [
    {
     "data": {
      "text/plain": [
       "300"
      ]
     },
     "execution_count": 35,
     "metadata": {},
     "output_type": "execute_result"
    }
   ],
   "source": [
    "len(df_masks.LabelName.unique())"
   ]
  },
  {
   "cell_type": "code",
   "execution_count": 36,
   "metadata": {},
   "outputs": [
    {
     "data": {
      "text/plain": [
       "{'/m/0bl9f'}"
      ]
     },
     "execution_count": 36,
     "metadata": {},
     "output_type": "execute_result"
    }
   ],
   "source": [
    "label_names = set(df_masks.LabelName.unique())\n",
    "\n",
    "(set(parent_classes) | set(leaf_classes)) - label_names\n"
   ]
  },
  {
   "cell_type": "code",
   "execution_count": 38,
   "metadata": {},
   "outputs": [
    {
     "data": {
      "text/plain": [
       "301"
      ]
     },
     "execution_count": 38,
     "metadata": {},
     "output_type": "execute_result"
    }
   ],
   "source": [
    "len(set(parent_classes) | set(leaf_classes))"
   ]
  },
  {
   "cell_type": "code",
   "execution_count": 56,
   "metadata": {},
   "outputs": [],
   "source": [
    "df_leaf = df_masks.loc[df_masks.LabelName.isin(set(leaf_classes))]"
   ]
  },
  {
   "cell_type": "code",
   "execution_count": 58,
   "metadata": {},
   "outputs": [],
   "source": [
    "df_parent = df_masks.loc[df_masks.LabelName.isin(set(parent_classes))]"
   ]
  },
  {
   "cell_type": "code",
   "execution_count": 57,
   "metadata": {},
   "outputs": [],
   "source": [
    "df_counts = pd.DataFrame(df_leaf.LabelName.value_counts())\n",
    "df_counts.index.name = 'class'\n",
    "df_counts.columns =['count']\n",
    "df_counts.head()\n",
    "df_counts.to_csv('top_classes_level1.csv', index=True)"
   ]
  },
  {
   "cell_type": "code",
   "execution_count": 143,
   "metadata": {},
   "outputs": [
    {
     "data": {
      "text/plain": [
       "26"
      ]
     },
     "execution_count": 143,
     "metadata": {},
     "output_type": "execute_result"
    }
   ],
   "source": [
    "len(parent_classes)"
   ]
  },
  {
   "cell_type": "code",
   "execution_count": 59,
   "metadata": {},
   "outputs": [],
   "source": [
    "df_counts = pd.DataFrame(df_parent.LabelName.value_counts())\n",
    "df_counts.index.name = 'class'\n",
    "df_counts.columns =['count']\n",
    "df_counts.head()\n",
    "df_counts.to_csv('top_classes_parent.csv', index=True)"
   ]
  },
  {
   "cell_type": "code",
   "execution_count": 13,
   "metadata": {},
   "outputs": [],
   "source": [
    "def get_top_classes(start_index, end_index):\n",
    "    df = pd.read_csv('top_classes_level1.csv')\n",
    "    c = df['class'].values[start_index:end_index]\n",
    "    #print(df.head())\n",
    "    stoi = { c[i]: i for i in range(len(c)) }\n",
    "    return c, stoi"
   ]
  },
  {
   "cell_type": "code",
   "execution_count": 78,
   "metadata": {},
   "outputs": [],
   "source": [
    "classes_0_20, _ = get_top_classes(0, 20)\n",
    "classes_20_100, _ = get_top_classes(20, 100)\n",
    "classes_100_276, _ = get_top_classes(100, 276)"
   ]
  },
  {
   "cell_type": "code",
   "execution_count": 80,
   "metadata": {},
   "outputs": [],
   "source": [
    "imgs_100_276 = set(df_masks.loc[df_mask.LabelName.isin(set(classes_100_276))].ImageID.unique())\n",
    "imgs_20_100 = set(df_masks.loc[df_mask.LabelName.isin(set(classes_20_100))].ImageID.unique()) - imgs_100_276\n",
    "imgs_0_20 = set(df_masks.loc[df_mask.LabelName.isin(set(classes_0_20))].ImageID.unique()) - imgs_20_100 - imgs_100_276\n"
   ]
  },
  {
   "cell_type": "code",
   "execution_count": 81,
   "metadata": {},
   "outputs": [
    {
     "name": "stdout",
     "output_type": "stream",
     "text": [
      "415613 164724 68975\n"
     ]
    }
   ],
   "source": [
    "print(len(imgs_0_20), len(imgs_20_100), len(imgs_100_276))"
   ]
  },
  {
   "cell_type": "code",
   "execution_count": 69,
   "metadata": {},
   "outputs": [
    {
     "name": "stdout",
     "output_type": "stream",
     "text": [
      "1125789 460281\n"
     ]
    }
   ],
   "source": [
    "df_0_20 = df_masks.loc[df_masks.LabelName.isin(set(classes_0_20))]\n",
    "print(len(df_0_20), len(df_0_20.ImageID.unique()))"
   ]
  },
  {
   "cell_type": "code",
   "execution_count": 70,
   "metadata": {},
   "outputs": [
    {
     "name": "stdout",
     "output_type": "stream",
     "text": [
      "327134 171432\n"
     ]
    }
   ],
   "source": [
    "df_20_100 = df_masks.loc[df_masks.LabelName.isin(set(classes_20_100))]\n",
    "print(len(df_20_100), len(df_20_100.ImageID.unique()))"
   ]
  },
  {
   "cell_type": "code",
   "execution_count": 71,
   "metadata": {},
   "outputs": [
    {
     "name": "stdout",
     "output_type": "stream",
     "text": [
      "106956 68975\n"
     ]
    }
   ],
   "source": [
    "df_100_300 = df_masks.loc[df_masks.LabelName.isin(set(classes_100_300))]\n",
    "print(len(df_100_300), len(df_100_300.ImageID.unique()))"
   ]
  },
  {
   "cell_type": "code",
   "execution_count": 11,
   "metadata": {},
   "outputs": [],
   "source": [
    "def get_parent_classes(start_index=0, end_index=26):\n",
    "    df = pd.read_csv('top_classes_parent.csv')\n",
    "    c = df['class'].values[start_index:end_index]\n",
    "    #print(df.head())\n",
    "    stoi = { c[i]: i for i in range(len(c)) }\n",
    "    return c, stoi"
   ]
  },
  {
   "cell_type": "code",
   "execution_count": 147,
   "metadata": {},
   "outputs": [],
   "source": [
    "parent_class_0_10, _ = get_parent_classes(0, 10)\n",
    "parent_class_10_26, _ = get_parent_classes(10, 26)"
   ]
  },
  {
   "cell_type": "code",
   "execution_count": 148,
   "metadata": {},
   "outputs": [],
   "source": [
    "imgs_10_26 = set(df_masks.loc[df_mask.LabelName.isin(set(parent_class_10_26))].ImageID.unique())\n",
    "imgs_0_10 = set(df_masks.loc[df_mask.LabelName.isin(set(parent_class_0_10))].ImageID.unique()) - imgs_10_26\n"
   ]
  },
  {
   "cell_type": "code",
   "execution_count": 12,
   "metadata": {},
   "outputs": [
    {
     "data": {
      "text/plain": [
       "/m/0k4j       159435\n",
       "/m/01g317     149166\n",
       "/m/0c9ph5      89784\n",
       "/m/0138tl      44162\n",
       "/m/06msq       26570\n",
       "/m/015p6       23686\n",
       "/m/0271t       20735\n",
       "/m/0ch_cf      12070\n",
       "/m/02dl1y      10715\n",
       "/m/07mhn        7289\n",
       "/m/01mqdt       4162\n",
       "/m/02crq1       4072\n",
       "/m/018xm        3150\n",
       "/m/01lrl        2196\n",
       "/m/0hf58v5      1910\n",
       "/m/0k5j         1165\n",
       "/m/02wv6h6      1055\n",
       "/m/0l515        1049\n",
       "/m/0174n1       1022\n",
       "/m/01x3z         977\n",
       "/m/06bt6         430\n",
       "/m/01dws         246\n",
       "/m/0dv9c         221\n",
       "/m/0dv77         220\n",
       "/m/09dzg         164\n",
       "Name: LabelName, dtype: int64"
      ]
     },
     "execution_count": 12,
     "metadata": {},
     "output_type": "execute_result"
    }
   ],
   "source": [
    "df_masks.loc[df_masks.LabelName.isin(set(get_parent_classes()[0]))].LabelName.value_counts()"
   ]
  },
  {
   "cell_type": "code",
   "execution_count": 14,
   "metadata": {},
   "outputs": [
    {
     "data": {
      "text/plain": [
       "/m/05r655     173787\n",
       "/m/083wq      155416\n",
       "/m/03bt1vf    117234\n",
       "/m/04yx4      113747\n",
       "/m/01xyhv     100410\n",
       "/m/01bl7v      80307\n",
       "/m/079cl       61076\n",
       "/m/0fly7       61076\n",
       "/m/01d40f      47605\n",
       "/m/01bqk0      43927\n",
       "/m/04dr76w     24637\n",
       "/m/0342h       24264\n",
       "/m/0bt9lr      21934\n",
       "/m/03120       20748\n",
       "/m/0cmf2       16662\n",
       "/m/0fm3zh      14965\n",
       "/m/01bfm9      12613\n",
       "/m/0bt_c3      12027\n",
       "/m/04_sv       11952\n",
       "/m/01yrx       11402\n",
       "/m/07r04       10745\n",
       "/m/0283dt1     10077\n",
       "/m/09ddx        9912\n",
       "/m/07jdr        9845\n",
       "/m/06z37_       9508\n",
       "/m/03k3r        9031\n",
       "/m/01rkbr       8953\n",
       "/m/01bjv        8891\n",
       "/m/01c648       8449\n",
       "/m/01xq0k1      7504\n",
       "               ...  \n",
       "/m/01f91_        225\n",
       "/m/0hdln         223\n",
       "/m/03m3vtv       221\n",
       "/m/02g30s        213\n",
       "/m/03v5tg        208\n",
       "/m/043nyj        201\n",
       "/m/0fbw6         200\n",
       "/m/03q5t         192\n",
       "/m/02w3r3        187\n",
       "/m/05ctyq        168\n",
       "/m/02f9f_        167\n",
       "/m/0frqm         166\n",
       "/m/01j5ks        163\n",
       "/m/0d20w4        158\n",
       "/m/03y6mg        155\n",
       "/m/06_72j        148\n",
       "/m/0584n8        147\n",
       "/m/046dlr        132\n",
       "/m/02tsc9        120\n",
       "/m/0lt4_         108\n",
       "/m/05bm6         103\n",
       "/m/01kb5b         79\n",
       "/m/01bms0         69\n",
       "/m/0cjs7          67\n",
       "/m/03jbxj         58\n",
       "/m/02d1br         54\n",
       "/m/01k6s3         53\n",
       "/m/02cvgx         33\n",
       "/m/07dd4          20\n",
       "/m/0h8ntjv        14\n",
       "Name: LabelName, Length: 275, dtype: int64"
      ]
     },
     "execution_count": 14,
     "metadata": {},
     "output_type": "execute_result"
    }
   ],
   "source": [
    "df_masks.loc[df_masks.LabelName.isin(set(get_top_classes(0, 275)[0]))].LabelName.value_counts()"
   ]
  },
  {
   "cell_type": "code",
   "execution_count": 16,
   "metadata": {},
   "outputs": [
    {
     "data": {
      "text/plain": [
       "/m/07r04      10745\n",
       "/m/0283dt1    10077\n",
       "/m/09ddx       9912\n",
       "/m/07jdr       9845\n",
       "/m/06z37_      9508\n",
       "/m/03k3r       9031\n",
       "/m/01rkbr      8953\n",
       "/m/01bjv       8891\n",
       "/m/01c648      8449\n",
       "/m/01xq0k1     7504\n",
       "/m/01gkx_      7406\n",
       "/m/01n4qj      7168\n",
       "/m/01j51       7046\n",
       "/m/0h2r6       6876\n",
       "/m/0dbvp       6331\n",
       "/m/01599       6169\n",
       "/m/06m11       5857\n",
       "/m/02wbtzl     5742\n",
       "/m/081qc       5650\n",
       "/m/07fbm7      5471\n",
       "/m/0fszt       5122\n",
       "/m/0dv5r       5094\n",
       "/m/050k8       5072\n",
       "/m/039xj_      4837\n",
       "/m/02p5f1q     4688\n",
       "/m/0ftb8       4426\n",
       "/m/07j87       4409\n",
       "/m/025dyy      4401\n",
       "/m/024g6       4197\n",
       "/m/01m2v       4017\n",
       "              ...  \n",
       "/m/025rp__     2556\n",
       "/m/06k2mb      2522\n",
       "/m/021mn       2513\n",
       "/m/01z1kdw     2439\n",
       "/m/03q5c7      2375\n",
       "/m/015qff      2363\n",
       "/m/0bwd_0j     2360\n",
       "/m/080hkjn     2294\n",
       "/m/05z6w       2274\n",
       "/m/09b5t       2237\n",
       "/m/0242l       2183\n",
       "/m/02s195      2164\n",
       "/m/02h19r      2155\n",
       "/m/02jvh9      2082\n",
       "/m/014j1m      2075\n",
       "/m/02vqfm      2057\n",
       "/m/07bgp       2051\n",
       "/m/04m9y       1890\n",
       "/m/0gv1x       1890\n",
       "/m/03fwl       1869\n",
       "/m/01xqw       1869\n",
       "/m/019w40      1863\n",
       "/m/071qp       1856\n",
       "/m/026qbn5     1820\n",
       "/m/02l8p9      1759\n",
       "/m/0gjkl       1724\n",
       "/m/0663v       1721\n",
       "/m/0bjyj5      1677\n",
       "/m/02zn6n      1586\n",
       "/m/011k07      1577\n",
       "Name: LabelName, Length: 80, dtype: int64"
      ]
     },
     "execution_count": 16,
     "metadata": {},
     "output_type": "execute_result"
    }
   ],
   "source": [
    "df_masks.loc[df_masks.LabelName.isin(set(get_top_classes(0, 275)[0]))].LabelName.value_counts()[20:100]"
   ]
  },
  {
   "cell_type": "code",
   "execution_count": 149,
   "metadata": {},
   "outputs": [
    {
     "data": {
      "text/plain": [
       "15194"
      ]
     },
     "execution_count": 149,
     "metadata": {},
     "output_type": "execute_result"
    }
   ],
   "source": [
    "len(imgs_10_26)"
   ]
  },
  {
   "cell_type": "code",
   "execution_count": 150,
   "metadata": {},
   "outputs": [
    {
     "data": {
      "text/plain": [
       "259609"
      ]
     },
     "execution_count": 150,
     "metadata": {},
     "output_type": "execute_result"
    }
   ],
   "source": [
    "len(imgs_0_10)"
   ]
  },
  {
   "cell_type": "code",
   "execution_count": null,
   "metadata": {},
   "outputs": [],
   "source": []
  },
  {
   "cell_type": "code",
   "execution_count": null,
   "metadata": {},
   "outputs": [],
   "source": []
  },
  {
   "cell_type": "code",
   "execution_count": 132,
   "metadata": {},
   "outputs": [],
   "source": [
    "def get_mask(mask_fn):\n",
    "    mask = cv2.imread(osp.join(MASK_DIR, mask_fn))\n",
    "    #print(mask.shape)\n",
    "    return mask[:,:,0] / 255"
   ]
  },
  {
   "cell_type": "code",
   "execution_count": 127,
   "metadata": {},
   "outputs": [],
   "source": [
    "m1 = get_mask('280849e5239012cb_m0342h_c420399e.png')"
   ]
  },
  {
   "cell_type": "code",
   "execution_count": 130,
   "metadata": {},
   "outputs": [
    {
     "data": {
      "text/plain": [
       "0"
      ]
     },
     "execution_count": 130,
     "metadata": {},
     "output_type": "execute_result"
    }
   ],
   "source": [
    "m1.min()"
   ]
  },
  {
   "cell_type": "code",
   "execution_count": 97,
   "metadata": {},
   "outputs": [
    {
     "data": {
      "text/plain": [
       "<matplotlib.image.AxesImage at 0x7f8235726c50>"
      ]
     },
     "execution_count": 97,
     "metadata": {},
     "output_type": "execute_result"
    },
    {
     "data": {
      "image/png": "[encoded data removed]",
      "text/plain": [
       "<Figure size 432x288 with 1 Axes>"
      ]
     },
     "metadata": {
      "needs_background": "light"
     },
     "output_type": "display_data"
    }
   ],
   "source": [
    "plt.imshow(m1)"
   ]
  },
  {
   "cell_type": "code",
   "execution_count": 120,
   "metadata": {},
   "outputs": [],
   "source": [
    "def get_truth(idx):\n",
    "    row = df_masks.iloc[idx]\n",
    "    img_id = row.ImageID\n",
    "    df = df_masks.loc[df_masks.ImageID==img_id]\n",
    "    fn = fullpath_dict[img_id]\n",
    "    print(fn)\n",
    "    img = cv2.imread(fn)\n",
    "    img = cv2.cvtColor(img, cv2.COLOR_BGR2RGB)\n",
    "    masks = [get_mask(x) for x in df.MaskPath.values]\n",
    "    labels = df.LabelName.values\n",
    "    return img, masks, labels\n",
    "\n",
    "def show_truth(idx):\n",
    "    img, masks, labels = get_truth(idx)\n",
    "    show_img_masks(img, masks, labels)\n",
    "    \n",
    "def show_img_masks(img, masks, labels=None):\n",
    "    columns = 4\n",
    "    plt.figure(figsize=(20, 15))\n",
    "    \n",
    "    plt.subplot(len(masks) / columns + 1, columns, 1)\n",
    "    plt.imshow(img)\n",
    "    \n",
    "    for i, img in enumerate(masks):\n",
    "        plt.subplot(len(masks) / columns + 1, columns, i+2)\n",
    "        if labels is not None:\n",
    "            plt.title(class_dict[labels[i]])\n",
    "        \n",
    "        plt.imshow(img)"
   ]
  },
  {
   "cell_type": "code",
   "execution_count": 133,
   "metadata": {},
   "outputs": [
    {
     "name": "stdout",
     "output_type": "stream",
     "text": [
      "/mnt/chicm/data/open-images/train/imgs/train_c/ca752fc39936601d.jpg\n"
     ]
    },
    {
     "data": {
      "image/png": "[encoded data removed]",
      "text/plain": [
       "<Figure size 1440x1080 with 16 Axes>"
      ]
     },
     "metadata": {
      "needs_background": "light"
     },
     "output_type": "display_data"
    }
   ],
   "source": [
    "show_truth(10)"
   ]
  },
  {
   "cell_type": "code",
   "execution_count": 126,
   "metadata": {},
   "outputs": [
    {
     "name": "stdout",
     "output_type": "stream",
     "text": [
      "/mnt/chicm/data/open-images/train/imgs/train_8/85fdbe3342d5f3dc.jpg\n"
     ]
    },
    {
     "data": {
      "image/png": "[encoded data removed]",
      "text/plain": [
       "<Figure size 1440x1080 with 19 Axes>"
      ]
     },
     "metadata": {
      "needs_background": "light"
     },
     "output_type": "display_data"
    }
   ],
   "source": [
    "show_truth(1010)"
   ]
  },
  {
   "cell_type": "code",
   "execution_count": 134,
   "metadata": {},
   "outputs": [
    {
     "data": {
      "text/html": [
       "<div>\n",
       "<style scoped>\n",
       "    .dataframe tbody tr th:only-of-type {\n",
       "        vertical-align: middle;\n",
       "    }\n",
       "\n",
       "    .dataframe tbody tr th {\n",
       "        vertical-align: top;\n",
       "    }\n",
       "\n",
       "    .dataframe thead th {\n",
       "        text-align: right;\n",
       "    }\n",
       "</style>\n",
       "<table border=\"1\" class=\"dataframe\">\n",
       "  <thead>\n",
       "    <tr style=\"text-align: right;\">\n",
       "      <th></th>\n",
       "      <th>ImageID</th>\n",
       "      <th>ImageWidth</th>\n",
       "      <th>ImageHeight</th>\n",
       "      <th>PredictionString</th>\n",
       "    </tr>\n",
       "  </thead>\n",
       "  <tbody>\n",
       "    <tr>\n",
       "      <th>0</th>\n",
       "      <td>80155d58d0ee19bd</td>\n",
       "      <td>-1</td>\n",
       "      <td>-1</td>\n",
       "      <td>NaN</td>\n",
       "    </tr>\n",
       "    <tr>\n",
       "      <th>1</th>\n",
       "      <td>52a76f3fe21185bf</td>\n",
       "      <td>-1</td>\n",
       "      <td>-1</td>\n",
       "      <td>NaN</td>\n",
       "    </tr>\n",
       "    <tr>\n",
       "      <th>2</th>\n",
       "      <td>65e9da7c04c8e4cd</td>\n",
       "      <td>-1</td>\n",
       "      <td>-1</td>\n",
       "      <td>NaN</td>\n",
       "    </tr>\n",
       "    <tr>\n",
       "      <th>3</th>\n",
       "      <td>6d10fa21d93bd6cc</td>\n",
       "      <td>-1</td>\n",
       "      <td>-1</td>\n",
       "      <td>NaN</td>\n",
       "    </tr>\n",
       "    <tr>\n",
       "      <th>4</th>\n",
       "      <td>0841dee573a875ca</td>\n",
       "      <td>-1</td>\n",
       "      <td>-1</td>\n",
       "      <td>NaN</td>\n",
       "    </tr>\n",
       "  </tbody>\n",
       "</table>\n",
       "</div>"
      ],
      "text/plain": [
       "            ImageID  ImageWidth  ImageHeight  PredictionString\n",
       "0  80155d58d0ee19bd          -1           -1               NaN\n",
       "1  52a76f3fe21185bf          -1           -1               NaN\n",
       "2  65e9da7c04c8e4cd          -1           -1               NaN\n",
       "3  6d10fa21d93bd6cc          -1           -1               NaN\n",
       "4  0841dee573a875ca          -1           -1               NaN"
      ]
     },
     "execution_count": 134,
     "metadata": {},
     "output_type": "execute_result"
    }
   ],
   "source": [
    "df_test = pd.read_csv('sample_empty_submission.csv')\n",
    "df_test.head()"
   ]
  },
  {
   "cell_type": "code",
   "execution_count": null,
   "metadata": {},
   "outputs": [],
   "source": []
  }
 ],
 "metadata": {
  "kernelspec": {
   "display_name": "Python 3",
   "language": "python",
   "name": "python3"
  },
  "language_info": {
   "codemirror_mode": {
    "name": "ipython",
    "version": 3
   },
   "file_extension": ".py",
   "mimetype": "text/x-python",
   "name": "python",
   "nbconvert_exporter": "python",
   "pygments_lexer": "ipython3",
   "version": "3.7.3"
  }
 },
 "nbformat": 4,
 "nbformat_minor": 2
}

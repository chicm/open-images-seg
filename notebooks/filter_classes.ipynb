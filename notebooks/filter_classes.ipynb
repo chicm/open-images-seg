{
 "cells": [
  {
   "cell_type": "code",
   "execution_count": 30,
   "metadata": {},
   "outputs": [],
   "source": [
    "import os\n",
    "import numpy as np\n",
    "import pandas as pd\n",
    "import torch\n",
    "import os.path as osp\n",
    "import json\n",
    "import pandas as pd\n",
    "from PIL import Image\n",
    "from matplotlib.pyplot import imshow\n",
    "import matplotlib.pyplot as plt\n",
    "import cv2\n",
    "import numpy as np\n",
    "%matplotlib inline\n",
    "from tqdm import tqdm\n",
    "import glob\n",
    "import pickle\n",
    "IMG_DIR = '/mnt/chicm/data/open-images/train/imgs'\n",
    "MASK_DIR = '/mnt/chicm/data/open-images/masks/train'\n",
    "DATA_DIR = '/mnt/chicm/data/open-images/segmentation'"
   ]
  },
  {
   "cell_type": "code",
   "execution_count": 31,
   "metadata": {},
   "outputs": [],
   "source": [
    "def get_top_classes(start_index, end_index):\n",
    "    df = pd.read_csv('top_classes_level1.csv')\n",
    "    c = df['class'].values[start_index:end_index]\n",
    "    #print(df.head())\n",
    "    stoi = { c[i]: i for i in range(len(c)) }\n",
    "    return c, stoi"
   ]
  },
  {
   "cell_type": "code",
   "execution_count": 39,
   "metadata": {},
   "outputs": [],
   "source": [
    "classes_0_20 = set(get_top_classes(0, 20)[0])\n",
    "classes_20_100 = set(get_top_classes(20, 100)[0])\n",
    "classes_100_275 = set(get_top_classes(100, 275)[0])\n",
    "#classes_0_20"
   ]
  },
  {
   "cell_type": "code",
   "execution_count": 33,
   "metadata": {},
   "outputs": [
    {
     "name": "stdout",
     "output_type": "stream",
     "text": [
      "challenge-2019-classes-description-segmentable.csv\r\n",
      "challenge-2019-label300-segmentable-hierarchy.json\r\n",
      "challenge-2019-train-segmentation-bbox.csv\r\n",
      "challenge-2019-train-segmentation-labels.csv\r\n",
      "challenge-2019-train-segmentation-masks.csv\r\n",
      "challenge-2019-validation-segmentation-bbox.csv\r\n",
      "challenge-2019-validation-segmentation-labels.csv\r\n",
      "challenge-2019-validation-segmentation-masks.csv\r\n",
      "merge_0903_1.csv\r\n",
      "merge_1000_0902.csv.zip\r\n",
      "open-images-2019-instance-segmentation.zip\r\n",
      "sample_empty_submission-Copy1.csv\r\n",
      "sample_empty_submission.csv\r\n",
      "sample_truncated_submission.csv\r\n",
      "sub_0902_3_top50.csv.zip\r\n",
      "sub1_first_1000_test_add_parent.csv\r\n",
      "sub1_first_1000_test.csv\r\n",
      "sub1_first_1000_test_th001.csv\r\n",
      "sub1_first_1000_test_top50.csv\r\n",
      "sub_first_0901_top50.csv.zip\r\n",
      "sub_first_1000_0902_1_top50.csv\r\n",
      "sub_first_1000_0902_2_top100.csv\r\n",
      "sub_parent_0902_1000_1.csv\r\n",
      "sub_parent_0903_1_top50.csv\r\n",
      "test.zip\r\n"
     ]
    }
   ],
   "source": [
    "!ls $DATA_DIR"
   ]
  },
  {
   "cell_type": "code",
   "execution_count": 53,
   "metadata": {},
   "outputs": [
    {
     "data": {
      "text/html": [
       "<div>\n",
       "<style scoped>\n",
       "    .dataframe tbody tr th:only-of-type {\n",
       "        vertical-align: middle;\n",
       "    }\n",
       "\n",
       "    .dataframe tbody tr th {\n",
       "        vertical-align: top;\n",
       "    }\n",
       "\n",
       "    .dataframe thead th {\n",
       "        text-align: right;\n",
       "    }\n",
       "</style>\n",
       "<table border=\"1\" class=\"dataframe\">\n",
       "  <thead>\n",
       "    <tr style=\"text-align: right;\">\n",
       "      <th></th>\n",
       "      <th>ImageID</th>\n",
       "      <th>ImageWidth</th>\n",
       "      <th>ImageHeight</th>\n",
       "      <th>PredictionString</th>\n",
       "    </tr>\n",
       "  </thead>\n",
       "  <tbody>\n",
       "    <tr>\n",
       "      <th>0</th>\n",
       "      <td>80155d58d0ee19bd</td>\n",
       "      <td>1024</td>\n",
       "      <td>683</td>\n",
       "      <td>/m/083wq 0.0024876 eNqVU01vwyAM/UsGEjb1Ou3QJGC...</td>\n",
       "    </tr>\n",
       "    <tr>\n",
       "      <th>1</th>\n",
       "      <td>52a76f3fe21185bf</td>\n",
       "      <td>1024</td>\n",
       "      <td>683</td>\n",
       "      <td>/m/083wq 0.0176641 eNoLyIqyzDWISzFABob+2NmUAXS...</td>\n",
       "    </tr>\n",
       "    <tr>\n",
       "      <th>2</th>\n",
       "      <td>65e9da7c04c8e4cd</td>\n",
       "      <td>1024</td>\n",
       "      <td>682</td>\n",
       "      <td>NaN</td>\n",
       "    </tr>\n",
       "    <tr>\n",
       "      <th>3</th>\n",
       "      <td>6d10fa21d93bd6cc</td>\n",
       "      <td>1024</td>\n",
       "      <td>682</td>\n",
       "      <td>/m/05r655 0.0065765 eNrNUttSwyAQ/SUICTTNxNFOLL...</td>\n",
       "    </tr>\n",
       "    <tr>\n",
       "      <th>4</th>\n",
       "      <td>0841dee573a875ca</td>\n",
       "      <td>1024</td>\n",
       "      <td>683</td>\n",
       "      <td>/m/05r655 0.0021448 eNqFlMmiqjoQRX/JlL4ZjcL0JK...</td>\n",
       "    </tr>\n",
       "  </tbody>\n",
       "</table>\n",
       "</div>"
      ],
      "text/plain": [
       "            ImageID  ImageWidth  ImageHeight  \\\n",
       "0  80155d58d0ee19bd        1024          683   \n",
       "1  52a76f3fe21185bf        1024          683   \n",
       "2  65e9da7c04c8e4cd        1024          682   \n",
       "3  6d10fa21d93bd6cc        1024          682   \n",
       "4  0841dee573a875ca        1024          683   \n",
       "\n",
       "                                    PredictionString  \n",
       "0  /m/083wq 0.0024876 eNqVU01vwyAM/UsGEjb1Ou3QJGC...  \n",
       "1  /m/083wq 0.0176641 eNoLyIqyzDWISzFABob+2NmUAXS...  \n",
       "2                                                NaN  \n",
       "3  /m/05r655 0.0065765 eNrNUttSwyAQ/SUICTTNxNFOLL...  \n",
       "4  /m/05r655 0.0021448 eNqFlMmiqjoQRX/JlL4ZjcL0JK...  "
      ]
     },
     "execution_count": 53,
     "metadata": {},
     "output_type": "execute_result"
    }
   ],
   "source": [
    "df = pd.read_csv(osp.join(DATA_DIR, 'sub_0902_3_top50.csv.zip'))\n",
    "df.head()"
   ]
  },
  {
   "cell_type": "code",
   "execution_count": 54,
   "metadata": {},
   "outputs": [
    {
     "data": {
      "text/html": [
       "<div>\n",
       "<style scoped>\n",
       "    .dataframe tbody tr th:only-of-type {\n",
       "        vertical-align: middle;\n",
       "    }\n",
       "\n",
       "    .dataframe tbody tr th {\n",
       "        vertical-align: top;\n",
       "    }\n",
       "\n",
       "    .dataframe thead th {\n",
       "        text-align: right;\n",
       "    }\n",
       "</style>\n",
       "<table border=\"1\" class=\"dataframe\">\n",
       "  <thead>\n",
       "    <tr style=\"text-align: right;\">\n",
       "      <th></th>\n",
       "      <th>ImageID</th>\n",
       "      <th>ImageWidth</th>\n",
       "      <th>ImageHeight</th>\n",
       "      <th>PredictionString</th>\n",
       "    </tr>\n",
       "  </thead>\n",
       "  <tbody>\n",
       "    <tr>\n",
       "      <th>0</th>\n",
       "      <td>80155d58d0ee19bd</td>\n",
       "      <td>1024</td>\n",
       "      <td>683</td>\n",
       "      <td>/m/083wq 0.0024876 eNqVU01vwyAM/UsGEjb1Ou3QJGC...</td>\n",
       "    </tr>\n",
       "    <tr>\n",
       "      <th>1</th>\n",
       "      <td>52a76f3fe21185bf</td>\n",
       "      <td>1024</td>\n",
       "      <td>683</td>\n",
       "      <td>/m/083wq 0.0176641 eNoLyIqyzDWISzFABob+2NmUAXS...</td>\n",
       "    </tr>\n",
       "    <tr>\n",
       "      <th>2</th>\n",
       "      <td>65e9da7c04c8e4cd</td>\n",
       "      <td>1024</td>\n",
       "      <td>682</td>\n",
       "      <td></td>\n",
       "    </tr>\n",
       "    <tr>\n",
       "      <th>3</th>\n",
       "      <td>6d10fa21d93bd6cc</td>\n",
       "      <td>1024</td>\n",
       "      <td>682</td>\n",
       "      <td>/m/05r655 0.0065765 eNrNUttSwyAQ/SUICTTNxNFOLL...</td>\n",
       "    </tr>\n",
       "    <tr>\n",
       "      <th>4</th>\n",
       "      <td>0841dee573a875ca</td>\n",
       "      <td>1024</td>\n",
       "      <td>683</td>\n",
       "      <td>/m/05r655 0.0021448 eNqFlMmiqjoQRX/JlL4ZjcL0JK...</td>\n",
       "    </tr>\n",
       "  </tbody>\n",
       "</table>\n",
       "</div>"
      ],
      "text/plain": [
       "            ImageID  ImageWidth  ImageHeight  \\\n",
       "0  80155d58d0ee19bd        1024          683   \n",
       "1  52a76f3fe21185bf        1024          683   \n",
       "2  65e9da7c04c8e4cd        1024          682   \n",
       "3  6d10fa21d93bd6cc        1024          682   \n",
       "4  0841dee573a875ca        1024          683   \n",
       "\n",
       "                                    PredictionString  \n",
       "0  /m/083wq 0.0024876 eNqVU01vwyAM/UsGEjb1Ou3QJGC...  \n",
       "1  /m/083wq 0.0176641 eNoLyIqyzDWISzFABob+2NmUAXS...  \n",
       "2                                                     \n",
       "3  /m/05r655 0.0065765 eNrNUttSwyAQ/SUICTTNxNFOLL...  \n",
       "4  /m/05r655 0.0021448 eNqFlMmiqjoQRX/JlL4ZjcL0JK...  "
      ]
     },
     "execution_count": 54,
     "metadata": {},
     "output_type": "execute_result"
    }
   ],
   "source": [
    "df.PredictionString = df.PredictionString.fillna('')\n",
    "df.head()"
   ]
  },
  {
   "cell_type": "code",
   "execution_count": 55,
   "metadata": {},
   "outputs": [],
   "source": [
    "#selected_rel = ['plays', 'inside_of', 'holds']\n",
    "#selected_rel = 'on'\n",
    "def get_filtered_pred_string(pred_str, selected_classes):\n",
    "    if len(pred_str) < 1:\n",
    "        return ''\n",
    "    dets = []\n",
    "    det = []\n",
    "    for i, e in enumerate(pred_str.split(' ')):\n",
    "        if i % 3 == 0:\n",
    "            det = []\n",
    "        det.append(e)\n",
    "        if (i+1) % 3 == 0 and det[0] in selected_classes:\n",
    "            dets.append(' '.join(det))\n",
    "                \n",
    "    return ' '.join(dets)"
   ]
  },
  {
   "cell_type": "code",
   "execution_count": 56,
   "metadata": {},
   "outputs": [],
   "source": [
    "df.PredictionString = df.PredictionString.map(lambda x: get_filtered_pred_string(x, classes_20_100))"
   ]
  },
  {
   "cell_type": "code",
   "execution_count": 57,
   "metadata": {},
   "outputs": [
    {
     "data": {
      "text/html": [
       "<div>\n",
       "<style scoped>\n",
       "    .dataframe tbody tr th:only-of-type {\n",
       "        vertical-align: middle;\n",
       "    }\n",
       "\n",
       "    .dataframe tbody tr th {\n",
       "        vertical-align: top;\n",
       "    }\n",
       "\n",
       "    .dataframe thead th {\n",
       "        text-align: right;\n",
       "    }\n",
       "</style>\n",
       "<table border=\"1\" class=\"dataframe\">\n",
       "  <thead>\n",
       "    <tr style=\"text-align: right;\">\n",
       "      <th></th>\n",
       "      <th>ImageID</th>\n",
       "      <th>ImageWidth</th>\n",
       "      <th>ImageHeight</th>\n",
       "      <th>PredictionString</th>\n",
       "    </tr>\n",
       "  </thead>\n",
       "  <tbody>\n",
       "    <tr>\n",
       "      <th>0</th>\n",
       "      <td>80155d58d0ee19bd</td>\n",
       "      <td>1024</td>\n",
       "      <td>683</td>\n",
       "      <td>/m/07r04 0.0049228 eNrNU0tvwyAM/kvh1Sw5RMphbdM...</td>\n",
       "    </tr>\n",
       "    <tr>\n",
       "      <th>1</th>\n",
       "      <td>52a76f3fe21185bf</td>\n",
       "      <td>1024</td>\n",
       "      <td>683</td>\n",
       "      <td>/m/01599 0.1188553 eNqlk9lymzAUhl9JCwjiSabT6Tg...</td>\n",
       "    </tr>\n",
       "    <tr>\n",
       "      <th>2</th>\n",
       "      <td>65e9da7c04c8e4cd</td>\n",
       "      <td>1024</td>\n",
       "      <td>682</td>\n",
       "      <td></td>\n",
       "    </tr>\n",
       "    <tr>\n",
       "      <th>3</th>\n",
       "      <td>6d10fa21d93bd6cc</td>\n",
       "      <td>1024</td>\n",
       "      <td>682</td>\n",
       "      <td>/m/01n4qj 0.0017988 eNpLiA2zMwpJNTDxN4RAAwMYCw...</td>\n",
       "    </tr>\n",
       "    <tr>\n",
       "      <th>4</th>\n",
       "      <td>0841dee573a875ca</td>\n",
       "      <td>1024</td>\n",
       "      <td>683</td>\n",
       "      <td>/m/015qff 0.0016251 eNpVUGt3gjAM/UtpsfgY5Ux0Pi...</td>\n",
       "    </tr>\n",
       "  </tbody>\n",
       "</table>\n",
       "</div>"
      ],
      "text/plain": [
       "            ImageID  ImageWidth  ImageHeight  \\\n",
       "0  80155d58d0ee19bd        1024          683   \n",
       "1  52a76f3fe21185bf        1024          683   \n",
       "2  65e9da7c04c8e4cd        1024          682   \n",
       "3  6d10fa21d93bd6cc        1024          682   \n",
       "4  0841dee573a875ca        1024          683   \n",
       "\n",
       "                                    PredictionString  \n",
       "0  /m/07r04 0.0049228 eNrNU0tvwyAM/kvh1Sw5RMphbdM...  \n",
       "1  /m/01599 0.1188553 eNqlk9lymzAUhl9JCwjiSabT6Tg...  \n",
       "2                                                     \n",
       "3  /m/01n4qj 0.0017988 eNpLiA2zMwpJNTDxN4RAAwMYCw...  \n",
       "4  /m/015qff 0.0016251 eNpVUGt3gjAM/UtpsfgY5Ux0Pi...  "
      ]
     },
     "execution_count": 57,
     "metadata": {},
     "output_type": "execute_result"
    }
   ],
   "source": [
    "df.head()"
   ]
  },
  {
   "cell_type": "code",
   "execution_count": 40,
   "metadata": {},
   "outputs": [],
   "source": [
    "df.to_csv('sub_4195_20_100.csv', index=False)"
   ]
  },
  {
   "cell_type": "code",
   "execution_count": 24,
   "metadata": {},
   "outputs": [
    {
     "name": "stdout",
     "output_type": "stream",
     "text": [
      "100%|████████████████████████████████████████| 440M/440M [00:28<00:00, 16.0MB/s]\n",
      "Successfully submitted to Open Images 2019 - Instance Segmentation"
     ]
    }
   ],
   "source": [
    "!kaggle competitions submit -c open-images-2019-instance-segmentation -f sub_4195_20_100.csv -m \"20_100\""
   ]
  },
  {
   "cell_type": "code",
   "execution_count": 25,
   "metadata": {},
   "outputs": [
    {
     "data": {
      "text/plain": [
       "175"
      ]
     },
     "execution_count": 25,
     "metadata": {},
     "output_type": "execute_result"
    }
   ],
   "source": [
    "len(classes_100_276)"
   ]
  },
  {
   "cell_type": "code",
   "execution_count": 41,
   "metadata": {},
   "outputs": [
    {
     "name": "stdout",
     "output_type": "stream",
     "text": [
      "check_preds.ipynb\t  sub_4195_100_275.csv\ttop_classes.csv\r\n",
      "check_preds-parent.ipynb  sub_4195_100_276.csv\ttop_classes_level1.csv\r\n",
      "eda.ipynb\t\t  sub_4195_20_100.csv\ttop_classes_parent.csv\r\n",
      "filter_classes.ipynb\t  submit.ipynb\r\n",
      "merge_df.ipynb\t\t  submit-parent.ipynb\r\n"
     ]
    }
   ],
   "source": [
    "!ls"
   ]
  },
  {
   "cell_type": "code",
   "execution_count": 42,
   "metadata": {},
   "outputs": [
    {
     "name": "stdout",
     "output_type": "stream",
     "text": [
      "e28ce33501f39d8492276b1c4f4d9ca7  sub_4195_100_275.csv\n",
      "e28ce33501f39d8492276b1c4f4d9ca7  sub_4195_100_276.csv\n",
      "f6a517f5b5888dfa28f125ebddd39ac0  sub_4195_20_100.csv\n"
     ]
    }
   ],
   "source": [
    "!md5sum sub_4195*"
   ]
  },
  {
   "cell_type": "markdown",
   "metadata": {},
   "source": [
    "# check top 5000"
   ]
  },
  {
   "cell_type": "code",
   "execution_count": 58,
   "metadata": {},
   "outputs": [],
   "source": [
    "df = pd.read_csv('sub_4195_20_100.csv')\n",
    "df_test = pd.read_csv(osp.join(DATA_DIR, 'sample_empty_submission.csv'))"
   ]
  },
  {
   "cell_type": "code",
   "execution_count": 59,
   "metadata": {},
   "outputs": [
    {
     "data": {
      "text/html": [
       "<div>\n",
       "<style scoped>\n",
       "    .dataframe tbody tr th:only-of-type {\n",
       "        vertical-align: middle;\n",
       "    }\n",
       "\n",
       "    .dataframe tbody tr th {\n",
       "        vertical-align: top;\n",
       "    }\n",
       "\n",
       "    .dataframe thead th {\n",
       "        text-align: right;\n",
       "    }\n",
       "</style>\n",
       "<table border=\"1\" class=\"dataframe\">\n",
       "  <thead>\n",
       "    <tr style=\"text-align: right;\">\n",
       "      <th></th>\n",
       "      <th>ImageID</th>\n",
       "      <th>ImageWidth</th>\n",
       "      <th>ImageHeight</th>\n",
       "      <th>PredictionString</th>\n",
       "    </tr>\n",
       "  </thead>\n",
       "  <tbody>\n",
       "    <tr>\n",
       "      <th>0</th>\n",
       "      <td>80155d58d0ee19bd</td>\n",
       "      <td>1024</td>\n",
       "      <td>683</td>\n",
       "      <td>/m/07r04 0.0049228 eNrNU0tvwyAM/kvh1Sw5RMphbdM...</td>\n",
       "    </tr>\n",
       "    <tr>\n",
       "      <th>1</th>\n",
       "      <td>52a76f3fe21185bf</td>\n",
       "      <td>1024</td>\n",
       "      <td>683</td>\n",
       "      <td>/m/01599 0.1188553 eNqlk9lymzAUhl9JCwjiSabT6Tg...</td>\n",
       "    </tr>\n",
       "    <tr>\n",
       "      <th>2</th>\n",
       "      <td>65e9da7c04c8e4cd</td>\n",
       "      <td>1024</td>\n",
       "      <td>682</td>\n",
       "      <td>NaN</td>\n",
       "    </tr>\n",
       "    <tr>\n",
       "      <th>3</th>\n",
       "      <td>6d10fa21d93bd6cc</td>\n",
       "      <td>1024</td>\n",
       "      <td>682</td>\n",
       "      <td>/m/01n4qj 0.0017988 eNpLiA2zMwpJNTDxN4RAAwMYCw...</td>\n",
       "    </tr>\n",
       "    <tr>\n",
       "      <th>4</th>\n",
       "      <td>0841dee573a875ca</td>\n",
       "      <td>1024</td>\n",
       "      <td>683</td>\n",
       "      <td>/m/015qff 0.0016251 eNpVUGt3gjAM/UtpsfgY5Ux0Pi...</td>\n",
       "    </tr>\n",
       "  </tbody>\n",
       "</table>\n",
       "</div>"
      ],
      "text/plain": [
       "            ImageID  ImageWidth  ImageHeight  \\\n",
       "0  80155d58d0ee19bd        1024          683   \n",
       "1  52a76f3fe21185bf        1024          683   \n",
       "2  65e9da7c04c8e4cd        1024          682   \n",
       "3  6d10fa21d93bd6cc        1024          682   \n",
       "4  0841dee573a875ca        1024          683   \n",
       "\n",
       "                                    PredictionString  \n",
       "0  /m/07r04 0.0049228 eNrNU0tvwyAM/kvh1Sw5RMphbdM...  \n",
       "1  /m/01599 0.1188553 eNqlk9lymzAUhl9JCwjiSabT6Tg...  \n",
       "2                                                NaN  \n",
       "3  /m/01n4qj 0.0017988 eNpLiA2zMwpJNTDxN4RAAwMYCw...  \n",
       "4  /m/015qff 0.0016251 eNpVUGt3gjAM/UtpsfgY5Ux0Pi...  "
      ]
     },
     "execution_count": 59,
     "metadata": {},
     "output_type": "execute_result"
    }
   ],
   "source": [
    "df.head()"
   ]
  },
  {
   "cell_type": "code",
   "execution_count": 60,
   "metadata": {},
   "outputs": [
    {
     "data": {
      "text/html": [
       "<div>\n",
       "<style scoped>\n",
       "    .dataframe tbody tr th:only-of-type {\n",
       "        vertical-align: middle;\n",
       "    }\n",
       "\n",
       "    .dataframe tbody tr th {\n",
       "        vertical-align: top;\n",
       "    }\n",
       "\n",
       "    .dataframe thead th {\n",
       "        text-align: right;\n",
       "    }\n",
       "</style>\n",
       "<table border=\"1\" class=\"dataframe\">\n",
       "  <thead>\n",
       "    <tr style=\"text-align: right;\">\n",
       "      <th></th>\n",
       "      <th>ImageID</th>\n",
       "      <th>ImageWidth</th>\n",
       "      <th>ImageHeight</th>\n",
       "      <th>PredictionString</th>\n",
       "    </tr>\n",
       "  </thead>\n",
       "  <tbody>\n",
       "    <tr>\n",
       "      <th>0</th>\n",
       "      <td>80155d58d0ee19bd</td>\n",
       "      <td>-1</td>\n",
       "      <td>-1</td>\n",
       "      <td>NaN</td>\n",
       "    </tr>\n",
       "    <tr>\n",
       "      <th>1</th>\n",
       "      <td>52a76f3fe21185bf</td>\n",
       "      <td>-1</td>\n",
       "      <td>-1</td>\n",
       "      <td>NaN</td>\n",
       "    </tr>\n",
       "    <tr>\n",
       "      <th>2</th>\n",
       "      <td>65e9da7c04c8e4cd</td>\n",
       "      <td>-1</td>\n",
       "      <td>-1</td>\n",
       "      <td>NaN</td>\n",
       "    </tr>\n",
       "    <tr>\n",
       "      <th>3</th>\n",
       "      <td>6d10fa21d93bd6cc</td>\n",
       "      <td>-1</td>\n",
       "      <td>-1</td>\n",
       "      <td>NaN</td>\n",
       "    </tr>\n",
       "    <tr>\n",
       "      <th>4</th>\n",
       "      <td>0841dee573a875ca</td>\n",
       "      <td>-1</td>\n",
       "      <td>-1</td>\n",
       "      <td>NaN</td>\n",
       "    </tr>\n",
       "  </tbody>\n",
       "</table>\n",
       "</div>"
      ],
      "text/plain": [
       "            ImageID  ImageWidth  ImageHeight  PredictionString\n",
       "0  80155d58d0ee19bd          -1           -1               NaN\n",
       "1  52a76f3fe21185bf          -1           -1               NaN\n",
       "2  65e9da7c04c8e4cd          -1           -1               NaN\n",
       "3  6d10fa21d93bd6cc          -1           -1               NaN\n",
       "4  0841dee573a875ca          -1           -1               NaN"
      ]
     },
     "execution_count": 60,
     "metadata": {},
     "output_type": "execute_result"
    }
   ],
   "source": [
    "df_test.head()"
   ]
  },
  {
   "cell_type": "code",
   "execution_count": 61,
   "metadata": {},
   "outputs": [
    {
     "data": {
      "text/html": [
       "<div>\n",
       "<style scoped>\n",
       "    .dataframe tbody tr th:only-of-type {\n",
       "        vertical-align: middle;\n",
       "    }\n",
       "\n",
       "    .dataframe tbody tr th {\n",
       "        vertical-align: top;\n",
       "    }\n",
       "\n",
       "    .dataframe thead th {\n",
       "        text-align: right;\n",
       "    }\n",
       "</style>\n",
       "<table border=\"1\" class=\"dataframe\">\n",
       "  <thead>\n",
       "    <tr style=\"text-align: right;\">\n",
       "      <th></th>\n",
       "      <th>ImageID</th>\n",
       "      <th>ImageWidth</th>\n",
       "      <th>ImageHeight</th>\n",
       "      <th>PredictionString</th>\n",
       "    </tr>\n",
       "  </thead>\n",
       "  <tbody>\n",
       "    <tr>\n",
       "      <th>0</th>\n",
       "      <td>80155d58d0ee19bd</td>\n",
       "      <td>1024</td>\n",
       "      <td>683</td>\n",
       "      <td>/m/07r04 0.0049228 eNrNU0tvwyAM/kvh1Sw5RMphbdM...</td>\n",
       "    </tr>\n",
       "    <tr>\n",
       "      <th>1</th>\n",
       "      <td>52a76f3fe21185bf</td>\n",
       "      <td>1024</td>\n",
       "      <td>683</td>\n",
       "      <td>/m/01599 0.1188553 eNqlk9lymzAUhl9JCwjiSabT6Tg...</td>\n",
       "    </tr>\n",
       "    <tr>\n",
       "      <th>2</th>\n",
       "      <td>65e9da7c04c8e4cd</td>\n",
       "      <td>1024</td>\n",
       "      <td>682</td>\n",
       "      <td>NaN</td>\n",
       "    </tr>\n",
       "    <tr>\n",
       "      <th>3</th>\n",
       "      <td>6d10fa21d93bd6cc</td>\n",
       "      <td>1024</td>\n",
       "      <td>682</td>\n",
       "      <td>/m/01n4qj 0.0017988 eNpLiA2zMwpJNTDxN4RAAwMYCw...</td>\n",
       "    </tr>\n",
       "    <tr>\n",
       "      <th>4</th>\n",
       "      <td>0841dee573a875ca</td>\n",
       "      <td>1024</td>\n",
       "      <td>683</td>\n",
       "      <td>/m/015qff 0.0016251 eNpVUGt3gjAM/UtpsfgY5Ux0Pi...</td>\n",
       "    </tr>\n",
       "  </tbody>\n",
       "</table>\n",
       "</div>"
      ],
      "text/plain": [
       "            ImageID  ImageWidth  ImageHeight  \\\n",
       "0  80155d58d0ee19bd        1024          683   \n",
       "1  52a76f3fe21185bf        1024          683   \n",
       "2  65e9da7c04c8e4cd        1024          682   \n",
       "3  6d10fa21d93bd6cc        1024          682   \n",
       "4  0841dee573a875ca        1024          683   \n",
       "\n",
       "                                    PredictionString  \n",
       "0  /m/07r04 0.0049228 eNrNU0tvwyAM/kvh1Sw5RMphbdM...  \n",
       "1  /m/01599 0.1188553 eNqlk9lymzAUhl9JCwjiSabT6Tg...  \n",
       "2                                                NaN  \n",
       "3  /m/01n4qj 0.0017988 eNpLiA2zMwpJNTDxN4RAAwMYCw...  \n",
       "4  /m/015qff 0.0016251 eNpVUGt3gjAM/UtpsfgY5Ux0Pi...  "
      ]
     },
     "execution_count": 61,
     "metadata": {},
     "output_type": "execute_result"
    }
   ],
   "source": [
    "df_5000 = pd.concat([df.iloc[:5000].copy(), df_test.iloc[5000:].copy()])\n",
    "df_5000.head()"
   ]
  },
  {
   "cell_type": "code",
   "execution_count": 62,
   "metadata": {},
   "outputs": [
    {
     "data": {
      "text/html": [
       "<div>\n",
       "<style scoped>\n",
       "    .dataframe tbody tr th:only-of-type {\n",
       "        vertical-align: middle;\n",
       "    }\n",
       "\n",
       "    .dataframe tbody tr th {\n",
       "        vertical-align: top;\n",
       "    }\n",
       "\n",
       "    .dataframe thead th {\n",
       "        text-align: right;\n",
       "    }\n",
       "</style>\n",
       "<table border=\"1\" class=\"dataframe\">\n",
       "  <thead>\n",
       "    <tr style=\"text-align: right;\">\n",
       "      <th></th>\n",
       "      <th>ImageID</th>\n",
       "      <th>ImageWidth</th>\n",
       "      <th>ImageHeight</th>\n",
       "      <th>PredictionString</th>\n",
       "    </tr>\n",
       "  </thead>\n",
       "  <tbody>\n",
       "    <tr>\n",
       "      <th>99994</th>\n",
       "      <td>e40f388b3a4f80a6</td>\n",
       "      <td>-1</td>\n",
       "      <td>-1</td>\n",
       "      <td>NaN</td>\n",
       "    </tr>\n",
       "    <tr>\n",
       "      <th>99995</th>\n",
       "      <td>a21b4cd415d83b4d</td>\n",
       "      <td>-1</td>\n",
       "      <td>-1</td>\n",
       "      <td>NaN</td>\n",
       "    </tr>\n",
       "    <tr>\n",
       "      <th>99996</th>\n",
       "      <td>750b5d6e41c23bc9</td>\n",
       "      <td>-1</td>\n",
       "      <td>-1</td>\n",
       "      <td>NaN</td>\n",
       "    </tr>\n",
       "    <tr>\n",
       "      <th>99997</th>\n",
       "      <td>4944489aca12f92e</td>\n",
       "      <td>-1</td>\n",
       "      <td>-1</td>\n",
       "      <td>NaN</td>\n",
       "    </tr>\n",
       "    <tr>\n",
       "      <th>99998</th>\n",
       "      <td>632dad5b912b4b6a</td>\n",
       "      <td>-1</td>\n",
       "      <td>-1</td>\n",
       "      <td>NaN</td>\n",
       "    </tr>\n",
       "  </tbody>\n",
       "</table>\n",
       "</div>"
      ],
      "text/plain": [
       "                ImageID  ImageWidth  ImageHeight PredictionString\n",
       "99994  e40f388b3a4f80a6          -1           -1              NaN\n",
       "99995  a21b4cd415d83b4d          -1           -1              NaN\n",
       "99996  750b5d6e41c23bc9          -1           -1              NaN\n",
       "99997  4944489aca12f92e          -1           -1              NaN\n",
       "99998  632dad5b912b4b6a          -1           -1              NaN"
      ]
     },
     "execution_count": 62,
     "metadata": {},
     "output_type": "execute_result"
    }
   ],
   "source": [
    "df_5000.tail()"
   ]
  },
  {
   "cell_type": "code",
   "execution_count": 63,
   "metadata": {},
   "outputs": [],
   "source": [
    "df_5000.to_csv('sub_4195_20_100_5000.csv', index=False)"
   ]
  },
  {
   "cell_type": "code",
   "execution_count": null,
   "metadata": {},
   "outputs": [
    {
     "name": "stdout",
     "output_type": "stream",
     "text": [
      " 77%|█████████████████████████████▏        | 18.6M/24.2M [00:07<01:02, 93.5kB/s]"
     ]
    }
   ],
   "source": [
    "!kaggle competitions submit -c open-images-2019-instance-segmentation -f sub_4195_20_100_5000.csv -m \"test 5000\""
   ]
  },
  {
   "cell_type": "code",
   "execution_count": null,
   "metadata": {},
   "outputs": [],
   "source": []
  }
 ],
 "metadata": {
  "kernelspec": {
   "display_name": "Python 3",
   "language": "python",
   "name": "python3"
  },
  "language_info": {
   "codemirror_mode": {
    "name": "ipython",
    "version": 3
   },
   "file_extension": ".py",
   "mimetype": "text/x-python",
   "name": "python",
   "nbconvert_exporter": "python",
   "pygments_lexer": "ipython3",
   "version": "3.7.3"
  }
 },
 "nbformat": 4,
 "nbformat_minor": 2
}

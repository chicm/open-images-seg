{
 "cells": [
  {
   "cell_type": "code",
   "execution_count": 40,
   "metadata": {},
   "outputs": [],
   "source": [
    "import os\n",
    "import numpy as np\n",
    "import pandas as pd\n",
    "import torch\n",
    "import os.path as osp\n",
    "import json\n",
    "import pandas as pd\n",
    "from PIL import Image\n",
    "from matplotlib.pyplot import imshow\n",
    "import matplotlib.pyplot as plt\n",
    "import cv2\n",
    "import numpy as np\n",
    "%matplotlib inline\n",
    "from tqdm import tqdm\n",
    "import glob\n",
    "import pickle\n",
    "IMG_DIR = '/mnt/chicm/data/open-images/train/imgs'\n",
    "MASK_DIR = '/mnt/chicm/data/open-images/masks/train'\n",
    "DATA_DIR = '/mnt/chicm/data/open-images/segmentation'"
   ]
  },
  {
   "cell_type": "code",
   "execution_count": 41,
   "metadata": {},
   "outputs": [],
   "source": [
    "def get_top_classes(start_index, end_index):\n",
    "    df = pd.read_csv('top_classes_level1.csv')\n",
    "    c = df['class'].values[start_index:end_index]\n",
    "    #print(df.head())\n",
    "    stoi = { c[i]: i for i in range(len(c)) }\n",
    "    return c, stoi"
   ]
  },
  {
   "cell_type": "code",
   "execution_count": 42,
   "metadata": {},
   "outputs": [],
   "source": [
    "classes_0_20 = set(get_top_classes(0, 20)[0])\n",
    "classes_20_100 = set(get_top_classes(20, 100)[0])\n",
    "classes_100_275 = set(get_top_classes(100, 275)[0])\n",
    "#classes_0_20\n",
    "classes_275 = set(get_top_classes(0, 275)[0])"
   ]
  },
  {
   "cell_type": "code",
   "execution_count": 43,
   "metadata": {},
   "outputs": [
    {
     "data": {
      "text/plain": [
       "20"
      ]
     },
     "execution_count": 43,
     "metadata": {},
     "output_type": "execute_result"
    }
   ],
   "source": [
    "len(classes_0_20)"
   ]
  },
  {
   "cell_type": "code",
   "execution_count": 23,
   "metadata": {},
   "outputs": [],
   "source": [
    "#df = pd.read_csv(osp.join(DATA_DIR, 'sub_0902_3_top50.csv.zip'))\n",
    "#df.head()"
   ]
  },
  {
   "cell_type": "code",
   "execution_count": 79,
   "metadata": {},
   "outputs": [],
   "source": [
    "#df = pd.read_csv('../seg/ens_htc275_4619_od1000_0928.csv')\n",
    "#df = pd.read_csv('../seg/merge_0930_7model_top120_od50_new_lb5114.csv')\n",
    "#df = pd.read_csv('../seg/merge_0930_9models_lb5145.csv')\n",
    "#df = pd.read_csv('../seg/lb5145/ens_0_20_5145_0265_all.csv')\n",
    "df = pd.read_csv('od628_mask_300_top50.csv')\n"
   ]
  },
  {
   "cell_type": "code",
   "execution_count": 80,
   "metadata": {},
   "outputs": [
    {
     "data": {
      "text/html": [
       "<div>\n",
       "<style scoped>\n",
       "    .dataframe tbody tr th:only-of-type {\n",
       "        vertical-align: middle;\n",
       "    }\n",
       "\n",
       "    .dataframe tbody tr th {\n",
       "        vertical-align: top;\n",
       "    }\n",
       "\n",
       "    .dataframe thead th {\n",
       "        text-align: right;\n",
       "    }\n",
       "</style>\n",
       "<table border=\"1\" class=\"dataframe\">\n",
       "  <thead>\n",
       "    <tr style=\"text-align: right;\">\n",
       "      <th></th>\n",
       "      <th>ImageID</th>\n",
       "      <th>ImageWidth</th>\n",
       "      <th>ImageHeight</th>\n",
       "      <th>PredictionString</th>\n",
       "    </tr>\n",
       "  </thead>\n",
       "  <tbody>\n",
       "    <tr>\n",
       "      <th>0</th>\n",
       "      <td>00000b4dcff7f799</td>\n",
       "      <td>1024</td>\n",
       "      <td>683</td>\n",
       "      <td>/m/07r04 0.9051 eNqLjzUNSDCINjUYBaNgFIyCUTBYQE...</td>\n",
       "    </tr>\n",
       "    <tr>\n",
       "      <th>1</th>\n",
       "      <td>00001a21632de752</td>\n",
       "      <td>1024</td>\n",
       "      <td>681</td>\n",
       "      <td>/m/03bt1vf 0.6542 eNrLSM4yDbUIsTUYBSMNpMaFWwEA...</td>\n",
       "    </tr>\n",
       "    <tr>\n",
       "      <th>2</th>\n",
       "      <td>0000d67245642c5f</td>\n",
       "      <td>1024</td>\n",
       "      <td>683</td>\n",
       "      <td>/m/079cl 0.2559 eNrLCcozjk4xCDA0GAWjYBSMglEwCu...</td>\n",
       "    </tr>\n",
       "    <tr>\n",
       "      <th>3</th>\n",
       "      <td>0001244aa8ed3099</td>\n",
       "      <td>1024</td>\n",
       "      <td>683</td>\n",
       "      <td>/m/0c9ph5 0.2090 eNqLic+wTrNOtTQYBaNgFAweEBZoC...</td>\n",
       "    </tr>\n",
       "    <tr>\n",
       "      <th>4</th>\n",
       "      <td>000172d1dd1adce0</td>\n",
       "      <td>1024</td>\n",
       "      <td>682</td>\n",
       "      <td>/m/04h7h 0.2846 eNpLT4gyjUo0CDAxGAWjYBSMAtqB6I...</td>\n",
       "    </tr>\n",
       "  </tbody>\n",
       "</table>\n",
       "</div>"
      ],
      "text/plain": [
       "            ImageID  ImageWidth  ImageHeight  \\\n",
       "0  00000b4dcff7f799        1024          683   \n",
       "1  00001a21632de752        1024          681   \n",
       "2  0000d67245642c5f        1024          683   \n",
       "3  0001244aa8ed3099        1024          683   \n",
       "4  000172d1dd1adce0        1024          682   \n",
       "\n",
       "                                    PredictionString  \n",
       "0  /m/07r04 0.9051 eNqLjzUNSDCINjUYBaNgFIyCUTBYQE...  \n",
       "1  /m/03bt1vf 0.6542 eNrLSM4yDbUIsTUYBSMNpMaFWwEA...  \n",
       "2  /m/079cl 0.2559 eNrLCcozjk4xCDA0GAWjYBSMglEwCu...  \n",
       "3  /m/0c9ph5 0.2090 eNqLic+wTrNOtTQYBaNgFAweEBZoC...  \n",
       "4  /m/04h7h 0.2846 eNpLT4gyjUo0CDAxGAWjYBSMAtqB6I...  "
      ]
     },
     "execution_count": 80,
     "metadata": {},
     "output_type": "execute_result"
    }
   ],
   "source": [
    "df.head()"
   ]
  },
  {
   "cell_type": "code",
   "execution_count": null,
   "metadata": {},
   "outputs": [],
   "source": []
  },
  {
   "cell_type": "code",
   "execution_count": null,
   "metadata": {},
   "outputs": [],
   "source": []
  },
  {
   "cell_type": "code",
   "execution_count": 143,
   "metadata": {},
   "outputs": [],
   "source": [
    "#df = pd.read_csv('od_convert_0928_top1000_275.csv')"
   ]
  },
  {
   "cell_type": "code",
   "execution_count": null,
   "metadata": {},
   "outputs": [],
   "source": []
  },
  {
   "cell_type": "code",
   "execution_count": 81,
   "metadata": {},
   "outputs": [
    {
     "data": {
      "text/html": [
       "<div>\n",
       "<style scoped>\n",
       "    .dataframe tbody tr th:only-of-type {\n",
       "        vertical-align: middle;\n",
       "    }\n",
       "\n",
       "    .dataframe tbody tr th {\n",
       "        vertical-align: top;\n",
       "    }\n",
       "\n",
       "    .dataframe thead th {\n",
       "        text-align: right;\n",
       "    }\n",
       "</style>\n",
       "<table border=\"1\" class=\"dataframe\">\n",
       "  <thead>\n",
       "    <tr style=\"text-align: right;\">\n",
       "      <th></th>\n",
       "      <th>ImageID</th>\n",
       "      <th>ImageWidth</th>\n",
       "      <th>ImageHeight</th>\n",
       "      <th>PredictionString</th>\n",
       "    </tr>\n",
       "  </thead>\n",
       "  <tbody>\n",
       "    <tr>\n",
       "      <th>0</th>\n",
       "      <td>00000b4dcff7f799</td>\n",
       "      <td>1024</td>\n",
       "      <td>683</td>\n",
       "      <td>/m/07r04 0.9051 eNqLjzUNSDCINjUYBaNgFIyCUTBYQE...</td>\n",
       "    </tr>\n",
       "    <tr>\n",
       "      <th>1</th>\n",
       "      <td>00001a21632de752</td>\n",
       "      <td>1024</td>\n",
       "      <td>681</td>\n",
       "      <td>/m/03bt1vf 0.6542 eNrLSM4yDbUIsTUYBSMNpMaFWwEA...</td>\n",
       "    </tr>\n",
       "    <tr>\n",
       "      <th>2</th>\n",
       "      <td>0000d67245642c5f</td>\n",
       "      <td>1024</td>\n",
       "      <td>683</td>\n",
       "      <td>/m/079cl 0.2559 eNrLCcozjk4xCDA0GAWjYBSMglEwCu...</td>\n",
       "    </tr>\n",
       "    <tr>\n",
       "      <th>3</th>\n",
       "      <td>0001244aa8ed3099</td>\n",
       "      <td>1024</td>\n",
       "      <td>683</td>\n",
       "      <td>/m/0c9ph5 0.2090 eNqLic+wTrNOtTQYBaNgFAweEBZoC...</td>\n",
       "    </tr>\n",
       "    <tr>\n",
       "      <th>4</th>\n",
       "      <td>000172d1dd1adce0</td>\n",
       "      <td>1024</td>\n",
       "      <td>682</td>\n",
       "      <td>/m/04h7h 0.2846 eNpLT4gyjUo0CDAxGAWjYBSMAtqB6I...</td>\n",
       "    </tr>\n",
       "  </tbody>\n",
       "</table>\n",
       "</div>"
      ],
      "text/plain": [
       "            ImageID  ImageWidth  ImageHeight  \\\n",
       "0  00000b4dcff7f799        1024          683   \n",
       "1  00001a21632de752        1024          681   \n",
       "2  0000d67245642c5f        1024          683   \n",
       "3  0001244aa8ed3099        1024          683   \n",
       "4  000172d1dd1adce0        1024          682   \n",
       "\n",
       "                                    PredictionString  \n",
       "0  /m/07r04 0.9051 eNqLjzUNSDCINjUYBaNgFIyCUTBYQE...  \n",
       "1  /m/03bt1vf 0.6542 eNrLSM4yDbUIsTUYBSMNpMaFWwEA...  \n",
       "2  /m/079cl 0.2559 eNrLCcozjk4xCDA0GAWjYBSMglEwCu...  \n",
       "3  /m/0c9ph5 0.2090 eNqLic+wTrNOtTQYBaNgFAweEBZoC...  \n",
       "4  /m/04h7h 0.2846 eNpLT4gyjUo0CDAxGAWjYBSMAtqB6I...  "
      ]
     },
     "execution_count": 81,
     "metadata": {},
     "output_type": "execute_result"
    }
   ],
   "source": [
    "df.PredictionString = df.PredictionString.fillna('')\n",
    "df.head()"
   ]
  },
  {
   "cell_type": "code",
   "execution_count": 83,
   "metadata": {},
   "outputs": [],
   "source": [
    "#selected_rel = ['plays', 'inside_of', 'holds']\n",
    "#selected_rel = 'on'\n",
    "def get_filtered_pred_string(pred_str, selected_classes):\n",
    "    if len(pred_str) < 1:\n",
    "        return ''\n",
    "    dets = []\n",
    "    det = []\n",
    "    for i, e in enumerate(pred_str.split(' ')):\n",
    "        if i % 3 == 0:\n",
    "            det = []\n",
    "        det.append(e)\n",
    "        if (i+1) % 3 == 0: # and det[0] in selected_classes:\n",
    "            det[1] = str(float(det[1]) / 1000) # low conf for concat\n",
    "            dets.append(' '.join(det))\n",
    "                \n",
    "    return ' '.join(dets)"
   ]
  },
  {
   "cell_type": "code",
   "execution_count": 72,
   "metadata": {},
   "outputs": [],
   "source": [
    "#selected_rel = ['plays', 'inside_of', 'holds']\n",
    "#selected_rel = 'on'\n",
    "def get_top_masks(pred_str, max_num=50):\n",
    "    if len(pred_str) < 1:\n",
    "        return ''\n",
    "    \n",
    "    return ' '.join(pred_str.split()[:(max_num*3)])"
   ]
  },
  {
   "cell_type": "code",
   "execution_count": null,
   "metadata": {},
   "outputs": [],
   "source": []
  },
  {
   "cell_type": "code",
   "execution_count": null,
   "metadata": {},
   "outputs": [],
   "source": []
  },
  {
   "cell_type": "code",
   "execution_count": null,
   "metadata": {},
   "outputs": [],
   "source": []
  },
  {
   "cell_type": "code",
   "execution_count": 84,
   "metadata": {},
   "outputs": [],
   "source": [
    "df.PredictionString = df.PredictionString.map(lambda x: get_filtered_pred_string(x, classes_0_20))"
   ]
  },
  {
   "cell_type": "code",
   "execution_count": null,
   "metadata": {},
   "outputs": [],
   "source": []
  },
  {
   "cell_type": "code",
   "execution_count": null,
   "metadata": {},
   "outputs": [],
   "source": []
  },
  {
   "cell_type": "code",
   "execution_count": 73,
   "metadata": {},
   "outputs": [],
   "source": [
    "df.PredictionString = df.PredictionString.map(lambda x: get_top_masks(x))"
   ]
  },
  {
   "cell_type": "code",
   "execution_count": 85,
   "metadata": {},
   "outputs": [
    {
     "data": {
      "text/html": [
       "<div>\n",
       "<style scoped>\n",
       "    .dataframe tbody tr th:only-of-type {\n",
       "        vertical-align: middle;\n",
       "    }\n",
       "\n",
       "    .dataframe tbody tr th {\n",
       "        vertical-align: top;\n",
       "    }\n",
       "\n",
       "    .dataframe thead th {\n",
       "        text-align: right;\n",
       "    }\n",
       "</style>\n",
       "<table border=\"1\" class=\"dataframe\">\n",
       "  <thead>\n",
       "    <tr style=\"text-align: right;\">\n",
       "      <th></th>\n",
       "      <th>ImageID</th>\n",
       "      <th>ImageWidth</th>\n",
       "      <th>ImageHeight</th>\n",
       "      <th>PredictionString</th>\n",
       "    </tr>\n",
       "  </thead>\n",
       "  <tbody>\n",
       "    <tr>\n",
       "      <th>0</th>\n",
       "      <td>00000b4dcff7f799</td>\n",
       "      <td>1024</td>\n",
       "      <td>683</td>\n",
       "      <td>/m/07r04 0.0009051 eNqLjzUNSDCINjUYBaNgFIyCUTB...</td>\n",
       "    </tr>\n",
       "    <tr>\n",
       "      <th>1</th>\n",
       "      <td>00001a21632de752</td>\n",
       "      <td>1024</td>\n",
       "      <td>681</td>\n",
       "      <td>/m/03bt1vf 0.0006542 eNrLSM4yDbUIsTUYBSMNpMaFW...</td>\n",
       "    </tr>\n",
       "    <tr>\n",
       "      <th>2</th>\n",
       "      <td>0000d67245642c5f</td>\n",
       "      <td>1024</td>\n",
       "      <td>683</td>\n",
       "      <td>/m/079cl 0.00025590000000000004 eNrLCcozjk4xCD...</td>\n",
       "    </tr>\n",
       "    <tr>\n",
       "      <th>3</th>\n",
       "      <td>0001244aa8ed3099</td>\n",
       "      <td>1024</td>\n",
       "      <td>683</td>\n",
       "      <td>/m/0c9ph5 0.00020899999999999998 eNqLic+wTrNOt...</td>\n",
       "    </tr>\n",
       "    <tr>\n",
       "      <th>4</th>\n",
       "      <td>000172d1dd1adce0</td>\n",
       "      <td>1024</td>\n",
       "      <td>682</td>\n",
       "      <td>/m/04h7h 0.00028460000000000003 eNpLT4gyjUo0CD...</td>\n",
       "    </tr>\n",
       "  </tbody>\n",
       "</table>\n",
       "</div>"
      ],
      "text/plain": [
       "            ImageID  ImageWidth  ImageHeight  \\\n",
       "0  00000b4dcff7f799        1024          683   \n",
       "1  00001a21632de752        1024          681   \n",
       "2  0000d67245642c5f        1024          683   \n",
       "3  0001244aa8ed3099        1024          683   \n",
       "4  000172d1dd1adce0        1024          682   \n",
       "\n",
       "                                    PredictionString  \n",
       "0  /m/07r04 0.0009051 eNqLjzUNSDCINjUYBaNgFIyCUTB...  \n",
       "1  /m/03bt1vf 0.0006542 eNrLSM4yDbUIsTUYBSMNpMaFW...  \n",
       "2  /m/079cl 0.00025590000000000004 eNrLCcozjk4xCD...  \n",
       "3  /m/0c9ph5 0.00020899999999999998 eNqLic+wTrNOt...  \n",
       "4  /m/04h7h 0.00028460000000000003 eNpLT4gyjUo0CD...  "
      ]
     },
     "execution_count": 85,
     "metadata": {},
     "output_type": "execute_result"
    }
   ],
   "source": [
    "df.head()"
   ]
  },
  {
   "cell_type": "code",
   "execution_count": 86,
   "metadata": {},
   "outputs": [
    {
     "data": {
      "text/plain": [
       "150"
      ]
     },
     "execution_count": 86,
     "metadata": {},
     "output_type": "execute_result"
    }
   ],
   "source": [
    "len(df.iloc[0].PredictionString.split())"
   ]
  },
  {
   "cell_type": "code",
   "execution_count": 19,
   "metadata": {},
   "outputs": [
    {
     "data": {
      "text/plain": [
       "435"
      ]
     },
     "execution_count": 19,
     "metadata": {},
     "output_type": "execute_result"
    }
   ],
   "source": [
    "145*3"
   ]
  },
  {
   "cell_type": "code",
   "execution_count": 87,
   "metadata": {},
   "outputs": [],
   "source": [
    "#df.to_csv('../seg/merge_0930_9models_lb5145_0_20.csv', index=False)\n",
    "#df.to_csv('sub_od_convert_0928_top300_275.csv', index=False)\n",
    "#df.to_csv('../seg/lb5145/ens_0_20_5145_0265_top50.csv', index=False)\n",
    "df.to_csv('od628_mask_300_top50_lowconf1000.csv', index=False)"
   ]
  },
  {
   "cell_type": "code",
   "execution_count": null,
   "metadata": {},
   "outputs": [],
   "source": []
  },
  {
   "cell_type": "code",
   "execution_count": null,
   "metadata": {},
   "outputs": [],
   "source": []
  },
  {
   "cell_type": "code",
   "execution_count": 24,
   "metadata": {},
   "outputs": [
    {
     "name": "stdout",
     "output_type": "stream",
     "text": [
      "100%|████████████████████████████████████████| 440M/440M [00:28<00:00, 16.0MB/s]\n",
      "Successfully submitted to Open Images 2019 - Instance Segmentation"
     ]
    }
   ],
   "source": [
    "#!kaggle competitions submit -c open-images-2019-instance-segmentation -f sub_4195_20_100.csv -m \"20_100\""
   ]
  },
  {
   "cell_type": "code",
   "execution_count": 25,
   "metadata": {},
   "outputs": [
    {
     "data": {
      "text/plain": [
       "175"
      ]
     },
     "execution_count": 25,
     "metadata": {},
     "output_type": "execute_result"
    }
   ],
   "source": [
    "len(classes_100_276)"
   ]
  },
  {
   "cell_type": "code",
   "execution_count": 41,
   "metadata": {},
   "outputs": [
    {
     "name": "stdout",
     "output_type": "stream",
     "text": [
      "check_preds.ipynb\t  sub_4195_100_275.csv\ttop_classes.csv\r\n",
      "check_preds-parent.ipynb  sub_4195_100_276.csv\ttop_classes_level1.csv\r\n",
      "eda.ipynb\t\t  sub_4195_20_100.csv\ttop_classes_parent.csv\r\n",
      "filter_classes.ipynb\t  submit.ipynb\r\n",
      "merge_df.ipynb\t\t  submit-parent.ipynb\r\n"
     ]
    }
   ],
   "source": [
    "!ls"
   ]
  },
  {
   "cell_type": "code",
   "execution_count": 42,
   "metadata": {},
   "outputs": [
    {
     "name": "stdout",
     "output_type": "stream",
     "text": [
      "e28ce33501f39d8492276b1c4f4d9ca7  sub_4195_100_275.csv\n",
      "e28ce33501f39d8492276b1c4f4d9ca7  sub_4195_100_276.csv\n",
      "f6a517f5b5888dfa28f125ebddd39ac0  sub_4195_20_100.csv\n"
     ]
    }
   ],
   "source": [
    "!md5sum sub_4195*"
   ]
  },
  {
   "cell_type": "markdown",
   "metadata": {},
   "source": [
    "# check top 5000"
   ]
  },
  {
   "cell_type": "code",
   "execution_count": 58,
   "metadata": {},
   "outputs": [],
   "source": [
    "df = pd.read_csv('sub_4195_20_100.csv')\n",
    "df_test = pd.read_csv(osp.join(DATA_DIR, 'sample_empty_submission.csv'))"
   ]
  },
  {
   "cell_type": "code",
   "execution_count": 59,
   "metadata": {},
   "outputs": [
    {
     "data": {
      "text/html": [
       "<div>\n",
       "<style scoped>\n",
       "    .dataframe tbody tr th:only-of-type {\n",
       "        vertical-align: middle;\n",
       "    }\n",
       "\n",
       "    .dataframe tbody tr th {\n",
       "        vertical-align: top;\n",
       "    }\n",
       "\n",
       "    .dataframe thead th {\n",
       "        text-align: right;\n",
       "    }\n",
       "</style>\n",
       "<table border=\"1\" class=\"dataframe\">\n",
       "  <thead>\n",
       "    <tr style=\"text-align: right;\">\n",
       "      <th></th>\n",
       "      <th>ImageID</th>\n",
       "      <th>ImageWidth</th>\n",
       "      <th>ImageHeight</th>\n",
       "      <th>PredictionString</th>\n",
       "    </tr>\n",
       "  </thead>\n",
       "  <tbody>\n",
       "    <tr>\n",
       "      <th>0</th>\n",
       "      <td>80155d58d0ee19bd</td>\n",
       "      <td>1024</td>\n",
       "      <td>683</td>\n",
       "      <td>/m/07r04 0.0049228 eNrNU0tvwyAM/kvh1Sw5RMphbdM...</td>\n",
       "    </tr>\n",
       "    <tr>\n",
       "      <th>1</th>\n",
       "      <td>52a76f3fe21185bf</td>\n",
       "      <td>1024</td>\n",
       "      <td>683</td>\n",
       "      <td>/m/01599 0.1188553 eNqlk9lymzAUhl9JCwjiSabT6Tg...</td>\n",
       "    </tr>\n",
       "    <tr>\n",
       "      <th>2</th>\n",
       "      <td>65e9da7c04c8e4cd</td>\n",
       "      <td>1024</td>\n",
       "      <td>682</td>\n",
       "      <td>NaN</td>\n",
       "    </tr>\n",
       "    <tr>\n",
       "      <th>3</th>\n",
       "      <td>6d10fa21d93bd6cc</td>\n",
       "      <td>1024</td>\n",
       "      <td>682</td>\n",
       "      <td>/m/01n4qj 0.0017988 eNpLiA2zMwpJNTDxN4RAAwMYCw...</td>\n",
       "    </tr>\n",
       "    <tr>\n",
       "      <th>4</th>\n",
       "      <td>0841dee573a875ca</td>\n",
       "      <td>1024</td>\n",
       "      <td>683</td>\n",
       "      <td>/m/015qff 0.0016251 eNpVUGt3gjAM/UtpsfgY5Ux0Pi...</td>\n",
       "    </tr>\n",
       "  </tbody>\n",
       "</table>\n",
       "</div>"
      ],
      "text/plain": [
       "            ImageID  ImageWidth  ImageHeight  \\\n",
       "0  80155d58d0ee19bd        1024          683   \n",
       "1  52a76f3fe21185bf        1024          683   \n",
       "2  65e9da7c04c8e4cd        1024          682   \n",
       "3  6d10fa21d93bd6cc        1024          682   \n",
       "4  0841dee573a875ca        1024          683   \n",
       "\n",
       "                                    PredictionString  \n",
       "0  /m/07r04 0.0049228 eNrNU0tvwyAM/kvh1Sw5RMphbdM...  \n",
       "1  /m/01599 0.1188553 eNqlk9lymzAUhl9JCwjiSabT6Tg...  \n",
       "2                                                NaN  \n",
       "3  /m/01n4qj 0.0017988 eNpLiA2zMwpJNTDxN4RAAwMYCw...  \n",
       "4  /m/015qff 0.0016251 eNpVUGt3gjAM/UtpsfgY5Ux0Pi...  "
      ]
     },
     "execution_count": 59,
     "metadata": {},
     "output_type": "execute_result"
    }
   ],
   "source": [
    "df.head()"
   ]
  },
  {
   "cell_type": "code",
   "execution_count": 60,
   "metadata": {},
   "outputs": [
    {
     "data": {
      "text/html": [
       "<div>\n",
       "<style scoped>\n",
       "    .dataframe tbody tr th:only-of-type {\n",
       "        vertical-align: middle;\n",
       "    }\n",
       "\n",
       "    .dataframe tbody tr th {\n",
       "        vertical-align: top;\n",
       "    }\n",
       "\n",
       "    .dataframe thead th {\n",
       "        text-align: right;\n",
       "    }\n",
       "</style>\n",
       "<table border=\"1\" class=\"dataframe\">\n",
       "  <thead>\n",
       "    <tr style=\"text-align: right;\">\n",
       "      <th></th>\n",
       "      <th>ImageID</th>\n",
       "      <th>ImageWidth</th>\n",
       "      <th>ImageHeight</th>\n",
       "      <th>PredictionString</th>\n",
       "    </tr>\n",
       "  </thead>\n",
       "  <tbody>\n",
       "    <tr>\n",
       "      <th>0</th>\n",
       "      <td>80155d58d0ee19bd</td>\n",
       "      <td>-1</td>\n",
       "      <td>-1</td>\n",
       "      <td>NaN</td>\n",
       "    </tr>\n",
       "    <tr>\n",
       "      <th>1</th>\n",
       "      <td>52a76f3fe21185bf</td>\n",
       "      <td>-1</td>\n",
       "      <td>-1</td>\n",
       "      <td>NaN</td>\n",
       "    </tr>\n",
       "    <tr>\n",
       "      <th>2</th>\n",
       "      <td>65e9da7c04c8e4cd</td>\n",
       "      <td>-1</td>\n",
       "      <td>-1</td>\n",
       "      <td>NaN</td>\n",
       "    </tr>\n",
       "    <tr>\n",
       "      <th>3</th>\n",
       "      <td>6d10fa21d93bd6cc</td>\n",
       "      <td>-1</td>\n",
       "      <td>-1</td>\n",
       "      <td>NaN</td>\n",
       "    </tr>\n",
       "    <tr>\n",
       "      <th>4</th>\n",
       "      <td>0841dee573a875ca</td>\n",
       "      <td>-1</td>\n",
       "      <td>-1</td>\n",
       "      <td>NaN</td>\n",
       "    </tr>\n",
       "  </tbody>\n",
       "</table>\n",
       "</div>"
      ],
      "text/plain": [
       "            ImageID  ImageWidth  ImageHeight  PredictionString\n",
       "0  80155d58d0ee19bd          -1           -1               NaN\n",
       "1  52a76f3fe21185bf          -1           -1               NaN\n",
       "2  65e9da7c04c8e4cd          -1           -1               NaN\n",
       "3  6d10fa21d93bd6cc          -1           -1               NaN\n",
       "4  0841dee573a875ca          -1           -1               NaN"
      ]
     },
     "execution_count": 60,
     "metadata": {},
     "output_type": "execute_result"
    }
   ],
   "source": [
    "df_test.head()"
   ]
  },
  {
   "cell_type": "code",
   "execution_count": 61,
   "metadata": {},
   "outputs": [
    {
     "data": {
      "text/html": [
       "<div>\n",
       "<style scoped>\n",
       "    .dataframe tbody tr th:only-of-type {\n",
       "        vertical-align: middle;\n",
       "    }\n",
       "\n",
       "    .dataframe tbody tr th {\n",
       "        vertical-align: top;\n",
       "    }\n",
       "\n",
       "    .dataframe thead th {\n",
       "        text-align: right;\n",
       "    }\n",
       "</style>\n",
       "<table border=\"1\" class=\"dataframe\">\n",
       "  <thead>\n",
       "    <tr style=\"text-align: right;\">\n",
       "      <th></th>\n",
       "      <th>ImageID</th>\n",
       "      <th>ImageWidth</th>\n",
       "      <th>ImageHeight</th>\n",
       "      <th>PredictionString</th>\n",
       "    </tr>\n",
       "  </thead>\n",
       "  <tbody>\n",
       "    <tr>\n",
       "      <th>0</th>\n",
       "      <td>80155d58d0ee19bd</td>\n",
       "      <td>1024</td>\n",
       "      <td>683</td>\n",
       "      <td>/m/07r04 0.0049228 eNrNU0tvwyAM/kvh1Sw5RMphbdM...</td>\n",
       "    </tr>\n",
       "    <tr>\n",
       "      <th>1</th>\n",
       "      <td>52a76f3fe21185bf</td>\n",
       "      <td>1024</td>\n",
       "      <td>683</td>\n",
       "      <td>/m/01599 0.1188553 eNqlk9lymzAUhl9JCwjiSabT6Tg...</td>\n",
       "    </tr>\n",
       "    <tr>\n",
       "      <th>2</th>\n",
       "      <td>65e9da7c04c8e4cd</td>\n",
       "      <td>1024</td>\n",
       "      <td>682</td>\n",
       "      <td>NaN</td>\n",
       "    </tr>\n",
       "    <tr>\n",
       "      <th>3</th>\n",
       "      <td>6d10fa21d93bd6cc</td>\n",
       "      <td>1024</td>\n",
       "      <td>682</td>\n",
       "      <td>/m/01n4qj 0.0017988 eNpLiA2zMwpJNTDxN4RAAwMYCw...</td>\n",
       "    </tr>\n",
       "    <tr>\n",
       "      <th>4</th>\n",
       "      <td>0841dee573a875ca</td>\n",
       "      <td>1024</td>\n",
       "      <td>683</td>\n",
       "      <td>/m/015qff 0.0016251 eNpVUGt3gjAM/UtpsfgY5Ux0Pi...</td>\n",
       "    </tr>\n",
       "  </tbody>\n",
       "</table>\n",
       "</div>"
      ],
      "text/plain": [
       "            ImageID  ImageWidth  ImageHeight  \\\n",
       "0  80155d58d0ee19bd        1024          683   \n",
       "1  52a76f3fe21185bf        1024          683   \n",
       "2  65e9da7c04c8e4cd        1024          682   \n",
       "3  6d10fa21d93bd6cc        1024          682   \n",
       "4  0841dee573a875ca        1024          683   \n",
       "\n",
       "                                    PredictionString  \n",
       "0  /m/07r04 0.0049228 eNrNU0tvwyAM/kvh1Sw5RMphbdM...  \n",
       "1  /m/01599 0.1188553 eNqlk9lymzAUhl9JCwjiSabT6Tg...  \n",
       "2                                                NaN  \n",
       "3  /m/01n4qj 0.0017988 eNpLiA2zMwpJNTDxN4RAAwMYCw...  \n",
       "4  /m/015qff 0.0016251 eNpVUGt3gjAM/UtpsfgY5Ux0Pi...  "
      ]
     },
     "execution_count": 61,
     "metadata": {},
     "output_type": "execute_result"
    }
   ],
   "source": [
    "df_5000 = pd.concat([df.iloc[:5000].copy(), df_test.iloc[5000:].copy()])\n",
    "df_5000.head()"
   ]
  },
  {
   "cell_type": "code",
   "execution_count": 62,
   "metadata": {},
   "outputs": [
    {
     "data": {
      "text/html": [
       "<div>\n",
       "<style scoped>\n",
       "    .dataframe tbody tr th:only-of-type {\n",
       "        vertical-align: middle;\n",
       "    }\n",
       "\n",
       "    .dataframe tbody tr th {\n",
       "        vertical-align: top;\n",
       "    }\n",
       "\n",
       "    .dataframe thead th {\n",
       "        text-align: right;\n",
       "    }\n",
       "</style>\n",
       "<table border=\"1\" class=\"dataframe\">\n",
       "  <thead>\n",
       "    <tr style=\"text-align: right;\">\n",
       "      <th></th>\n",
       "      <th>ImageID</th>\n",
       "      <th>ImageWidth</th>\n",
       "      <th>ImageHeight</th>\n",
       "      <th>PredictionString</th>\n",
       "    </tr>\n",
       "  </thead>\n",
       "  <tbody>\n",
       "    <tr>\n",
       "      <th>99994</th>\n",
       "      <td>e40f388b3a4f80a6</td>\n",
       "      <td>-1</td>\n",
       "      <td>-1</td>\n",
       "      <td>NaN</td>\n",
       "    </tr>\n",
       "    <tr>\n",
       "      <th>99995</th>\n",
       "      <td>a21b4cd415d83b4d</td>\n",
       "      <td>-1</td>\n",
       "      <td>-1</td>\n",
       "      <td>NaN</td>\n",
       "    </tr>\n",
       "    <tr>\n",
       "      <th>99996</th>\n",
       "      <td>750b5d6e41c23bc9</td>\n",
       "      <td>-1</td>\n",
       "      <td>-1</td>\n",
       "      <td>NaN</td>\n",
       "    </tr>\n",
       "    <tr>\n",
       "      <th>99997</th>\n",
       "      <td>4944489aca12f92e</td>\n",
       "      <td>-1</td>\n",
       "      <td>-1</td>\n",
       "      <td>NaN</td>\n",
       "    </tr>\n",
       "    <tr>\n",
       "      <th>99998</th>\n",
       "      <td>632dad5b912b4b6a</td>\n",
       "      <td>-1</td>\n",
       "      <td>-1</td>\n",
       "      <td>NaN</td>\n",
       "    </tr>\n",
       "  </tbody>\n",
       "</table>\n",
       "</div>"
      ],
      "text/plain": [
       "                ImageID  ImageWidth  ImageHeight PredictionString\n",
       "99994  e40f388b3a4f80a6          -1           -1              NaN\n",
       "99995  a21b4cd415d83b4d          -1           -1              NaN\n",
       "99996  750b5d6e41c23bc9          -1           -1              NaN\n",
       "99997  4944489aca12f92e          -1           -1              NaN\n",
       "99998  632dad5b912b4b6a          -1           -1              NaN"
      ]
     },
     "execution_count": 62,
     "metadata": {},
     "output_type": "execute_result"
    }
   ],
   "source": [
    "df_5000.tail()"
   ]
  },
  {
   "cell_type": "code",
   "execution_count": 63,
   "metadata": {},
   "outputs": [],
   "source": [
    "df_5000.to_csv('sub_4195_20_100_5000.csv', index=False)"
   ]
  },
  {
   "cell_type": "code",
   "execution_count": 64,
   "metadata": {},
   "outputs": [
    {
     "name": "stdout",
     "output_type": "stream",
     "text": [
      "100%|██████████████████████████████████████| 24.2M/24.2M [00:13<00:00, 1.85MB/s]\n",
      "Successfully submitted to Open Images 2019 - Instance Segmentation"
     ]
    }
   ],
   "source": [
    "!kaggle competitions submit -c open-images-2019-instance-segmentation -f sub_4195_20_100_5000.csv -m \"test 5000\""
   ]
  },
  {
   "cell_type": "code",
   "execution_count": 129,
   "metadata": {},
   "outputs": [
    {
     "data": {
      "text/plain": [
       "'/m/07r04 0.0008837000000000001 eNrLCjILTDCIMjUYBaNgFIyCUTBwICs1xgwAQ5sMww== /m/04yx4 0.0007584 eNqLzYpOMkixSrcyGLogLzPfAAC0qyd6 /m/0fly7 0.0007466 eNrLys9MMgg2jUgwGECQmB9mCACpCBus /m/04yx4 0.0007093000000000001 eNpLCkq0TLTMsjYYiiArMccSAIFTJe4= /m/04yx4 0.0007056 eNqLywpOMIiyCrQ2GG4gJD7AGAAWmCsy /m/083wq 0.0006318000000000001 eNpLygw0STLNtDcYBfhBRFa4HQCKYToX /m/012n7d 0.0006284999999999999 eNoLDDZJts8wNRgFo2AUjAJ6gPTAGEsASrfX1Q== /m/04yx4 0.0006114 eNpLCQm1STVOSzQYFiAgNNgcACvdKPg= /m/083wq 0.0005924000000000001 eNoLSjDIMYxPNhgQEBUflGIAALclGgE= /m/01jfm_ 0.0005331 eNoLt8s3iEkxIBGE5WSmGAAAfYcMtA== /m/083wq 0.00040239999999999997 eNoLzUsyTjdISTGgKYgOzEgwAAC8PBX8 /m/04yx4 0.0004011 eNrLzAy1ibHMtzYYniAjPscMAPXmLFw= /m/04yx4 0.00038679999999999997 eNqLDc1MMIg1zks0GFQgOzPQGACqCB8D /m/083wq 0.0003846 eNrLSw5IMcgySkwyoAgEBaYaAAB7Rg/t /m/0fly7 0.0003725 eNrLzMm3jDXJSzCgA0gLirQCADi0Fug= /m/0fly7 0.00030819999999999996 eNqLz09MMAg0i7I3GHwgIz/MGAAr6h/Q /m/07r04 0.0003008 eNpLzkhPMgiwiLY1GDkgIdsYAJekL/M= /m/0h2r6 0.0002899 eNrLTzfJt48xNRgFo2AUjALqgqT0JEsA0CvT/g== /m/07r04 0.00026240000000000004 eNrLCQi2z7RIsjEYBaOAchCbaAIA5gdw0A== /m/01bl7v 0.0002326 eNoLyYpNMsi1irMyGOogLCvbAACbSSh4 /m/083wq 0.0002127 eNrLTIqzyDZISDGgGCSmh9oAAKE9EHo= /m/083wq 0.000178 eNpLt8o3iEkxIAkEpmalGAAAaGsMVQ== /m/083wq 0.0001482 eNqLTkywiDAKTjYYJCAvNsYaALJUHXc= /m/01jfm_ 0.00012020000000000001 eNoLzso1tMtNMSADpIRmJxkAAMwkDeE= /m/08hvt4 0.0001197 eNpLiMy1STdOSTQY1CAgOsMMAHj/Ias= /m/083wq 0.0001001 eNpLyI62SDNKTTKgGojLDLUBACYDEfY= /m/03d443 9.32e-05 eNpLiMy1yTGOTzQYxCA6INMMADcCIUw= /m/04yx4 9.070000000000001e-05 eNpLyI5NMkgyzkw0oAgkZIYbAQB8+RAM /m/01bl7v 8.98e-05 eNpLjA9KMEi2zrA0GI4gOj7AGADWOSwP /m/01940j 8.82e-05 eNrLzMu2yTROSjQYEiA6IN0MAJxSI0Y= /m/07r04 8.450000000000001e-05 eNrLSchIMQg2jUgwIANk2wEAytkNcg== /m/0h2r6 8.37e-05 eNoLDspOMIiwCLY1GAWDG6RnGwMAWTlR9g== /m/083wq 7.98e-05 eNoLtc00SUowGEAQlhSQYgAAKHIazg== /m/05gqfk 7.879999999999999e-05 eNrLycu3STFOTzQYhCA6INMMAEvaH+8= /m/083wq 7.87e-05 eNpLjAq1yjZMSDagIghKjbYCAEJcEjY= /m/07r04 7.670000000000001e-05 eNoLC0kwSLTNMjcYBaNgFAxGkBoYZg0AIMqw0Q== /m/083wq 7.6e-05 eNpLyc+0jDXMSzYgEoQGBFsDAESaC4g= /m/01m2v 7.539999999999999e-05 eNqLSsqzTTNITTGgAARmpJsBAEYfD10= /m/03bt1vf 7.32e-05 eNpLDgm2ibYMsDEYHiAtPsQcACA9KQc= /m/083wq 6.6e-05 eNqLic43TzdISTEYUJCSF2ADAK8zG7s= /m/083wq 6.510000000000001e-05 eNrLCIsysc9JMSAAYuNSEwwA5yIKDA== /m/0fly7 6.33e-05 eNpLyE9MMIg1zks0oAgkpAabAAB+mRAM /m/04yx4 6.19e-05 eNoLD4m0zTGMTzYgGoSHJZsDAFDfC8g= /m/04yx4 6.09e-05 eNqLCQlONMiwTrY0GBkgNivTEAD5yy+F /m/01bl7v 5.55e-05 eNqLDwm1yTJOTDQY1CAwIcEcAGVSIYw= /m/083wq 5.53e-05 eNpLzIyxSzLITDEgAFKyk8wA7vYKKw== /m/0h2r6 5.4199999999999996e-05 eNoLT0w0C7UPMzMYBaNgFIyCwQ9yciONAH8/4+Q= /m/0fly7 5.4e-05 eNoLDk9MMkizSLUxGCogOjbAEAAGdSPG /m/03bt1vf 5.37e-05 eNqLzwpOMAiyirQ2GF4gLiTQGADCFirT /m/080hkjn 5.01e-05 eNrLzsu1STNOTTQY1CA1Nd0MAI6YIek='"
      ]
     },
     "execution_count": 129,
     "metadata": {},
     "output_type": "execute_result"
    }
   ],
   "source": [
    "df.iloc[0].PredictionString"
   ]
  },
  {
   "cell_type": "code",
   "execution_count": null,
   "metadata": {},
   "outputs": [],
   "source": []
  }
 ],
 "metadata": {
  "kernelspec": {
   "display_name": "Python 3",
   "language": "python",
   "name": "python3"
  },
  "language_info": {
   "codemirror_mode": {
    "name": "ipython",
    "version": 3
   },
   "file_extension": ".py",
   "mimetype": "text/x-python",
   "name": "python",
   "nbconvert_exporter": "python",
   "pygments_lexer": "ipython3",
   "version": "3.7.3"
  }
 },
 "nbformat": 4,
 "nbformat_minor": 2
}

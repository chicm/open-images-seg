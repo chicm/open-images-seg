{
 "cells": [
  {
   "cell_type": "code",
   "execution_count": 50,
   "metadata": {},
   "outputs": [],
   "source": [
    "import pandas as pd\n",
    "import numpy as np\n",
    "import os\n",
    "import pycocotools.mask as mutils\n",
    "import base64\n",
    "import numpy as np\n",
    "from pycocotools import mask as coco_mask_d\n",
    "import typing as t\n",
    "import zlib\n",
    "from matplotlib.pyplot import imshow\n",
    "import matplotlib.pyplot as plt\n",
    "import cv2\n",
    "import numpy as np\n",
    "%matplotlib inline\n",
    "from tqdm import tqdm\n",
    "\n",
    "DATA_DIR = '/mnt/chicm/data/open-images/segmentation'"
   ]
  },
  {
   "cell_type": "code",
   "execution_count": 51,
   "metadata": {},
   "outputs": [],
   "source": [
    "def get_top_classes(start_index, end_index, class_file='top_classes_level1.csv'):\n",
    "    df = pd.read_csv(os.path.join(DATA_DIR, class_file))\n",
    "    c = df['class'].values[start_index:end_index]\n",
    "    #print(df.head())\n",
    "    stoi = { c[i]: i for i in range(len(c)) }\n",
    "    return c, stoi\n"
   ]
  },
  {
   "cell_type": "code",
   "execution_count": 52,
   "metadata": {},
   "outputs": [
    {
     "data": {
      "text/plain": [
       "300"
      ]
     },
     "execution_count": 52,
     "metadata": {},
     "output_type": "execute_result"
    }
   ],
   "source": [
    "level1_classes = get_top_classes(0, 275)[0]\n",
    "parent_classes = get_top_classes(0, 25, 'top_classes_parent.csv')[0]\n",
    "\n",
    "seg_classes = set(level1_classes) | set(parent_classes)\n",
    "len(seg_classes)"
   ]
  },
  {
   "cell_type": "code",
   "execution_count": 54,
   "metadata": {},
   "outputs": [
    {
     "data": {
      "text/plain": [
       "275"
      ]
     },
     "execution_count": 54,
     "metadata": {},
     "output_type": "execute_result"
    }
   ],
   "source": [
    "len(level1_classes)"
   ]
  },
  {
   "cell_type": "code",
   "execution_count": 55,
   "metadata": {},
   "outputs": [],
   "source": [
    "df = pd.read_csv('/mnt/chicm/open-images-vrd/vrd/det/final_add0.001.zip')"
   ]
  },
  {
   "cell_type": "code",
   "execution_count": 56,
   "metadata": {},
   "outputs": [],
   "source": [
    "#df = pd.read_csv('seg_lb5026_bbox.csv')"
   ]
  },
  {
   "cell_type": "code",
   "execution_count": 57,
   "metadata": {},
   "outputs": [],
   "source": [
    "df.PredictionString = df.PredictionString.fillna('')"
   ]
  },
  {
   "cell_type": "code",
   "execution_count": 58,
   "metadata": {},
   "outputs": [
    {
     "data": {
      "text/html": [
       "<div>\n",
       "<style scoped>\n",
       "    .dataframe tbody tr th:only-of-type {\n",
       "        vertical-align: middle;\n",
       "    }\n",
       "\n",
       "    .dataframe tbody tr th {\n",
       "        vertical-align: top;\n",
       "    }\n",
       "\n",
       "    .dataframe thead th {\n",
       "        text-align: right;\n",
       "    }\n",
       "</style>\n",
       "<table border=\"1\" class=\"dataframe\">\n",
       "  <thead>\n",
       "    <tr style=\"text-align: right;\">\n",
       "      <th></th>\n",
       "      <th>ImageId</th>\n",
       "      <th>PredictionString</th>\n",
       "    </tr>\n",
       "  </thead>\n",
       "  <tbody>\n",
       "    <tr>\n",
       "      <th>0</th>\n",
       "      <td>00000b4dcff7f799</td>\n",
       "      <td>/m/07yv9 0.1014 0.1469 0.1145 0.9360 0.8608 /m...</td>\n",
       "    </tr>\n",
       "    <tr>\n",
       "      <th>1</th>\n",
       "      <td>00001a21632de752</td>\n",
       "      <td>/m/07yv9 0.1103 0.0052 0.0577 0.8222 0.9935 /m...</td>\n",
       "    </tr>\n",
       "    <tr>\n",
       "      <th>2</th>\n",
       "      <td>0000d67245642c5f</td>\n",
       "      <td>/m/07yv9 0.0457 0.0370 0.0690 0.9413 0.9923 /m...</td>\n",
       "    </tr>\n",
       "    <tr>\n",
       "      <th>3</th>\n",
       "      <td>0001244aa8ed3099</td>\n",
       "      <td>/m/07yv9 0.1433 0.0512 0.1449 0.8007 0.7719 /m...</td>\n",
       "    </tr>\n",
       "    <tr>\n",
       "      <th>4</th>\n",
       "      <td>000172d1dd1adce0</td>\n",
       "      <td>/m/07yv9 0.1140 0.2272 0.0299 0.8484 0.9221 /m...</td>\n",
       "    </tr>\n",
       "  </tbody>\n",
       "</table>\n",
       "</div>"
      ],
      "text/plain": [
       "            ImageId                                   PredictionString\n",
       "0  00000b4dcff7f799  /m/07yv9 0.1014 0.1469 0.1145 0.9360 0.8608 /m...\n",
       "1  00001a21632de752  /m/07yv9 0.1103 0.0052 0.0577 0.8222 0.9935 /m...\n",
       "2  0000d67245642c5f  /m/07yv9 0.0457 0.0370 0.0690 0.9413 0.9923 /m...\n",
       "3  0001244aa8ed3099  /m/07yv9 0.1433 0.0512 0.1449 0.8007 0.7719 /m...\n",
       "4  000172d1dd1adce0  /m/07yv9 0.1140 0.2272 0.0299 0.8484 0.9221 /m..."
      ]
     },
     "execution_count": 58,
     "metadata": {},
     "output_type": "execute_result"
    }
   ],
   "source": [
    "df.head()"
   ]
  },
  {
   "cell_type": "code",
   "execution_count": 59,
   "metadata": {},
   "outputs": [],
   "source": [
    "def get_dets_by_pred_str(pred_str):\n",
    "    try:\n",
    "        if len(pred_str) < 1:\n",
    "            return []\n",
    "    except:\n",
    "        print('pred_str:', pred_str)\n",
    "        raise\n",
    "    det_items = pred_str.split(' ')\n",
    "    dets, det = [], []\n",
    "    for i in range(len(det_items)):\n",
    "        det.append(det_items[i])\n",
    "        if (i+1) % 6 == 0:\n",
    "            assert '/' in det[0]\n",
    "            if det[0] in level1_classes:\n",
    "                dets.append(det)\n",
    "            det = []\n",
    "    return sorted(dets, key=lambda x: float(x[1]), reverse=True)[:2000]"
   ]
  },
  {
   "cell_type": "code",
   "execution_count": 60,
   "metadata": {},
   "outputs": [],
   "source": [
    "#sorted(ens_det, key=lambda x: x[2], reverse=True)[:MAX_NUM]"
   ]
  },
  {
   "cell_type": "code",
   "execution_count": 61,
   "metadata": {},
   "outputs": [
    {
     "data": {
      "text/html": [
       "<div>\n",
       "<style scoped>\n",
       "    .dataframe tbody tr th:only-of-type {\n",
       "        vertical-align: middle;\n",
       "    }\n",
       "\n",
       "    .dataframe tbody tr th {\n",
       "        vertical-align: top;\n",
       "    }\n",
       "\n",
       "    .dataframe thead th {\n",
       "        text-align: right;\n",
       "    }\n",
       "</style>\n",
       "<table border=\"1\" class=\"dataframe\">\n",
       "  <thead>\n",
       "    <tr style=\"text-align: right;\">\n",
       "      <th></th>\n",
       "      <th>ImageId</th>\n",
       "      <th>PredictionString</th>\n",
       "      <th>dets</th>\n",
       "    </tr>\n",
       "  </thead>\n",
       "  <tbody>\n",
       "    <tr>\n",
       "      <th>0</th>\n",
       "      <td>00000b4dcff7f799</td>\n",
       "      <td>/m/07yv9 0.1014 0.1469 0.1145 0.9360 0.8608 /m...</td>\n",
       "      <td>[[/m/07r04, 0.8837, 0.0093, 0.1279, 0.7010, 0....</td>\n",
       "    </tr>\n",
       "    <tr>\n",
       "      <th>1</th>\n",
       "      <td>00001a21632de752</td>\n",
       "      <td>/m/07yv9 0.1103 0.0052 0.0577 0.8222 0.9935 /m...</td>\n",
       "      <td>[[/m/03bt1vf, 0.7607, 0.5409, 0.5901, 0.8157, ...</td>\n",
       "    </tr>\n",
       "    <tr>\n",
       "      <th>2</th>\n",
       "      <td>0000d67245642c5f</td>\n",
       "      <td>/m/07yv9 0.0457 0.0370 0.0690 0.9413 0.9923 /m...</td>\n",
       "      <td>[[/m/079cl, 0.2479, 0.2416, 0.0406, 0.9919, 0....</td>\n",
       "    </tr>\n",
       "    <tr>\n",
       "      <th>3</th>\n",
       "      <td>0001244aa8ed3099</td>\n",
       "      <td>/m/07yv9 0.1433 0.0512 0.1449 0.8007 0.7719 /m...</td>\n",
       "      <td>[[/m/0388q, 0.1431, 0.8231, 0.5525, 0.8828, 0....</td>\n",
       "    </tr>\n",
       "    <tr>\n",
       "      <th>4</th>\n",
       "      <td>000172d1dd1adce0</td>\n",
       "      <td>/m/07yv9 0.1140 0.2272 0.0299 0.8484 0.9221 /m...</td>\n",
       "      <td>[[/m/09rvcxw, 0.2363, 0.4385, 0.0337, 0.7900, ...</td>\n",
       "    </tr>\n",
       "  </tbody>\n",
       "</table>\n",
       "</div>"
      ],
      "text/plain": [
       "            ImageId                                   PredictionString  \\\n",
       "0  00000b4dcff7f799  /m/07yv9 0.1014 0.1469 0.1145 0.9360 0.8608 /m...   \n",
       "1  00001a21632de752  /m/07yv9 0.1103 0.0052 0.0577 0.8222 0.9935 /m...   \n",
       "2  0000d67245642c5f  /m/07yv9 0.0457 0.0370 0.0690 0.9413 0.9923 /m...   \n",
       "3  0001244aa8ed3099  /m/07yv9 0.1433 0.0512 0.1449 0.8007 0.7719 /m...   \n",
       "4  000172d1dd1adce0  /m/07yv9 0.1140 0.2272 0.0299 0.8484 0.9221 /m...   \n",
       "\n",
       "                                                dets  \n",
       "0  [[/m/07r04, 0.8837, 0.0093, 0.1279, 0.7010, 0....  \n",
       "1  [[/m/03bt1vf, 0.7607, 0.5409, 0.5901, 0.8157, ...  \n",
       "2  [[/m/079cl, 0.2479, 0.2416, 0.0406, 0.9919, 0....  \n",
       "3  [[/m/0388q, 0.1431, 0.8231, 0.5525, 0.8828, 0....  \n",
       "4  [[/m/09rvcxw, 0.2363, 0.4385, 0.0337, 0.7900, ...  "
      ]
     },
     "execution_count": 61,
     "metadata": {},
     "output_type": "execute_result"
    }
   ],
   "source": [
    "df['dets'] = df.PredictionString.map(lambda x: get_dets_by_pred_str(x))\n",
    "df.head()"
   ]
  },
  {
   "cell_type": "code",
   "execution_count": 62,
   "metadata": {},
   "outputs": [
    {
     "data": {
      "text/plain": [
       "43677184"
      ]
     },
     "execution_count": 62,
     "metadata": {},
     "output_type": "execute_result"
    }
   ],
   "source": [
    "# total\n",
    "df.dets.map(lambda x: len(x)).values.sum()"
   ]
  },
  {
   "cell_type": "code",
   "execution_count": 58,
   "metadata": {},
   "outputs": [
    {
     "data": {
      "text/plain": [
       "28818241"
      ]
     },
     "execution_count": 58,
     "metadata": {},
     "output_type": "execute_result"
    }
   ],
   "source": [
    "# total\n",
    "df.dets.map(lambda x: len(x)).values.sum()"
   ]
  },
  {
   "cell_type": "code",
   "execution_count": 65,
   "metadata": {},
   "outputs": [
    {
     "data": {
      "text/html": [
       "<div>\n",
       "<style scoped>\n",
       "    .dataframe tbody tr th:only-of-type {\n",
       "        vertical-align: middle;\n",
       "    }\n",
       "\n",
       "    .dataframe tbody tr th {\n",
       "        vertical-align: top;\n",
       "    }\n",
       "\n",
       "    .dataframe thead th {\n",
       "        text-align: right;\n",
       "    }\n",
       "</style>\n",
       "<table border=\"1\" class=\"dataframe\">\n",
       "  <thead>\n",
       "    <tr style=\"text-align: right;\">\n",
       "      <th></th>\n",
       "      <th>ImageId</th>\n",
       "      <th>PredictionString</th>\n",
       "      <th>dets</th>\n",
       "      <th>ImageWidth</th>\n",
       "      <th>ImageHeight</th>\n",
       "    </tr>\n",
       "  </thead>\n",
       "  <tbody>\n",
       "    <tr>\n",
       "      <th>0</th>\n",
       "      <td>00000b4dcff7f799</td>\n",
       "      <td>/m/07yv9 0.1014 0.1469 0.1145 0.9360 0.8608 /m...</td>\n",
       "      <td>[[/m/07r04, 0.8837, 0.0093, 0.1279, 0.7010, 0....</td>\n",
       "      <td>1024</td>\n",
       "      <td>683</td>\n",
       "    </tr>\n",
       "    <tr>\n",
       "      <th>1</th>\n",
       "      <td>00001a21632de752</td>\n",
       "      <td>/m/07yv9 0.1103 0.0052 0.0577 0.8222 0.9935 /m...</td>\n",
       "      <td>[[/m/03bt1vf, 0.7607, 0.5409, 0.5901, 0.8157, ...</td>\n",
       "      <td>1024</td>\n",
       "      <td>681</td>\n",
       "    </tr>\n",
       "    <tr>\n",
       "      <th>2</th>\n",
       "      <td>0000d67245642c5f</td>\n",
       "      <td>/m/07yv9 0.0457 0.0370 0.0690 0.9413 0.9923 /m...</td>\n",
       "      <td>[[/m/079cl, 0.2479, 0.2416, 0.0406, 0.9919, 0....</td>\n",
       "      <td>1024</td>\n",
       "      <td>683</td>\n",
       "    </tr>\n",
       "    <tr>\n",
       "      <th>3</th>\n",
       "      <td>0001244aa8ed3099</td>\n",
       "      <td>/m/07yv9 0.1433 0.0512 0.1449 0.8007 0.7719 /m...</td>\n",
       "      <td>[[/m/0388q, 0.1431, 0.8231, 0.5525, 0.8828, 0....</td>\n",
       "      <td>1024</td>\n",
       "      <td>683</td>\n",
       "    </tr>\n",
       "    <tr>\n",
       "      <th>4</th>\n",
       "      <td>000172d1dd1adce0</td>\n",
       "      <td>/m/07yv9 0.1140 0.2272 0.0299 0.8484 0.9221 /m...</td>\n",
       "      <td>[[/m/09rvcxw, 0.2363, 0.4385, 0.0337, 0.7900, ...</td>\n",
       "      <td>1024</td>\n",
       "      <td>682</td>\n",
       "    </tr>\n",
       "  </tbody>\n",
       "</table>\n",
       "</div>"
      ],
      "text/plain": [
       "            ImageId                                   PredictionString  \\\n",
       "0  00000b4dcff7f799  /m/07yv9 0.1014 0.1469 0.1145 0.9360 0.8608 /m...   \n",
       "1  00001a21632de752  /m/07yv9 0.1103 0.0052 0.0577 0.8222 0.9935 /m...   \n",
       "2  0000d67245642c5f  /m/07yv9 0.0457 0.0370 0.0690 0.9413 0.9923 /m...   \n",
       "3  0001244aa8ed3099  /m/07yv9 0.1433 0.0512 0.1449 0.8007 0.7719 /m...   \n",
       "4  000172d1dd1adce0  /m/07yv9 0.1140 0.2272 0.0299 0.8484 0.9221 /m...   \n",
       "\n",
       "                                                dets  ImageWidth  ImageHeight  \n",
       "0  [[/m/07r04, 0.8837, 0.0093, 0.1279, 0.7010, 0....        1024          683  \n",
       "1  [[/m/03bt1vf, 0.7607, 0.5409, 0.5901, 0.8157, ...        1024          681  \n",
       "2  [[/m/079cl, 0.2479, 0.2416, 0.0406, 0.9919, 0....        1024          683  \n",
       "3  [[/m/0388q, 0.1431, 0.8231, 0.5525, 0.8828, 0....        1024          683  \n",
       "4  [[/m/09rvcxw, 0.2363, 0.4385, 0.0337, 0.7900, ...        1024          682  "
      ]
     },
     "execution_count": 65,
     "metadata": {},
     "output_type": "execute_result"
    }
   ],
   "source": [
    "TEST_IMG_DIR = '/mnt/chicm/data/open-images/test'\n",
    "\n",
    "def get_fn(img_id):\n",
    "    return TEST_IMG_DIR + '/' + img_id + '.jpg'\n",
    "\n",
    "df['ImageWidth'] = df.ImageId.map(lambda x: get_image_size(get_fn(x))[0])\n",
    "df['ImageHeight'] = df.ImageId.map(lambda x: get_image_size(get_fn(x))[1])\n",
    "df.head()"
   ]
  },
  {
   "cell_type": "code",
   "execution_count": 66,
   "metadata": {},
   "outputs": [
    {
     "data": {
      "text/html": [
       "<div>\n",
       "<style scoped>\n",
       "    .dataframe tbody tr th:only-of-type {\n",
       "        vertical-align: middle;\n",
       "    }\n",
       "\n",
       "    .dataframe tbody tr th {\n",
       "        vertical-align: top;\n",
       "    }\n",
       "\n",
       "    .dataframe thead th {\n",
       "        text-align: right;\n",
       "    }\n",
       "</style>\n",
       "<table border=\"1\" class=\"dataframe\">\n",
       "  <thead>\n",
       "    <tr style=\"text-align: right;\">\n",
       "      <th></th>\n",
       "      <th>ImageID</th>\n",
       "      <th>PredictionString</th>\n",
       "      <th>dets</th>\n",
       "      <th>ImageWidth</th>\n",
       "      <th>ImageHeight</th>\n",
       "    </tr>\n",
       "  </thead>\n",
       "  <tbody>\n",
       "    <tr>\n",
       "      <th>0</th>\n",
       "      <td>00000b4dcff7f799</td>\n",
       "      <td>/m/07yv9 0.1014 0.1469 0.1145 0.9360 0.8608 /m...</td>\n",
       "      <td>[[/m/07r04, 0.8837, 0.0093, 0.1279, 0.7010, 0....</td>\n",
       "      <td>1024</td>\n",
       "      <td>683</td>\n",
       "    </tr>\n",
       "    <tr>\n",
       "      <th>1</th>\n",
       "      <td>00001a21632de752</td>\n",
       "      <td>/m/07yv9 0.1103 0.0052 0.0577 0.8222 0.9935 /m...</td>\n",
       "      <td>[[/m/03bt1vf, 0.7607, 0.5409, 0.5901, 0.8157, ...</td>\n",
       "      <td>1024</td>\n",
       "      <td>681</td>\n",
       "    </tr>\n",
       "    <tr>\n",
       "      <th>2</th>\n",
       "      <td>0000d67245642c5f</td>\n",
       "      <td>/m/07yv9 0.0457 0.0370 0.0690 0.9413 0.9923 /m...</td>\n",
       "      <td>[[/m/079cl, 0.2479, 0.2416, 0.0406, 0.9919, 0....</td>\n",
       "      <td>1024</td>\n",
       "      <td>683</td>\n",
       "    </tr>\n",
       "    <tr>\n",
       "      <th>3</th>\n",
       "      <td>0001244aa8ed3099</td>\n",
       "      <td>/m/07yv9 0.1433 0.0512 0.1449 0.8007 0.7719 /m...</td>\n",
       "      <td>[[/m/0388q, 0.1431, 0.8231, 0.5525, 0.8828, 0....</td>\n",
       "      <td>1024</td>\n",
       "      <td>683</td>\n",
       "    </tr>\n",
       "    <tr>\n",
       "      <th>4</th>\n",
       "      <td>000172d1dd1adce0</td>\n",
       "      <td>/m/07yv9 0.1140 0.2272 0.0299 0.8484 0.9221 /m...</td>\n",
       "      <td>[[/m/09rvcxw, 0.2363, 0.4385, 0.0337, 0.7900, ...</td>\n",
       "      <td>1024</td>\n",
       "      <td>682</td>\n",
       "    </tr>\n",
       "  </tbody>\n",
       "</table>\n",
       "</div>"
      ],
      "text/plain": [
       "            ImageID                                   PredictionString  \\\n",
       "0  00000b4dcff7f799  /m/07yv9 0.1014 0.1469 0.1145 0.9360 0.8608 /m...   \n",
       "1  00001a21632de752  /m/07yv9 0.1103 0.0052 0.0577 0.8222 0.9935 /m...   \n",
       "2  0000d67245642c5f  /m/07yv9 0.0457 0.0370 0.0690 0.9413 0.9923 /m...   \n",
       "3  0001244aa8ed3099  /m/07yv9 0.1433 0.0512 0.1449 0.8007 0.7719 /m...   \n",
       "4  000172d1dd1adce0  /m/07yv9 0.1140 0.2272 0.0299 0.8484 0.9221 /m...   \n",
       "\n",
       "                                                dets  ImageWidth  ImageHeight  \n",
       "0  [[/m/07r04, 0.8837, 0.0093, 0.1279, 0.7010, 0....        1024          683  \n",
       "1  [[/m/03bt1vf, 0.7607, 0.5409, 0.5901, 0.8157, ...        1024          681  \n",
       "2  [[/m/079cl, 0.2479, 0.2416, 0.0406, 0.9919, 0....        1024          683  \n",
       "3  [[/m/0388q, 0.1431, 0.8231, 0.5525, 0.8828, 0....        1024          683  \n",
       "4  [[/m/09rvcxw, 0.2363, 0.4385, 0.0337, 0.7900, ...        1024          682  "
      ]
     },
     "execution_count": 66,
     "metadata": {},
     "output_type": "execute_result"
    }
   ],
   "source": [
    "df.rename(columns={'ImageId': 'ImageID'}, inplace=True)\n",
    "df.head()"
   ]
  },
  {
   "cell_type": "code",
   "execution_count": 17,
   "metadata": {},
   "outputs": [],
   "source": [
    "df.to_csv('od627_convert_275_rpn_top2000.csv', columns=['ImageID', 'ImageWidth', 'ImageHeight', 'dets'], index=False)"
   ]
  },
  {
   "cell_type": "code",
   "execution_count": null,
   "metadata": {},
   "outputs": [],
   "source": []
  },
  {
   "cell_type": "code",
   "execution_count": 8,
   "metadata": {},
   "outputs": [
    {
     "data": {
      "text/html": [
       "<div>\n",
       "<style scoped>\n",
       "    .dataframe tbody tr th:only-of-type {\n",
       "        vertical-align: middle;\n",
       "    }\n",
       "\n",
       "    .dataframe tbody tr th {\n",
       "        vertical-align: top;\n",
       "    }\n",
       "\n",
       "    .dataframe thead th {\n",
       "        text-align: right;\n",
       "    }\n",
       "</style>\n",
       "<table border=\"1\" class=\"dataframe\">\n",
       "  <thead>\n",
       "    <tr style=\"text-align: right;\">\n",
       "      <th></th>\n",
       "      <th>ImageID</th>\n",
       "      <th>ImageWidth</th>\n",
       "      <th>ImageHeight</th>\n",
       "      <th>dets</th>\n",
       "    </tr>\n",
       "  </thead>\n",
       "  <tbody>\n",
       "    <tr>\n",
       "      <th>0</th>\n",
       "      <td>00000b4dcff7f799</td>\n",
       "      <td>1024</td>\n",
       "      <td>683</td>\n",
       "      <td>[[/m/07r04, 0.8837, 0.0093, 0.1279, 0.7010, 0....</td>\n",
       "    </tr>\n",
       "    <tr>\n",
       "      <th>1</th>\n",
       "      <td>00001a21632de752</td>\n",
       "      <td>1024</td>\n",
       "      <td>681</td>\n",
       "      <td>[[/m/03bt1vf, 0.7607, 0.5409, 0.5901, 0.8157, ...</td>\n",
       "    </tr>\n",
       "    <tr>\n",
       "      <th>2</th>\n",
       "      <td>0000d67245642c5f</td>\n",
       "      <td>1024</td>\n",
       "      <td>683</td>\n",
       "      <td>[[/m/079cl, 0.2479, 0.2416, 0.0406, 0.9919, 0....</td>\n",
       "    </tr>\n",
       "    <tr>\n",
       "      <th>3</th>\n",
       "      <td>0001244aa8ed3099</td>\n",
       "      <td>1024</td>\n",
       "      <td>683</td>\n",
       "      <td>[[/m/0388q, 0.1431, 0.8231, 0.5525, 0.8828, 0....</td>\n",
       "    </tr>\n",
       "    <tr>\n",
       "      <th>4</th>\n",
       "      <td>000172d1dd1adce0</td>\n",
       "      <td>1024</td>\n",
       "      <td>682</td>\n",
       "      <td>[[/m/09rvcxw, 0.2363, 0.4385, 0.0337, 0.7900, ...</td>\n",
       "    </tr>\n",
       "  </tbody>\n",
       "</table>\n",
       "</div>"
      ],
      "text/plain": [
       "            ImageID  ImageWidth  ImageHeight  \\\n",
       "0  00000b4dcff7f799        1024          683   \n",
       "1  00001a21632de752        1024          681   \n",
       "2  0000d67245642c5f        1024          683   \n",
       "3  0001244aa8ed3099        1024          683   \n",
       "4  000172d1dd1adce0        1024          682   \n",
       "\n",
       "                                                dets  \n",
       "0  [[/m/07r04, 0.8837, 0.0093, 0.1279, 0.7010, 0....  \n",
       "1  [[/m/03bt1vf, 0.7607, 0.5409, 0.5901, 0.8157, ...  \n",
       "2  [[/m/079cl, 0.2479, 0.2416, 0.0406, 0.9919, 0....  \n",
       "3  [[/m/0388q, 0.1431, 0.8231, 0.5525, 0.8828, 0....  \n",
       "4  [[/m/09rvcxw, 0.2363, 0.4385, 0.0337, 0.7900, ...  "
      ]
     },
     "execution_count": 8,
     "metadata": {},
     "output_type": "execute_result"
    }
   ],
   "source": [
    "df = pd.read_csv('od627_convert_275_rpn_top2000.csv', converters={'dets': eval})\n",
    "df.head()"
   ]
  },
  {
   "cell_type": "code",
   "execution_count": 67,
   "metadata": {},
   "outputs": [
    {
     "data": {
      "text/html": [
       "<div>\n",
       "<style scoped>\n",
       "    .dataframe tbody tr th:only-of-type {\n",
       "        vertical-align: middle;\n",
       "    }\n",
       "\n",
       "    .dataframe tbody tr th {\n",
       "        vertical-align: top;\n",
       "    }\n",
       "\n",
       "    .dataframe thead th {\n",
       "        text-align: right;\n",
       "    }\n",
       "</style>\n",
       "<table border=\"1\" class=\"dataframe\">\n",
       "  <thead>\n",
       "    <tr style=\"text-align: right;\">\n",
       "      <th></th>\n",
       "      <th>ImageID</th>\n",
       "      <th>ImageWidth</th>\n",
       "      <th>ImageHeight</th>\n",
       "      <th>PredictionString</th>\n",
       "    </tr>\n",
       "  </thead>\n",
       "  <tbody>\n",
       "    <tr>\n",
       "      <th>0</th>\n",
       "      <td>80155d58d0ee19bd</td>\n",
       "      <td>1024</td>\n",
       "      <td>683</td>\n",
       "      <td>NaN</td>\n",
       "    </tr>\n",
       "    <tr>\n",
       "      <th>1</th>\n",
       "      <td>52a76f3fe21185bf</td>\n",
       "      <td>1024</td>\n",
       "      <td>683</td>\n",
       "      <td>NaN</td>\n",
       "    </tr>\n",
       "    <tr>\n",
       "      <th>2</th>\n",
       "      <td>65e9da7c04c8e4cd</td>\n",
       "      <td>1024</td>\n",
       "      <td>682</td>\n",
       "      <td>NaN</td>\n",
       "    </tr>\n",
       "    <tr>\n",
       "      <th>3</th>\n",
       "      <td>6d10fa21d93bd6cc</td>\n",
       "      <td>1024</td>\n",
       "      <td>682</td>\n",
       "      <td>NaN</td>\n",
       "    </tr>\n",
       "    <tr>\n",
       "      <th>4</th>\n",
       "      <td>0841dee573a875ca</td>\n",
       "      <td>1024</td>\n",
       "      <td>683</td>\n",
       "      <td>NaN</td>\n",
       "    </tr>\n",
       "  </tbody>\n",
       "</table>\n",
       "</div>"
      ],
      "text/plain": [
       "            ImageID  ImageWidth  ImageHeight  PredictionString\n",
       "0  80155d58d0ee19bd        1024          683               NaN\n",
       "1  52a76f3fe21185bf        1024          683               NaN\n",
       "2  65e9da7c04c8e4cd        1024          682               NaN\n",
       "3  6d10fa21d93bd6cc        1024          682               NaN\n",
       "4  0841dee573a875ca        1024          683               NaN"
      ]
     },
     "execution_count": 67,
     "metadata": {},
     "output_type": "execute_result"
    }
   ],
   "source": [
    "df_test = pd.read_csv(os.path.join(DATA_DIR, 'sample_empty_submission.csv')) #.iloc[:1000]\n",
    "df_test.head()"
   ]
  },
  {
   "cell_type": "code",
   "execution_count": 68,
   "metadata": {},
   "outputs": [
    {
     "data": {
      "text/html": [
       "<div>\n",
       "<style scoped>\n",
       "    .dataframe tbody tr th:only-of-type {\n",
       "        vertical-align: middle;\n",
       "    }\n",
       "\n",
       "    .dataframe tbody tr th {\n",
       "        vertical-align: top;\n",
       "    }\n",
       "\n",
       "    .dataframe thead th {\n",
       "        text-align: right;\n",
       "    }\n",
       "</style>\n",
       "<table border=\"1\" class=\"dataframe\">\n",
       "  <thead>\n",
       "    <tr style=\"text-align: right;\">\n",
       "      <th></th>\n",
       "      <th>ImageID</th>\n",
       "      <th>PredictionString</th>\n",
       "      <th>dets</th>\n",
       "      <th>ImageWidth</th>\n",
       "      <th>ImageHeight</th>\n",
       "    </tr>\n",
       "  </thead>\n",
       "  <tbody>\n",
       "    <tr>\n",
       "      <th>0</th>\n",
       "      <td>80155d58d0ee19bd</td>\n",
       "      <td>/m/07yv9 0.1719 0.2581 0.2637 0.7300 0.8100 /m...</td>\n",
       "      <td>[[/m/01kb5b, 0.6820, 0.2582, 0.2638, 0.7184, 0...</td>\n",
       "      <td>1024</td>\n",
       "      <td>683</td>\n",
       "    </tr>\n",
       "    <tr>\n",
       "      <th>1</th>\n",
       "      <td>52a76f3fe21185bf</td>\n",
       "      <td>/m/07yv9 0.0042 0.0469 0.0638 0.9991 0.9943 /m...</td>\n",
       "      <td>[[/m/0bjyj5, 0.6689, 0.6231, 0.0653, 0.9808, 0...</td>\n",
       "      <td>1024</td>\n",
       "      <td>683</td>\n",
       "    </tr>\n",
       "    <tr>\n",
       "      <th>2</th>\n",
       "      <td>65e9da7c04c8e4cd</td>\n",
       "      <td>/m/07yv9 0.0180 0.0000 0.0396 0.9014 0.9985 /m...</td>\n",
       "      <td>[[/m/0fszt, 0.0350, 0.0040, 0.0848, 0.9904, 0....</td>\n",
       "      <td>1024</td>\n",
       "      <td>682</td>\n",
       "    </tr>\n",
       "    <tr>\n",
       "      <th>3</th>\n",
       "      <td>6d10fa21d93bd6cc</td>\n",
       "      <td>/m/07yv9 0.0130 0.2894 0.2498 0.6292 0.4203 /m...</td>\n",
       "      <td>[[/m/04yx4, 0.8521, 0.5103, 0.0276, 0.8860, 0....</td>\n",
       "      <td>1024</td>\n",
       "      <td>682</td>\n",
       "    </tr>\n",
       "    <tr>\n",
       "      <th>4</th>\n",
       "      <td>0841dee573a875ca</td>\n",
       "      <td>/m/07yv9 0.2048 0.3297 0.8043 0.5641 0.9975 /m...</td>\n",
       "      <td>[[/m/0342h, 0.6931, 0.4476, 0.4630, 0.7242, 0....</td>\n",
       "      <td>1024</td>\n",
       "      <td>683</td>\n",
       "    </tr>\n",
       "  </tbody>\n",
       "</table>\n",
       "</div>"
      ],
      "text/plain": [
       "            ImageID                                   PredictionString  \\\n",
       "0  80155d58d0ee19bd  /m/07yv9 0.1719 0.2581 0.2637 0.7300 0.8100 /m...   \n",
       "1  52a76f3fe21185bf  /m/07yv9 0.0042 0.0469 0.0638 0.9991 0.9943 /m...   \n",
       "2  65e9da7c04c8e4cd  /m/07yv9 0.0180 0.0000 0.0396 0.9014 0.9985 /m...   \n",
       "3  6d10fa21d93bd6cc  /m/07yv9 0.0130 0.2894 0.2498 0.6292 0.4203 /m...   \n",
       "4  0841dee573a875ca  /m/07yv9 0.2048 0.3297 0.8043 0.5641 0.9975 /m...   \n",
       "\n",
       "                                                dets  ImageWidth  ImageHeight  \n",
       "0  [[/m/01kb5b, 0.6820, 0.2582, 0.2638, 0.7184, 0...        1024          683  \n",
       "1  [[/m/0bjyj5, 0.6689, 0.6231, 0.0653, 0.9808, 0...        1024          683  \n",
       "2  [[/m/0fszt, 0.0350, 0.0040, 0.0848, 0.9904, 0....        1024          682  \n",
       "3  [[/m/04yx4, 0.8521, 0.5103, 0.0276, 0.8860, 0....        1024          682  \n",
       "4  [[/m/0342h, 0.6931, 0.4476, 0.4630, 0.7242, 0....        1024          683  "
      ]
     },
     "execution_count": 68,
     "metadata": {},
     "output_type": "execute_result"
    }
   ],
   "source": [
    "df = df.set_index('ImageID')\n",
    "df = df.reindex(index=df_test['ImageID'])\n",
    "df = df.reset_index()\n",
    "df.head()"
   ]
  },
  {
   "cell_type": "code",
   "execution_count": 69,
   "metadata": {},
   "outputs": [
    {
     "data": {
      "text/plain": [
       "[['/m/01kb5b', '0.6820', '0.2582', '0.2638', '0.7184', '0.8074'],\n",
       " ['/m/01k6s3', '0.5169', '0.2763', '0.2722', '0.7170', '0.8217'],\n",
       " ['/m/07dd4', '0.3075', '0.2477', '0.2710', '0.7330', '0.8053'],\n",
       " ['/m/025dyy', '0.2648', '0.2599', '0.2668', '0.7188', '0.8018'],\n",
       " ['/m/0dv5r', '0.2457', '0.2563', '0.2679', '0.7215', '0.8109'],\n",
       " ['/m/025dyy', '0.2452', '0.3055', '0.2821', '0.7166', '0.7788'],\n",
       " ['/m/020lf', '0.2101', '0.2705', '0.2644', '0.7172', '0.7720'],\n",
       " ['/m/0gjkl', '0.1718', '0.2571', '0.2637', '0.7208', '0.7850'],\n",
       " ['/m/03m3vtv', '0.1652', '0.2632', '0.2684', '0.7168', '0.8071'],\n",
       " ['/m/083wq', '0.1547', '0.3846', '0.6551', '0.4426', '0.7529'],\n",
       " ['/m/083wq', '0.1487', '0.2618', '0.2931', '0.3925', '0.6609'],\n",
       " ['/m/012n7d', '0.1467', '0.2666', '0.3001', '0.7246', '0.8053'],\n",
       " ['/m/01s55n', '0.1393', '0.2646', '0.2686', '0.7152', '0.8160'],\n",
       " ['/m/0h8lkj8', '0.1390', '0.2632', '0.2501', '0.7270', '0.8228'],\n",
       " ['/m/04h8sr', '0.1297', '0.2647', '0.2683', '0.7234', '0.7995'],\n",
       " ['/m/083wq', '0.1154', '0.6681', '0.6816', '0.7033', '0.7570'],\n",
       " ['/m/01226z', '0.1086', '0.2603', '0.2696', '0.7173', '0.7831'],\n",
       " ['/m/020lf', '0.1015', '0.2591', '0.2634', '0.7211', '0.8106'],\n",
       " ['/m/06_72j', '0.0937', '0.2673', '0.2803', '0.7193', '0.8106'],\n",
       " ['/m/025dyy', '0.0890', '0.3801', '0.6373', '0.7021', '0.8266'],\n",
       " ['/m/02rgn06', '0.0794', '0.2598', '0.2596', '0.7248', '0.7985'],\n",
       " ['/m/0lt4_', '0.0741', '0.2630', '0.2660', '0.7204', '0.8158'],\n",
       " ['/m/083wq', '0.0692', '0.2814', '0.2623', '0.6966', '0.7581'],\n",
       " ['/m/04dr76w', '0.0670', '0.2585', '0.2616', '0.7189', '0.8024'],\n",
       " ['/m/0bt_c3', '0.0569', '0.2793', '0.2582', '0.7237', '0.7957'],\n",
       " ['/m/03bbps', '0.0512', '0.2652', '0.2807', '0.7164', '0.8050'],\n",
       " ['/m/0h2r6', '0.0497', '0.2602', '0.2663', '0.7237', '0.8052'],\n",
       " ['/m/046dlr', '0.0428', '0.2689', '0.2654', '0.7240', '0.8134'],\n",
       " ['/m/01m4t', '0.0420', '0.3249', '0.2456', '0.7225', '0.8416'],\n",
       " ['/m/03s_tn', '0.0403', '0.2744', '0.2738', '0.7324', '0.8272'],\n",
       " ['/m/0h8ntjv', '0.0395', '0.2599', '0.2705', '0.7331', '0.7973'],\n",
       " ['/m/0wdt60w', '0.0391', '0.2569', '0.2640', '0.7314', '0.8143'],\n",
       " ['/m/080hkjn', '0.0383', '0.2573', '0.2644', '0.7198', '0.8038'],\n",
       " ['/m/0bt_c3', '0.0371', '0.3787', '0.6450', '0.7012', '0.8303'],\n",
       " ['/m/02tsc9', '0.0338', '0.2611', '0.2702', '0.7324', '0.7942'],\n",
       " ['/m/0584n8', '0.0321', '0.2763', '0.2618', '0.7269', '0.8417'],\n",
       " ['/m/0gxl3', '0.0310', '0.2432', '0.2958', '0.7168', '0.8214'],\n",
       " ['/m/0cmf2', '0.0304', '0.1131', '0.2351', '0.9143', '0.9188'],\n",
       " ['/m/083wq', '0.0300', '0.3896', '0.6501', '0.5010', '0.7731'],\n",
       " ['/m/01940j', '0.0266', '0.2627', '0.2597', '0.7175', '0.8057'],\n",
       " ['/m/083wq', '0.0260', '0.3809', '0.6574', '0.4053', '0.7057'],\n",
       " ['/m/083wq', '0.0247', '0.5010', '0.7277', '0.5537', '0.8199'],\n",
       " ['/m/083wq', '0.0240', '0.5293', '0.7130', '0.5508', '0.7365'],\n",
       " ['/m/076bq', '0.0223', '0.2607', '0.2255', '0.7246', '0.7965'],\n",
       " ['/m/0342h', '0.0216', '0.2573', '0.2640', '0.7240', '0.7930'],\n",
       " ['/m/02jvh9', '0.0215', '0.2581', '0.2625', '0.7215', '0.8065'],\n",
       " ['/m/07jdr', '0.0192', '0.1936', '0.2651', '0.7912', '0.8569'],\n",
       " ['/m/0bt9lr', '0.0186', '0.2630', '0.2540', '0.7243', '0.8093'],\n",
       " ['/m/04ylt', '0.0180', '0.2646', '0.3382', '0.7139', '0.7613'],\n",
       " ['/m/03m3vtv', '0.0179', '0.3827', '0.6626', '0.7000', '0.8213'],\n",
       " ['/m/016m2d', '0.0175', '0.2575', '0.2675', '0.7250', '0.7845'],\n",
       " ['/m/050k8', '0.0171', '0.2558', '0.2646', '0.7231', '0.8077'],\n",
       " ['/m/0176mf', '0.0164', '0.2569', '0.2615', '0.7141', '0.8046'],\n",
       " ['/m/01x3jk', '0.0163', '0.3145', '0.2299', '0.7422', '0.8858'],\n",
       " ['/m/0frqm', '0.0162', '0.1117', '0.2157', '0.8824', '0.8894'],\n",
       " ['/m/083wq', '0.0160', '0.6250', '0.6091', '0.6416', '0.6384'],\n",
       " ['/m/07r04', '0.0159', '0.2621', '0.2454', '0.7185', '0.8228'],\n",
       " ['/m/0cmf2', '0.0156', '0.2503', '0.2662', '0.7184', '0.8126'],\n",
       " ['/m/03c7gz', '0.0150', '0.2583', '0.2572', '0.7285', '0.7968'],\n",
       " ['/m/083wq', '0.0147', '0.5205', '0.7101', '0.5430', '0.7321'],\n",
       " ['/m/0d20w4', '0.0143', '0.3232', '0.3104', '0.7402', '0.8053'],\n",
       " ['/m/02fq_6', '0.0136', '0.2560', '0.2620', '0.7235', '0.8295'],\n",
       " ['/m/083wq', '0.0127', '0.2695', '0.5461', '0.3525', '0.6486'],\n",
       " ['/m/0bjyj5', '0.0127', '0.2852', '0.2738', '0.7227', '0.7877'],\n",
       " ['/m/03grzl', '0.0122', '0.2586', '0.2647', '0.7237', '0.8035'],\n",
       " ['/m/01pns0', '0.0120', '0.2637', '0.2782', '0.7578', '0.8302'],\n",
       " ['/m/01fh4r', '0.0107', '0.2588', '0.2694', '0.7256', '0.8404'],\n",
       " ['/m/05gqfk', '0.0106', '0.2886', '0.2619', '0.7385', '0.8435'],\n",
       " ['/m/09rvcxw', '0.0103', '0.3047', '0.2694', '0.7764', '0.8463'],\n",
       " ['/m/04_sv', '0.0102', '0.1947', '0.2618', '0.7912', '0.8635'],\n",
       " ['/m/01j51', '0.0101', '0.2597', '0.2662', '0.7193', '0.8078'],\n",
       " ['/m/025dyy', '0.0100', '0.2663', '0.2722', '0.6900', '0.7489'],\n",
       " ['/m/083wq', '0.0100', '0.6279', '0.5081', '0.6465', '0.5286'],\n",
       " ['/m/02p5f1q', '0.0098', '0.2548', '0.2710', '0.7187', '0.7807'],\n",
       " ['/m/083wq', '0.0093', '0.6504', '0.4978', '0.6699', '0.5227'],\n",
       " ['/m/0bt_c3', '0.0092', '0.3910', '0.6550', '0.5350', '0.7650'],\n",
       " ['/m/01yrx', '0.0091', '0.2620', '0.2600', '0.7260', '0.7630'],\n",
       " ['/m/06z37_', '0.0090', '0.2550', '0.2720', '0.7150', '0.7480'],\n",
       " ['/m/03120', '0.0089', '0.2600', '0.2680', '0.7180', '0.8150'],\n",
       " ['/m/0fszt', '0.0084', '0.2564', '0.2625', '0.7209', '0.7913'],\n",
       " ['/m/01jfm_', '0.0082', '0.2632', '0.2681', '0.7145', '0.7869'],\n",
       " ['/m/02zn6n', '0.0082', '0.2374', '0.2449', '0.7314', '0.8559'],\n",
       " ['/m/025rp__', '0.0081', '0.2540', '0.2510', '0.7240', '0.8150'],\n",
       " ['/m/01b638', '0.0080', '0.2600', '0.2640', '0.7320', '0.8230'],\n",
       " ['/m/0bt_c3', '0.0078', '0.3602', '0.4785', '0.7293', '0.8143'],\n",
       " ['/m/083wq', '0.0076', '0.3015', '0.6137', '0.3580', '0.6600'],\n",
       " ['/m/083wq', '0.0076', '0.5020', '0.7321', '0.5553', '0.8264'],\n",
       " ['/m/015qff', '0.0076', '0.2645', '0.2606', '0.7239', '0.8022'],\n",
       " ['/m/02wbtzl', '0.0076', '0.2570', '0.2610', '0.7240', '0.8260'],\n",
       " ['/m/0pg52', '0.0074', '0.2581', '0.2561', '0.7246', '0.8183'],\n",
       " ['/m/083wq', '0.0073', '0.6182', '0.6281', '0.6348', '0.6545'],\n",
       " ['/m/015qff', '0.0073', '0.2549', '0.2826', '0.7188', '0.7657'],\n",
       " ['/m/083wq', '0.0073', '0.2606', '0.2720', '0.5561', '0.6669'],\n",
       " ['/m/07r04', '0.0073', '0.2576', '0.2641', '0.7174', '0.7972'],\n",
       " ['/m/029b3', '0.0071', '0.2590', '0.2620', '0.7209', '0.8126'],\n",
       " ['/m/03jbxj', '0.0070', '0.3184', '0.2958', '0.7568', '0.8170'],\n",
       " ['/m/083wq', '0.0070', '0.2883', '0.5896', '0.3528', '0.6543'],\n",
       " ['/m/083wq', '0.0070', '0.2580', '0.3510', '0.3250', '0.6360'],\n",
       " ['/m/083wq', '0.0070', '0.3870', '0.6580', '0.5570', '0.8130'],\n",
       " ['/m/07dd4', '0.0070', '0.2611', '0.2616', '0.7177', '0.8285'],\n",
       " ['/m/01yx86', '0.0069', '0.2600', '0.2640', '0.7320', '0.8230'],\n",
       " ['/m/0420v5', '0.0069', '0.2526', '0.2625', '0.7161', '0.8053'],\n",
       " ['/m/0242l', '0.0068', '0.2632', '0.2681', '0.7145', '0.7869'],\n",
       " ['/m/01cmb2', '0.0066', '0.2563', '0.2552', '0.7220', '0.8217'],\n",
       " ['/m/025dyy', '0.0066', '0.3845', '0.6031', '0.6829', '0.7355'],\n",
       " ['/m/02w3r3', '0.0064', '0.2906', '0.2790', '0.7171', '0.8425'],\n",
       " ['/m/0bh9flk', '0.0064', '0.2700', '0.2640', '0.7190', '0.8030'],\n",
       " ['/m/01bqk0', '0.0063', '0.2640', '0.2670', '0.7200', '0.7940'],\n",
       " ['/m/09728', '0.0063', '0.2600', '0.2610', '0.7220', '0.8240'],\n",
       " ['/m/03q5t', '0.0060', '0.2656', '0.2914', '0.7129', '0.8492'],\n",
       " ['/m/05ctyq', '0.0060', '0.2588', '0.2987', '0.7188', '0.7804'],\n",
       " ['/m/068zj', '0.0053', '0.2670', '0.2610', '0.7100', '0.7910'],\n",
       " ['/m/084rd', '0.0051', '0.3800', '0.6380', '0.7030', '0.8210'],\n",
       " ['/m/01xs3r', '0.0050', '0.2734', '0.2152', '0.7461', '0.7628'],\n",
       " ['/m/0frqm', '0.0050', '0.0058', '0.0244', '0.3464', '0.4214'],\n",
       " ['/m/03m3vtv', '0.0049', '0.1416', '0.2714', '0.8296', '0.8298'],\n",
       " ['/m/0frqm', '0.0046', '0.0627', '0.0082', '0.9861', '0.4267'],\n",
       " ['/m/09rvcxw', '0.0044', '0.1332', '0.2696', '0.8566', '0.8321'],\n",
       " ['/m/02p5f1q', '0.0044', '0.2535', '0.2649', '0.7214', '0.8103'],\n",
       " ['/m/0fszt', '0.0043', '0.2693', '0.2679', '0.7189', '0.7569'],\n",
       " ['/m/05_5p_0', '0.0043', '0.2480', '0.2679', '0.7344', '0.7687'],\n",
       " ['/m/01940j', '0.0041', '0.2598', '0.2640', '0.7199', '0.7882'],\n",
       " ['/m/0cmf2', '0.0041', '0.2533', '0.2608', '0.7253', '0.8238'],\n",
       " ['/m/02f9f_', '0.0040', '0.2422', '0.2401', '0.7383', '0.7613'],\n",
       " ['/m/04v6l4', '0.0040', '0.2285', '0.2592', '0.7393', '0.8141'],\n",
       " ['/m/01m2v', '0.0040', '0.3760', '0.6310', '0.7090', '0.8272'],\n",
       " ['/m/03m3vtv', '0.0038', '0.2662', '0.2901', '0.3946', '0.6769'],\n",
       " ['/m/029bxz', '0.0037', '0.3281', '0.2943', '0.7471', '0.8712'],\n",
       " ['/m/01599', '0.0036', '0.2530', '0.2651', '0.7214', '0.8109'],\n",
       " ['/m/09gtd', '0.0034', '0.2641', '0.2726', '0.7168', '0.8128'],\n",
       " ['/m/07jdr', '0.0034', '0.2587', '0.2688', '0.7226', '0.8190'],\n",
       " ['/m/0hdln', '0.0033', '0.0538', '0.2708', '0.9575', '0.9145'],\n",
       " ['/m/04h8sr', '0.0032', '0.2588', '0.2750', '0.4222', '0.6596'],\n",
       " ['/m/0frqm', '0.0031', '0.0100', '0.7713', '0.9972', '0.9919'],\n",
       " ['/m/01bjv', '0.0031', '0.2601', '0.2669', '0.7215', '0.8119'],\n",
       " ['/m/02rgn06', '0.0031', '0.2588', '0.2750', '0.4222', '0.6596'],\n",
       " ['/m/0k1tl', '0.0029', '0.3821', '0.6482', '0.7017', '0.8276'],\n",
       " ['/m/050k8', '0.0029', '0.3820', '0.6450', '0.7016', '0.8256'],\n",
       " ['/m/01bms0', '0.0028', '0.2599', '0.2641', '0.7194', '0.8101'],\n",
       " ['/m/012n7d', '0.0027', '0.2611', '0.2652', '0.7181', '0.8188'],\n",
       " ['/m/076bq', '0.0027', '0.2605', '0.2639', '0.7177', '0.8183'],\n",
       " ['/m/0h8ntjv', '0.0027', '0.2609', '0.2646', '0.7181', '0.8207'],\n",
       " ['/m/0174k2', '0.0026', '0.2599', '0.2641', '0.7180', '0.8169'],\n",
       " ['/m/0frqm', '0.0025', '0.0058', '0.0244', '0.3464', '0.4214'],\n",
       " ['/m/01kb5b', '0.0024', '0.2588', '0.2750', '0.4222', '0.6596'],\n",
       " ['/m/03m3vtv', '0.0024', '0.1416', '0.2714', '0.8296', '0.8298'],\n",
       " ['/m/03bbps', '0.0024', '0.3782', '0.6592', '0.6998', '0.8200'],\n",
       " ['/m/0frqm', '0.0024', '0.3782', '0.6592', '0.6998', '0.8200'],\n",
       " ['/m/01c648', '0.0024', '0.3818', '0.6437', '0.7007', '0.8227'],\n",
       " ['/m/01n4qj', '0.0023', '0.2693', '0.2679', '0.7189', '0.7569'],\n",
       " ['/m/09ddx', '0.0023', '0.1323', '0.2626', '0.8583', '0.9010'],\n",
       " ['/m/09rvcxw', '0.0022', '0.1332', '0.2696', '0.8566', '0.8321'],\n",
       " ['/m/0hdln', '0.0022', '0.0100', '0.7713', '0.9972', '0.9919'],\n",
       " ['/m/0d20w4', '0.0022', '0.2641', '0.2724', '0.7170', '0.8128'],\n",
       " ['/m/01940j', '0.0021', '0.2598', '0.2640', '0.7199', '0.7882'],\n",
       " ['/m/0cmf2', '0.0021', '0.2533', '0.2608', '0.7253', '0.8238'],\n",
       " ['/m/06_72j', '0.0021', '0.5799', '0.4533', '0.7059', '0.6979'],\n",
       " ['/m/0584n8', '0.0021', '0.2609', '0.2645', '0.7181', '0.8204'],\n",
       " ['/m/02p3w7d', '0.0021', '0.2534', '0.2651', '0.7206', '0.8073'],\n",
       " ['/m/081qc', '0.0020', '0.2599', '0.2671', '0.7218', '0.8124'],\n",
       " ['/m/0fx9l', '0.0020', '0.0538', '0.2708', '0.9575', '0.9145'],\n",
       " ['/m/0frqm', '0.0020', '0.0053', '0.3908', '0.4116', '0.9836'],\n",
       " ['/m/0dv5r', '0.0020', '0.3178', '0.3955', '0.7181', '0.8271'],\n",
       " ['/m/03m3vtv', '0.0019', '0.2662', '0.2901', '0.3946', '0.6769'],\n",
       " ['/m/05ctyq', '0.0019', '0.2598', '0.2642', '0.7193', '0.8049'],\n",
       " ['/m/03y6mg', '0.0019', '0.2599', '0.2641', '0.7194', '0.8101'],\n",
       " ['/m/03s_tn', '0.0019', '0.2599', '0.2641', '0.7195', '0.8070'],\n",
       " ['/m/02wbtzl', '0.0019', '0.2693', '0.2679', '0.7189', '0.7569'],\n",
       " ['/m/01599', '0.0018', '0.2530', '0.2651', '0.7214', '0.8109'],\n",
       " ['/m/025dyy', '0.0018', '0.2725', '0.2709', '0.7186', '0.7522'],\n",
       " ['/m/09gtd', '0.0017', '0.2641', '0.2726', '0.7168', '0.8128'],\n",
       " ['/m/07jdr', '0.0017', '0.2587', '0.2688', '0.7226', '0.8190'],\n",
       " ['/m/0176mf', '0.0017', '0.3774', '0.6560', '0.7005', '0.8189'],\n",
       " ['/m/0hdln', '0.0017', '0.3761', '0.6603', '0.7002', '0.8209'],\n",
       " ['/m/0gjkl', '0.0017', '0.2581', '0.2559', '0.7247', '0.8190'],\n",
       " ['/m/01jfm_', '0.0017', '0.2703', '0.2689', '0.7193', '0.7535'],\n",
       " ['/m/01c648', '0.0017', '0.2692', '0.2709', '0.7197', '0.7598'],\n",
       " ['/m/03m3vtv', '0.0016', '0.4006', '0.6733', '0.6870', '0.7386'],\n",
       " ['/m/01m4t', '0.0016', '0.0538', '0.2708', '0.9575', '0.9145'],\n",
       " ['/m/0frqm', '0.0016', '0.6431', '0.2756', '0.9794', '0.4356'],\n",
       " ['/m/015qff', '0.0016', '0.2535', '0.2670', '0.7215', '0.8138'],\n",
       " ['/m/0342h', '0.0016', '0.1283', '0.2615', '0.8611', '0.9081'],\n",
       " ['/m/02rgn06', '0.0015', '0.2588', '0.2750', '0.4222', '0.6596'],\n",
       " ['/m/02w3r3', '0.0015', '0.3782', '0.6592', '0.6998', '0.8200'],\n",
       " ['/m/03jbxj', '0.0015', '0.2598', '0.2639', '0.7192', '0.8064'],\n",
       " ['/m/0cmf2', '0.0015', '0.0122', '0.1622', '0.9967', '0.9919'],\n",
       " ['/m/012n7d', '0.0014', '0.2611', '0.2652', '0.7181', '0.8188'],\n",
       " ['/m/076bq', '0.0014', '0.2605', '0.2639', '0.7177', '0.8183'],\n",
       " ['/m/01bms0', '0.0014', '0.2599', '0.2641', '0.7194', '0.8101'],\n",
       " ['/m/0h8ntjv', '0.0014', '0.2609', '0.2646', '0.7181', '0.8207'],\n",
       " ['/m/0k1tl', '0.0014', '0.3821', '0.6482', '0.7017', '0.8276'],\n",
       " ['/m/050k8', '0.0014', '0.3820', '0.6450', '0.7016', '0.8256'],\n",
       " ['/m/01k6s3', '0.0014', '0.2611', '0.2652', '0.7181', '0.8188'],\n",
       " ['/m/06_72j', '0.0014', '0.1416', '0.2714', '0.8296', '0.8298'],\n",
       " ['/m/0frqm', '0.0014', '0.6715', '0.4716', '0.9975', '0.7796'],\n",
       " ['/m/02jvh9', '0.0014', '0.2594', '0.2641', '0.7200', '0.7880'],\n",
       " ['/m/07jdr', '0.0014', '0.0122', '0.1622', '0.9967', '0.9919'],\n",
       " ['/m/0174k2', '0.0013', '0.2599', '0.2641', '0.7180', '0.8169'],\n",
       " ['/m/020lf', '0.0013', '0.2964', '0.4596', '0.7160', '0.8202'],\n",
       " ['/m/0bjyj5', '0.0013', '0.2597', '0.2642', '0.7198', '0.7910'],\n",
       " ['/m/07r04', '0.0013', '0.0122', '0.1622', '0.9967', '0.9919'],\n",
       " ['/m/03bbps', '0.0012', '0.3782', '0.6592', '0.6998', '0.8200'],\n",
       " ['/m/0frqm', '0.0012', '0.3782', '0.6592', '0.6998', '0.8200'],\n",
       " ['/m/01c648', '0.0012', '0.3818', '0.6437', '0.7007', '0.8227'],\n",
       " ['/m/029b3', '0.0012', '0.2611', '0.2652', '0.7181', '0.8188'],\n",
       " ['/m/01kb5b', '0.0012', '0.3831', '0.6498', '0.7025', '0.8214'],\n",
       " ['/m/01j51', '0.0012', '0.1323', '0.2626', '0.8583', '0.9010'],\n",
       " ['/m/03120', '0.0012', '0.2590', '0.2655', '0.7164', '0.7980'],\n",
       " ['/m/0hdln', '0.0011', '0.0100', '0.7713', '0.9972', '0.9919'],\n",
       " ['/m/0d20w4', '0.0011', '0.2641', '0.2724', '0.7170', '0.8128'],\n",
       " ['/m/01n4qj', '0.0011', '0.2693', '0.2679', '0.7189', '0.7569'],\n",
       " ['/m/09ddx', '0.0011', '0.1323', '0.2626', '0.8583', '0.9010'],\n",
       " ['/m/09gtd', '0.0011', '0.3782', '0.6592', '0.6998', '0.8200'],\n",
       " ['/m/0lt4_', '0.0011', '0.2588', '0.2750', '0.4222', '0.6596'],\n",
       " ['/m/01bjv', '0.0011', '0.1323', '0.2626', '0.8583', '0.9010'],\n",
       " ['/m/06_72j', '0.0010', '0.5799', '0.4533', '0.7059', '0.6979'],\n",
       " ['/m/0frqm', '0.0010', '0.0053', '0.3908', '0.4116', '0.9836'],\n",
       " ['/m/0584n8', '0.0010', '0.2609', '0.2645', '0.7181', '0.8204'],\n",
       " ['/m/0dv5r', '0.0010', '0.3178', '0.3955', '0.7181', '0.8271'],\n",
       " ['/m/02p3w7d', '0.0010', '0.2534', '0.2651', '0.7206', '0.8073']]"
      ]
     },
     "execution_count": 69,
     "metadata": {},
     "output_type": "execute_result"
    }
   ],
   "source": [
    "df.dets.values[0]"
   ]
  },
  {
   "cell_type": "code",
   "execution_count": 13,
   "metadata": {},
   "outputs": [
    {
     "data": {
      "text/plain": [
       "str"
      ]
     },
     "execution_count": 13,
     "metadata": {},
     "output_type": "execute_result"
    }
   ],
   "source": [
    "type(df.iloc[0].dets[0][1])"
   ]
  },
  {
   "cell_type": "code",
   "execution_count": 70,
   "metadata": {},
   "outputs": [
    {
     "name": "stderr",
     "output_type": "stream",
     "text": [
      "100%|██████████| 99999/99999 [17:09<00:00, 97.16it/s] \n"
     ]
    }
   ],
   "source": [
    "proposals = []\n",
    "\n",
    "for dets, h, w in tqdm(zip(df.dets.values, df.ImageHeight.values, df.ImageWidth.values), total=df.shape[0]):\n",
    "    img_proposal = []\n",
    "    for det in dets:\n",
    "        xmin, ymin, xmax, ymax = int(w*float(det[2])), int(h*float(det[3])), int(w*float(det[4])), int(h*float(det[5]))\n",
    "        conf = float(det[1])\n",
    "        img_proposal.append(np.array([xmin, ymin, xmax, ymax, conf]).astype(np.float32))\n",
    "    proposals.append(np.stack(img_proposal))\n",
    "    "
   ]
  },
  {
   "cell_type": "code",
   "execution_count": 71,
   "metadata": {},
   "outputs": [],
   "source": [
    "p = np.array(proposals)"
   ]
  },
  {
   "cell_type": "code",
   "execution_count": 72,
   "metadata": {},
   "outputs": [
    {
     "data": {
      "text/plain": [
       "(531, 5)"
      ]
     },
     "execution_count": 72,
     "metadata": {},
     "output_type": "execute_result"
    }
   ],
   "source": [
    "p[1].shape"
   ]
  },
  {
   "cell_type": "code",
   "execution_count": 73,
   "metadata": {},
   "outputs": [],
   "source": [
    "np.save('proposals_627.npy', p)"
   ]
  },
  {
   "cell_type": "code",
   "execution_count": 45,
   "metadata": {},
   "outputs": [],
   "source": [
    "p_dev = np.array(proposals[:1000])"
   ]
  },
  {
   "cell_type": "code",
   "execution_count": 46,
   "metadata": {},
   "outputs": [],
   "source": [
    "np.save('proposals_dev_1000.npy', p_dev)"
   ]
  },
  {
   "cell_type": "code",
   "execution_count": null,
   "metadata": {},
   "outputs": [],
   "source": []
  },
  {
   "cell_type": "code",
   "execution_count": 47,
   "metadata": {},
   "outputs": [],
   "source": [
    "tmp = np.load('proposals.npy')"
   ]
  },
  {
   "cell_type": "code",
   "execution_count": 49,
   "metadata": {},
   "outputs": [
    {
     "data": {
      "text/plain": [
       "(101, 5)"
      ]
     },
     "execution_count": 49,
     "metadata": {},
     "output_type": "execute_result"
    }
   ],
   "source": [
    "tmp[0].shape"
   ]
  },
  {
   "cell_type": "code",
   "execution_count": null,
   "metadata": {},
   "outputs": [],
   "source": []
  },
  {
   "cell_type": "code",
   "execution_count": 10,
   "metadata": {},
   "outputs": [
    {
     "data": {
      "text/plain": [
       "(99999, 4)"
      ]
     },
     "execution_count": 10,
     "metadata": {},
     "output_type": "execute_result"
    }
   ],
   "source": [
    "df.shape"
   ]
  },
  {
   "cell_type": "code",
   "execution_count": 11,
   "metadata": {},
   "outputs": [
    {
     "data": {
      "text/plain": [
       "(99999, 4)"
      ]
     },
     "execution_count": 11,
     "metadata": {},
     "output_type": "execute_result"
    }
   ],
   "source": [
    "df_test.shape"
   ]
  },
  {
   "cell_type": "code",
   "execution_count": 20,
   "metadata": {},
   "outputs": [],
   "source": [
    "df_tmp = df_tmp.set_index('ImageID')"
   ]
  },
  {
   "cell_type": "code",
   "execution_count": 21,
   "metadata": {},
   "outputs": [
    {
     "data": {
      "text/html": [
       "<div>\n",
       "<style scoped>\n",
       "    .dataframe tbody tr th:only-of-type {\n",
       "        vertical-align: middle;\n",
       "    }\n",
       "\n",
       "    .dataframe tbody tr th {\n",
       "        vertical-align: top;\n",
       "    }\n",
       "\n",
       "    .dataframe thead th {\n",
       "        text-align: right;\n",
       "    }\n",
       "</style>\n",
       "<table border=\"1\" class=\"dataframe\">\n",
       "  <thead>\n",
       "    <tr style=\"text-align: right;\">\n",
       "      <th></th>\n",
       "      <th>ImageWidth</th>\n",
       "      <th>ImageHeight</th>\n",
       "      <th>dets</th>\n",
       "    </tr>\n",
       "    <tr>\n",
       "      <th>ImageID</th>\n",
       "      <th></th>\n",
       "      <th></th>\n",
       "      <th></th>\n",
       "    </tr>\n",
       "  </thead>\n",
       "  <tbody>\n",
       "    <tr>\n",
       "      <th>00000b4dcff7f799</th>\n",
       "      <td>1024</td>\n",
       "      <td>683</td>\n",
       "      <td>[[/m/07r04, 0.8837, 0.0093, 0.1279, 0.7010, 0....</td>\n",
       "    </tr>\n",
       "    <tr>\n",
       "      <th>00001a21632de752</th>\n",
       "      <td>1024</td>\n",
       "      <td>681</td>\n",
       "      <td>[[/m/03bt1vf, 0.7607, 0.5409, 0.5901, 0.8157, ...</td>\n",
       "    </tr>\n",
       "    <tr>\n",
       "      <th>0000d67245642c5f</th>\n",
       "      <td>1024</td>\n",
       "      <td>683</td>\n",
       "      <td>[[/m/079cl, 0.2479, 0.2416, 0.0406, 0.9919, 0....</td>\n",
       "    </tr>\n",
       "    <tr>\n",
       "      <th>0001244aa8ed3099</th>\n",
       "      <td>1024</td>\n",
       "      <td>683</td>\n",
       "      <td>[[/m/0388q, 0.1431, 0.8231, 0.5525, 0.8828, 0....</td>\n",
       "    </tr>\n",
       "    <tr>\n",
       "      <th>000172d1dd1adce0</th>\n",
       "      <td>1024</td>\n",
       "      <td>682</td>\n",
       "      <td>[[/m/09rvcxw, 0.2363, 0.4385, 0.0337, 0.7900, ...</td>\n",
       "    </tr>\n",
       "  </tbody>\n",
       "</table>\n",
       "</div>"
      ],
      "text/plain": [
       "                  ImageWidth  ImageHeight  \\\n",
       "ImageID                                     \n",
       "00000b4dcff7f799        1024          683   \n",
       "00001a21632de752        1024          681   \n",
       "0000d67245642c5f        1024          683   \n",
       "0001244aa8ed3099        1024          683   \n",
       "000172d1dd1adce0        1024          682   \n",
       "\n",
       "                                                               dets  \n",
       "ImageID                                                              \n",
       "00000b4dcff7f799  [[/m/07r04, 0.8837, 0.0093, 0.1279, 0.7010, 0....  \n",
       "00001a21632de752  [[/m/03bt1vf, 0.7607, 0.5409, 0.5901, 0.8157, ...  \n",
       "0000d67245642c5f  [[/m/079cl, 0.2479, 0.2416, 0.0406, 0.9919, 0....  \n",
       "0001244aa8ed3099  [[/m/0388q, 0.1431, 0.8231, 0.5525, 0.8828, 0....  \n",
       "000172d1dd1adce0  [[/m/09rvcxw, 0.2363, 0.4385, 0.0337, 0.7900, ...  "
      ]
     },
     "execution_count": 21,
     "metadata": {},
     "output_type": "execute_result"
    }
   ],
   "source": [
    "df_tmp.head()"
   ]
  },
  {
   "cell_type": "code",
   "execution_count": 22,
   "metadata": {},
   "outputs": [
    {
     "ename": "TypeError",
     "evalue": "Cannot index by location index with a non-integer key",
     "output_type": "error",
     "traceback": [
      "\u001b[0;31m---------------------------------------------------------------------------\u001b[0m",
      "\u001b[0;31mTypeError\u001b[0m                                 Traceback (most recent call last)",
      "\u001b[0;32m<ipython-input-22-e05531a7d838>\u001b[0m in \u001b[0;36m<module>\u001b[0;34m\u001b[0m\n\u001b[0;32m----> 1\u001b[0;31m \u001b[0mdf_tmp\u001b[0m\u001b[0;34m.\u001b[0m\u001b[0miloc\u001b[0m\u001b[0;34m[\u001b[0m\u001b[0;34m'00001a21632de752'\u001b[0m\u001b[0;34m]\u001b[0m\u001b[0;34m.\u001b[0m\u001b[0mdets\u001b[0m\u001b[0;34m[\u001b[0m\u001b[0;36m0\u001b[0m\u001b[0;34m]\u001b[0m\u001b[0;34m\u001b[0m\u001b[0;34m\u001b[0m\u001b[0m\n\u001b[0m",
      "\u001b[0;32m/mnt/chicm/anaconda3/lib/python3.7/site-packages/pandas/core/indexing.py\u001b[0m in \u001b[0;36m__getitem__\u001b[0;34m(self, key)\u001b[0m\n\u001b[1;32m   1498\u001b[0m \u001b[0;34m\u001b[0m\u001b[0m\n\u001b[1;32m   1499\u001b[0m             \u001b[0mmaybe_callable\u001b[0m \u001b[0;34m=\u001b[0m \u001b[0mcom\u001b[0m\u001b[0;34m.\u001b[0m\u001b[0mapply_if_callable\u001b[0m\u001b[0;34m(\u001b[0m\u001b[0mkey\u001b[0m\u001b[0;34m,\u001b[0m \u001b[0mself\u001b[0m\u001b[0;34m.\u001b[0m\u001b[0mobj\u001b[0m\u001b[0;34m)\u001b[0m\u001b[0;34m\u001b[0m\u001b[0;34m\u001b[0m\u001b[0m\n\u001b[0;32m-> 1500\u001b[0;31m             \u001b[0;32mreturn\u001b[0m \u001b[0mself\u001b[0m\u001b[0;34m.\u001b[0m\u001b[0m_getitem_axis\u001b[0m\u001b[0;34m(\u001b[0m\u001b[0mmaybe_callable\u001b[0m\u001b[0;34m,\u001b[0m \u001b[0maxis\u001b[0m\u001b[0;34m=\u001b[0m\u001b[0maxis\u001b[0m\u001b[0;34m)\u001b[0m\u001b[0;34m\u001b[0m\u001b[0;34m\u001b[0m\u001b[0m\n\u001b[0m\u001b[1;32m   1501\u001b[0m \u001b[0;34m\u001b[0m\u001b[0m\n\u001b[1;32m   1502\u001b[0m     \u001b[0;32mdef\u001b[0m \u001b[0m_is_scalar_access\u001b[0m\u001b[0;34m(\u001b[0m\u001b[0mself\u001b[0m\u001b[0;34m,\u001b[0m \u001b[0mkey\u001b[0m\u001b[0;34m)\u001b[0m\u001b[0;34m:\u001b[0m\u001b[0;34m\u001b[0m\u001b[0;34m\u001b[0m\u001b[0m\n",
      "\u001b[0;32m/mnt/chicm/anaconda3/lib/python3.7/site-packages/pandas/core/indexing.py\u001b[0m in \u001b[0;36m_getitem_axis\u001b[0;34m(self, key, axis)\u001b[0m\n\u001b[1;32m   2224\u001b[0m         \u001b[0;32melse\u001b[0m\u001b[0;34m:\u001b[0m\u001b[0;34m\u001b[0m\u001b[0;34m\u001b[0m\u001b[0m\n\u001b[1;32m   2225\u001b[0m             \u001b[0;32mif\u001b[0m \u001b[0;32mnot\u001b[0m \u001b[0mis_integer\u001b[0m\u001b[0;34m(\u001b[0m\u001b[0mkey\u001b[0m\u001b[0;34m)\u001b[0m\u001b[0;34m:\u001b[0m\u001b[0;34m\u001b[0m\u001b[0;34m\u001b[0m\u001b[0m\n\u001b[0;32m-> 2226\u001b[0;31m                 raise TypeError(\"Cannot index by location index with a \"\n\u001b[0m\u001b[1;32m   2227\u001b[0m                                 \"non-integer key\")\n\u001b[1;32m   2228\u001b[0m \u001b[0;34m\u001b[0m\u001b[0m\n",
      "\u001b[0;31mTypeError\u001b[0m: Cannot index by location index with a non-integer key"
     ]
    }
   ],
   "source": [
    "df_tmp.iloc['00001a21632de752'].dets[0]"
   ]
  },
  {
   "cell_type": "code",
   "execution_count": null,
   "metadata": {},
   "outputs": [],
   "source": []
  },
  {
   "cell_type": "code",
   "execution_count": null,
   "metadata": {},
   "outputs": [],
   "source": []
  },
  {
   "cell_type": "code",
   "execution_count": null,
   "metadata": {},
   "outputs": [],
   "source": []
  },
  {
   "cell_type": "code",
   "execution_count": 64,
   "metadata": {},
   "outputs": [],
   "source": [
    "import struct\n",
    "import imghdr\n",
    "\n",
    "def get_image_size(fname):\n",
    "    '''Determine the image type of fhandle and return its size.\n",
    "    from draco'''\n",
    "    with open(fname, 'rb') as fhandle:\n",
    "        head = fhandle.read(24)\n",
    "        if len(head) != 24:\n",
    "            raise AssertionError('imghead len != 24')\n",
    "        if imghdr.what(fname) == 'png':\n",
    "            check = struct.unpack('>i', head[4:8])[0]\n",
    "            if check != 0x0d0a1a0a:\n",
    "                raise AssertionError('png check failed')\n",
    "            width, height = struct.unpack('>ii', head[16:24])\n",
    "        elif imghdr.what(fname) == 'gif':\n",
    "            width, height = struct.unpack('<HH', head[6:10])\n",
    "        elif imghdr.what(fname) == 'jpeg':\n",
    "            try:\n",
    "                fhandle.seek(0) # Read 0xff next\n",
    "                size = 2\n",
    "                ftype = 0\n",
    "                while not 0xc0 <= ftype <= 0xcf:\n",
    "                    fhandle.seek(size, 1)\n",
    "                    byte = fhandle.read(1)\n",
    "                    while ord(byte) == 0xff:\n",
    "                        byte = fhandle.read(1)\n",
    "                    ftype = ord(byte)\n",
    "                    size = struct.unpack('>H', fhandle.read(2))[0] - 2\n",
    "                # We are at a SOFn block\n",
    "                fhandle.seek(1, 1)  # Skip `precision' byte.\n",
    "                height, width = struct.unpack('>HH', fhandle.read(4))\n",
    "            except Exception: #IGNORE:W0703\n",
    "                raise\n",
    "        else:\n",
    "            print(fname, imghdr.what(fname))\n",
    "            #raise AssertionError('file format not supported')\n",
    "            img = cv2.imread(fname)\n",
    "            print(img.shape)\n",
    "            height, width, _ = img.shape\n",
    "\n",
    "        return width, height\n"
   ]
  },
  {
   "cell_type": "code",
   "execution_count": null,
   "metadata": {},
   "outputs": [],
   "source": []
  },
  {
   "cell_type": "code",
   "execution_count": null,
   "metadata": {},
   "outputs": [],
   "source": []
  },
  {
   "cell_type": "code",
   "execution_count": null,
   "metadata": {},
   "outputs": [],
   "source": []
  }
 ],
 "metadata": {
  "kernelspec": {
   "display_name": "Python 3",
   "language": "python",
   "name": "python3"
  },
  "language_info": {
   "codemirror_mode": {
    "name": "ipython",
    "version": 3
   },
   "file_extension": ".py",
   "mimetype": "text/x-python",
   "name": "python",
   "nbconvert_exporter": "python",
   "pygments_lexer": "ipython3",
   "version": "3.7.3"
  }
 },
 "nbformat": 4,
 "nbformat_minor": 2
}

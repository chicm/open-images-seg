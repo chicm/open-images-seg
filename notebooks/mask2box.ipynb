{
 "cells": [
  {
   "cell_type": "code",
   "execution_count": 7,
   "metadata": {},
   "outputs": [],
   "source": [
    "import pandas as pd\n",
    "import numpy as np\n",
    "import os\n",
    "import pycocotools.mask as mutils\n",
    "import base64\n",
    "import numpy as np\n",
    "from pycocotools import mask as coco_mask_d\n",
    "import typing as t\n",
    "import zlib\n",
    "from matplotlib.pyplot import imshow\n",
    "import matplotlib.pyplot as plt\n",
    "import cv2\n",
    "import numpy as np\n",
    "%matplotlib inline\n",
    "from tqdm import tqdm\n"
   ]
  },
  {
   "cell_type": "code",
   "execution_count": 2,
   "metadata": {},
   "outputs": [
    {
     "name": "stdout",
     "output_type": "stream",
     "text": [
      "cas_275_epoch_1_0919pm.pth\tpreds_cas275_0919pm_all.pkl\r\n",
      "configs\t\t\t\tpreds_cas_parent_0919pm_all.pkl\r\n",
      "merge_0923_2_lb5026.csv\t\tscripts\r\n",
      "mmdetection\t\t\tseg\r\n",
      "notebooks\t\t\tsub_htc275_lb4560_top100_iou03_mask42.csv\r\n",
      "preds_0913am_all_lb4304.pkl\ttest.csv\r\n",
      "preds_cas275_0917pm_lb4248.pkl\twork_dirs\r\n",
      "preds_cas275_0918pm_lb4279.pkl\r\n"
     ]
    }
   ],
   "source": [
    "!ls ../"
   ]
  },
  {
   "cell_type": "code",
   "execution_count": 3,
   "metadata": {},
   "outputs": [],
   "source": [
    "df = pd.read_csv('../merge_0923_2_lb5026.csv')"
   ]
  },
  {
   "cell_type": "code",
   "execution_count": 10,
   "metadata": {},
   "outputs": [
    {
     "data": {
      "text/html": [
       "<div>\n",
       "<style scoped>\n",
       "    .dataframe tbody tr th:only-of-type {\n",
       "        vertical-align: middle;\n",
       "    }\n",
       "\n",
       "    .dataframe tbody tr th {\n",
       "        vertical-align: top;\n",
       "    }\n",
       "\n",
       "    .dataframe thead th {\n",
       "        text-align: right;\n",
       "    }\n",
       "</style>\n",
       "<table border=\"1\" class=\"dataframe\">\n",
       "  <thead>\n",
       "    <tr style=\"text-align: right;\">\n",
       "      <th></th>\n",
       "      <th>ImageID</th>\n",
       "      <th>ImageWidth</th>\n",
       "      <th>ImageHeight</th>\n",
       "      <th>PredictionString</th>\n",
       "    </tr>\n",
       "  </thead>\n",
       "  <tbody>\n",
       "    <tr>\n",
       "      <th>0</th>\n",
       "      <td>80155d58d0ee19bd</td>\n",
       "      <td>1024</td>\n",
       "      <td>683</td>\n",
       "      <td>/m/01k6s3 0.4164521 eNp9U8tuwjAQ/CU/4qD43CCF+N...</td>\n",
       "    </tr>\n",
       "    <tr>\n",
       "      <th>1</th>\n",
       "      <td>52a76f3fe21185bf</td>\n",
       "      <td>1024</td>\n",
       "      <td>683</td>\n",
       "      <td>/m/03y6mg 0.2951875 eNrNkm1vozAMx7+SHUgY7TadTq...</td>\n",
       "    </tr>\n",
       "    <tr>\n",
       "      <th>2</th>\n",
       "      <td>65e9da7c04c8e4cd</td>\n",
       "      <td>1024</td>\n",
       "      <td>682</td>\n",
       "      <td>/m/01lrl 0.0051426 eNqLyjUMNgxPMYACf0MDCoChH4...</td>\n",
       "    </tr>\n",
       "    <tr>\n",
       "      <th>3</th>\n",
       "      <td>6d10fa21d93bd6cc</td>\n",
       "      <td>1024</td>\n",
       "      <td>682</td>\n",
       "      <td>/m/01xyhv 0.9428729 eNp1UtFuwyAM/CUgkESb+rJKU0...</td>\n",
       "    </tr>\n",
       "    <tr>\n",
       "      <th>4</th>\n",
       "      <td>0841dee573a875ca</td>\n",
       "      <td>1024</td>\n",
       "      <td>683</td>\n",
       "      <td>/m/0342h 0.8243405 eNp1UUsOAjEIvRLQyUQvYGKmgrp...</td>\n",
       "    </tr>\n",
       "  </tbody>\n",
       "</table>\n",
       "</div>"
      ],
      "text/plain": [
       "            ImageID  ImageWidth  ImageHeight  \\\n",
       "0  80155d58d0ee19bd        1024          683   \n",
       "1  52a76f3fe21185bf        1024          683   \n",
       "2  65e9da7c04c8e4cd        1024          682   \n",
       "3  6d10fa21d93bd6cc        1024          682   \n",
       "4  0841dee573a875ca        1024          683   \n",
       "\n",
       "                                    PredictionString  \n",
       "0  /m/01k6s3 0.4164521 eNp9U8tuwjAQ/CU/4qD43CCF+N...  \n",
       "1  /m/03y6mg 0.2951875 eNrNkm1vozAMx7+SHUgY7TadTq...  \n",
       "2   /m/01lrl 0.0051426 eNqLyjUMNgxPMYACf0MDCoChH4...  \n",
       "3  /m/01xyhv 0.9428729 eNp1UtFuwyAM/CUgkESb+rJKU0...  \n",
       "4  /m/0342h 0.8243405 eNp1UUsOAjEIvRLQyUQvYGKmgrp...  "
      ]
     },
     "execution_count": 10,
     "metadata": {},
     "output_type": "execute_result"
    }
   ],
   "source": [
    "df.head()"
   ]
  },
  {
   "cell_type": "code",
   "execution_count": 8,
   "metadata": {},
   "outputs": [],
   "source": [
    "def decode_mask(mask, h, w):\n",
    "    mask = base64.b64decode(mask)\n",
    "    mask = zlib.decompress(mask)\n",
    "    decoding_dict = {\n",
    "          'size': [h, w],\n",
    "          'counts': mask\n",
    "    }\n",
    "    mask_tensor = coco_mask_d.decode(decoding_dict)\n",
    "\n",
    "    #print(type(mask_tensor))\n",
    "    return mask_tensor"
   ]
  },
  {
   "cell_type": "code",
   "execution_count": 39,
   "metadata": {},
   "outputs": [],
   "source": [
    "def get_box_pred_str(row):\n",
    "    pred_str = row.SegPredictionString\n",
    "    h = row.ImageHeight\n",
    "    w = row.ImageWidth\n",
    "    try:\n",
    "        if len(pred_str.strip()) < 1:\n",
    "            return ''\n",
    "    except:\n",
    "        print('pred_str:', pred_str)\n",
    "        raise\n",
    "    det_items = pred_str.strip().split(' ')\n",
    "    assert len(det_items) % 3 == 0\n",
    "\n",
    "    res, det = [], []\n",
    "    for i in range(len(det_items)):\n",
    "        det.append(det_items[i])\n",
    "        if (i+1) % 3 == 0:\n",
    "            assert '/' in det[0]\n",
    "            mask = decode_mask(det[2], h, w)\n",
    "            b = cv2.boundingRect(mask)\n",
    "            bbox = [b[0]/w, b[1]/h, (b[0]+b[2])/w, (b[1]+b[3])/h]\n",
    "            bbox = ['{:.5f}'.format(x) for x in bbox]\n",
    "            res.append(det[0])\n",
    "            res.append(det[1])\n",
    "            res.extend(bbox)\n",
    "            det = []\n",
    "    return ' '.join(res)"
   ]
  },
  {
   "cell_type": "code",
   "execution_count": 11,
   "metadata": {},
   "outputs": [],
   "source": [
    "df.rename(columns={'PredictionString': 'SegPredictionString'}, inplace=True)"
   ]
  },
  {
   "cell_type": "code",
   "execution_count": 29,
   "metadata": {},
   "outputs": [
    {
     "data": {
      "text/html": [
       "<div>\n",
       "<style scoped>\n",
       "    .dataframe tbody tr th:only-of-type {\n",
       "        vertical-align: middle;\n",
       "    }\n",
       "\n",
       "    .dataframe tbody tr th {\n",
       "        vertical-align: top;\n",
       "    }\n",
       "\n",
       "    .dataframe thead th {\n",
       "        text-align: right;\n",
       "    }\n",
       "</style>\n",
       "<table border=\"1\" class=\"dataframe\">\n",
       "  <thead>\n",
       "    <tr style=\"text-align: right;\">\n",
       "      <th></th>\n",
       "      <th>ImageID</th>\n",
       "      <th>ImageWidth</th>\n",
       "      <th>ImageHeight</th>\n",
       "      <th>SegPredictionString</th>\n",
       "    </tr>\n",
       "  </thead>\n",
       "  <tbody>\n",
       "    <tr>\n",
       "      <th>0</th>\n",
       "      <td>80155d58d0ee19bd</td>\n",
       "      <td>1024</td>\n",
       "      <td>683</td>\n",
       "      <td>/m/01k6s3 0.4164521 eNp9U8tuwjAQ/CU/4qD43CCF+N...</td>\n",
       "    </tr>\n",
       "    <tr>\n",
       "      <th>1</th>\n",
       "      <td>52a76f3fe21185bf</td>\n",
       "      <td>1024</td>\n",
       "      <td>683</td>\n",
       "      <td>/m/03y6mg 0.2951875 eNrNkm1vozAMx7+SHUgY7TadTq...</td>\n",
       "    </tr>\n",
       "    <tr>\n",
       "      <th>2</th>\n",
       "      <td>65e9da7c04c8e4cd</td>\n",
       "      <td>1024</td>\n",
       "      <td>682</td>\n",
       "      <td>/m/01lrl 0.0051426 eNqLyjUMNgxPMYACf0MDCoChH4...</td>\n",
       "    </tr>\n",
       "    <tr>\n",
       "      <th>3</th>\n",
       "      <td>6d10fa21d93bd6cc</td>\n",
       "      <td>1024</td>\n",
       "      <td>682</td>\n",
       "      <td>/m/01xyhv 0.9428729 eNp1UtFuwyAM/CUgkESb+rJKU0...</td>\n",
       "    </tr>\n",
       "    <tr>\n",
       "      <th>4</th>\n",
       "      <td>0841dee573a875ca</td>\n",
       "      <td>1024</td>\n",
       "      <td>683</td>\n",
       "      <td>/m/0342h 0.8243405 eNp1UUsOAjEIvRLQyUQvYGKmgrp...</td>\n",
       "    </tr>\n",
       "  </tbody>\n",
       "</table>\n",
       "</div>"
      ],
      "text/plain": [
       "            ImageID  ImageWidth  ImageHeight  \\\n",
       "0  80155d58d0ee19bd        1024          683   \n",
       "1  52a76f3fe21185bf        1024          683   \n",
       "2  65e9da7c04c8e4cd        1024          682   \n",
       "3  6d10fa21d93bd6cc        1024          682   \n",
       "4  0841dee573a875ca        1024          683   \n",
       "\n",
       "                                 SegPredictionString  \n",
       "0  /m/01k6s3 0.4164521 eNp9U8tuwjAQ/CU/4qD43CCF+N...  \n",
       "1  /m/03y6mg 0.2951875 eNrNkm1vozAMx7+SHUgY7TadTq...  \n",
       "2   /m/01lrl 0.0051426 eNqLyjUMNgxPMYACf0MDCoChH4...  \n",
       "3  /m/01xyhv 0.9428729 eNp1UtFuwyAM/CUgkESb+rJKU0...  \n",
       "4  /m/0342h 0.8243405 eNp1UUsOAjEIvRLQyUQvYGKmgrp...  "
      ]
     },
     "execution_count": 29,
     "metadata": {},
     "output_type": "execute_result"
    }
   ],
   "source": [
    "df.head()"
   ]
  },
  {
   "cell_type": "code",
   "execution_count": 40,
   "metadata": {},
   "outputs": [],
   "source": [
    "def set_pred_str(df):\n",
    "    df['PredictionString'] = df.apply(lambda row: get_box_pred_str(row), axis=1)\n",
    "    return df"
   ]
  },
  {
   "cell_type": "code",
   "execution_count": 41,
   "metadata": {},
   "outputs": [],
   "source": [
    "from multiprocessing import Pool\n",
    "\n",
    "def parallel_apply(df, func, n_cores=24):\n",
    "    #ncores = 24\n",
    "    df_split = np.array_split(df, n_cores)\n",
    "    pool = Pool(n_cores)\n",
    "    df = pd.concat(pool.map(func, df_split))\n",
    "    pool.close()\n",
    "    pool.join()\n",
    "    return df"
   ]
  },
  {
   "cell_type": "code",
   "execution_count": 42,
   "metadata": {},
   "outputs": [],
   "source": [
    "df = parallel_apply(df, set_pred_str)"
   ]
  },
  {
   "cell_type": "code",
   "execution_count": 35,
   "metadata": {},
   "outputs": [
    {
     "data": {
      "text/html": [
       "<div>\n",
       "<style scoped>\n",
       "    .dataframe tbody tr th:only-of-type {\n",
       "        vertical-align: middle;\n",
       "    }\n",
       "\n",
       "    .dataframe tbody tr th {\n",
       "        vertical-align: top;\n",
       "    }\n",
       "\n",
       "    .dataframe thead th {\n",
       "        text-align: right;\n",
       "    }\n",
       "</style>\n",
       "<table border=\"1\" class=\"dataframe\">\n",
       "  <thead>\n",
       "    <tr style=\"text-align: right;\">\n",
       "      <th></th>\n",
       "      <th>ImageID</th>\n",
       "      <th>ImageWidth</th>\n",
       "      <th>ImageHeight</th>\n",
       "      <th>SegPredictionString</th>\n",
       "      <th>PredictionString</th>\n",
       "    </tr>\n",
       "  </thead>\n",
       "  <tbody>\n",
       "    <tr>\n",
       "      <th>0</th>\n",
       "      <td>80155d58d0ee19bd</td>\n",
       "      <td>1024</td>\n",
       "      <td>683</td>\n",
       "      <td>/m/01k6s3 0.4164521 eNp9U8tuwjAQ/CU/4qD43CCF+N...</td>\n",
       "      <td>/m/01k6s3 0.4164521 269312.00000 125672.00000 ...</td>\n",
       "    </tr>\n",
       "    <tr>\n",
       "      <th>1</th>\n",
       "      <td>52a76f3fe21185bf</td>\n",
       "      <td>1024</td>\n",
       "      <td>683</td>\n",
       "      <td>/m/03y6mg 0.2951875 eNrNkm1vozAMx7+SHUgY7TadTq...</td>\n",
       "      <td>/m/03y6mg 0.2951875 649216.00000 21856.00000 1...</td>\n",
       "    </tr>\n",
       "    <tr>\n",
       "      <th>2</th>\n",
       "      <td>65e9da7c04c8e4cd</td>\n",
       "      <td>1024</td>\n",
       "      <td>682</td>\n",
       "      <td>/m/01lrl 0.0051426 eNqLyjUMNgxPMYACf0MDCoChH4...</td>\n",
       "      <td>/m/01lrl 0.0051426 2048.00000 407154.00000 150...</td>\n",
       "    </tr>\n",
       "    <tr>\n",
       "      <th>3</th>\n",
       "      <td>6d10fa21d93bd6cc</td>\n",
       "      <td>1024</td>\n",
       "      <td>682</td>\n",
       "      <td>/m/01xyhv 0.9428729 eNp1UtFuwyAM/CUgkESb+rJKU0...</td>\n",
       "      <td>/m/01xyhv 0.9428729 557056.00000 116622.00000 ...</td>\n",
       "    </tr>\n",
       "    <tr>\n",
       "      <th>4</th>\n",
       "      <td>0841dee573a875ca</td>\n",
       "      <td>1024</td>\n",
       "      <td>683</td>\n",
       "      <td>/m/0342h 0.8243405 eNp1UUsOAjEIvRLQyUQvYGKmgrp...</td>\n",
       "      <td>/m/0342h 0.8243405 481280.00000 232220.00000 7...</td>\n",
       "    </tr>\n",
       "  </tbody>\n",
       "</table>\n",
       "</div>"
      ],
      "text/plain": [
       "            ImageID  ImageWidth  ImageHeight  \\\n",
       "0  80155d58d0ee19bd        1024          683   \n",
       "1  52a76f3fe21185bf        1024          683   \n",
       "2  65e9da7c04c8e4cd        1024          682   \n",
       "3  6d10fa21d93bd6cc        1024          682   \n",
       "4  0841dee573a875ca        1024          683   \n",
       "\n",
       "                                 SegPredictionString  \\\n",
       "0  /m/01k6s3 0.4164521 eNp9U8tuwjAQ/CU/4qD43CCF+N...   \n",
       "1  /m/03y6mg 0.2951875 eNrNkm1vozAMx7+SHUgY7TadTq...   \n",
       "2   /m/01lrl 0.0051426 eNqLyjUMNgxPMYACf0MDCoChH4...   \n",
       "3  /m/01xyhv 0.9428729 eNp1UtFuwyAM/CUgkESb+rJKU0...   \n",
       "4  /m/0342h 0.8243405 eNp1UUsOAjEIvRLQyUQvYGKmgrp...   \n",
       "\n",
       "                                    PredictionString  \n",
       "0  /m/01k6s3 0.4164521 269312.00000 125672.00000 ...  \n",
       "1  /m/03y6mg 0.2951875 649216.00000 21856.00000 1...  \n",
       "2  /m/01lrl 0.0051426 2048.00000 407154.00000 150...  \n",
       "3  /m/01xyhv 0.9428729 557056.00000 116622.00000 ...  \n",
       "4  /m/0342h 0.8243405 481280.00000 232220.00000 7...  "
      ]
     },
     "execution_count": 35,
     "metadata": {},
     "output_type": "execute_result"
    }
   ],
   "source": [
    "df.head()"
   ]
  },
  {
   "cell_type": "code",
   "execution_count": 43,
   "metadata": {},
   "outputs": [
    {
     "data": {
      "text/html": [
       "<div>\n",
       "<style scoped>\n",
       "    .dataframe tbody tr th:only-of-type {\n",
       "        vertical-align: middle;\n",
       "    }\n",
       "\n",
       "    .dataframe tbody tr th {\n",
       "        vertical-align: top;\n",
       "    }\n",
       "\n",
       "    .dataframe thead th {\n",
       "        text-align: right;\n",
       "    }\n",
       "</style>\n",
       "<table border=\"1\" class=\"dataframe\">\n",
       "  <thead>\n",
       "    <tr style=\"text-align: right;\">\n",
       "      <th></th>\n",
       "      <th>ImageID</th>\n",
       "      <th>ImageWidth</th>\n",
       "      <th>ImageHeight</th>\n",
       "      <th>SegPredictionString</th>\n",
       "      <th>PredictionString</th>\n",
       "    </tr>\n",
       "  </thead>\n",
       "  <tbody>\n",
       "    <tr>\n",
       "      <th>0</th>\n",
       "      <td>80155d58d0ee19bd</td>\n",
       "      <td>1024</td>\n",
       "      <td>683</td>\n",
       "      <td>/m/01k6s3 0.4164521 eNp9U8tuwjAQ/CU/4qD43CCF+N...</td>\n",
       "      <td>/m/01k6s3 0.4164521 0.25684 0.26940 0.72363 0....</td>\n",
       "    </tr>\n",
       "    <tr>\n",
       "      <th>1</th>\n",
       "      <td>52a76f3fe21185bf</td>\n",
       "      <td>1024</td>\n",
       "      <td>683</td>\n",
       "      <td>/m/03y6mg 0.2951875 eNrNkm1vozAMx7+SHUgY7TadTq...</td>\n",
       "      <td>/m/03y6mg 0.2951875 0.61914 0.04685 0.97559 0....</td>\n",
       "    </tr>\n",
       "    <tr>\n",
       "      <th>2</th>\n",
       "      <td>65e9da7c04c8e4cd</td>\n",
       "      <td>1024</td>\n",
       "      <td>682</td>\n",
       "      <td>/m/01lrl 0.0051426 eNqLyjUMNgxPMYACf0MDCoChH4...</td>\n",
       "      <td>/m/01lrl 0.0051426 0.00195 0.87537 0.14355 0.9...</td>\n",
       "    </tr>\n",
       "    <tr>\n",
       "      <th>3</th>\n",
       "      <td>6d10fa21d93bd6cc</td>\n",
       "      <td>1024</td>\n",
       "      <td>682</td>\n",
       "      <td>/m/01xyhv 0.9428729 eNp1UtFuwyAM/CUgkESb+rJKU0...</td>\n",
       "      <td>/m/01xyhv 0.9428729 0.53125 0.25073 0.88379 0....</td>\n",
       "    </tr>\n",
       "    <tr>\n",
       "      <th>4</th>\n",
       "      <td>0841dee573a875ca</td>\n",
       "      <td>1024</td>\n",
       "      <td>683</td>\n",
       "      <td>/m/0342h 0.8243405 eNp1UUsOAjEIvRLQyUQvYGKmgrp...</td>\n",
       "      <td>/m/0342h 0.8243405 0.45898 0.49780 0.71582 0.7...</td>\n",
       "    </tr>\n",
       "  </tbody>\n",
       "</table>\n",
       "</div>"
      ],
      "text/plain": [
       "            ImageID  ImageWidth  ImageHeight  \\\n",
       "0  80155d58d0ee19bd        1024          683   \n",
       "1  52a76f3fe21185bf        1024          683   \n",
       "2  65e9da7c04c8e4cd        1024          682   \n",
       "3  6d10fa21d93bd6cc        1024          682   \n",
       "4  0841dee573a875ca        1024          683   \n",
       "\n",
       "                                 SegPredictionString  \\\n",
       "0  /m/01k6s3 0.4164521 eNp9U8tuwjAQ/CU/4qD43CCF+N...   \n",
       "1  /m/03y6mg 0.2951875 eNrNkm1vozAMx7+SHUgY7TadTq...   \n",
       "2   /m/01lrl 0.0051426 eNqLyjUMNgxPMYACf0MDCoChH4...   \n",
       "3  /m/01xyhv 0.9428729 eNp1UtFuwyAM/CUgkESb+rJKU0...   \n",
       "4  /m/0342h 0.8243405 eNp1UUsOAjEIvRLQyUQvYGKmgrp...   \n",
       "\n",
       "                                    PredictionString  \n",
       "0  /m/01k6s3 0.4164521 0.25684 0.26940 0.72363 0....  \n",
       "1  /m/03y6mg 0.2951875 0.61914 0.04685 0.97559 0....  \n",
       "2  /m/01lrl 0.0051426 0.00195 0.87537 0.14355 0.9...  \n",
       "3  /m/01xyhv 0.9428729 0.53125 0.25073 0.88379 0....  \n",
       "4  /m/0342h 0.8243405 0.45898 0.49780 0.71582 0.7...  "
      ]
     },
     "execution_count": 43,
     "metadata": {},
     "output_type": "execute_result"
    }
   ],
   "source": [
    "#df.PredictionString = ''\n",
    "df.head()\n",
    " "
   ]
  },
  {
   "cell_type": "code",
   "execution_count": 47,
   "metadata": {},
   "outputs": [],
   "source": [
    "df.to_csv('seg_lb5026_bbox.csv', index=False, columns=['ImageID', 'PredictionString'])"
   ]
  },
  {
   "cell_type": "code",
   "execution_count": 44,
   "metadata": {},
   "outputs": [
    {
     "data": {
      "text/plain": [
       "'/m/01k6s3 0.4164521 0.25684 0.26940 0.72363 0.80673 /m/025dyy 0.1017320 0.25977 0.26940 0.72266 0.80234 /m/01s55n 0.0560076 0.25977 0.26940 0.72266 0.80673 /m/0lt4_ 0.0544400 0.25586 0.26794 0.72363 0.80527 /m/0dv5r 0.0509178 0.26074 0.26794 0.72266 0.80673 /m/03bbps 0.0356407 0.25781 0.26794 0.72363 0.80673 /m/02tsc9 0.0329684 0.25586 0.26647 0.72363 0.80381 /m/0bjyj5 0.0314410 0.25684 0.26940 0.72363 0.80673 /m/029b3 0.0260458 0.25684 0.26794 0.72363 0.79356 /m/06_72j 0.0258255 0.26074 0.26940 0.72363 0.79795 /m/046dlr 0.0248863 0.25684 0.26940 0.72266 0.79795 /m/025dyy 0.0222434 0.38574 0.65593 0.69922 0.82138 /m/0gjkl 0.0221946 0.25781 0.26647 0.72266 0.80234 /m/03y6mg 0.0194654 0.25684 0.26794 0.72266 0.80673 /m/04h8sr 0.0176861 0.25586 0.26794 0.72461 0.79356 /m/01kb5b 0.0133547 0.25586 0.26794 0.72461 0.80088 /m/020lf 0.0121866 0.25781 0.26794 0.72363 0.80381 /m/01226z 0.0092463 0.26270 0.26794 0.71973 0.73792 /m/03s_tn 0.0086645 0.25684 0.26647 0.72363 0.80527 /m/03m3vtv 0.0084545 0.26172 0.26647 0.72461 0.74378 /m/01m4t 0.0074633 0.25977 0.26794 0.72266 0.80673 /m/0584n8 0.0071307 0.25586 0.26794 0.72363 0.80673 /m/03bbps 0.0057949 0.38770 0.65886 0.69824 0.81845 /m/0176mf 0.0054547 0.26172 0.26647 0.71973 0.76867 /m/0h8lkj8 0.0054535 0.25879 0.26794 0.72266 0.80673 /m/015qff 0.0041733 0.26270 0.26940 0.71973 0.78770 /m/0h2r6 0.0033415 0.25781 0.26794 0.72363 0.80527 /m/020lf 0.0026858 0.38574 0.65593 0.69922 0.81698 /m/01pns0 0.0026208 0.25684 0.26794 0.72363 0.80673 /m/083wq 0.0025602 0.25781 0.26794 0.72266 0.75842 /m/01k6s3 0.0020277 0.38574 0.65593 0.69922 0.81845 /m/050k8 0.0019222 0.26172 0.26794 0.72266 0.78038 /m/04h8sr 0.0018627 0.38574 0.65886 0.69922 0.81698 /m/0h8ntjv 0.0017556 0.26172 0.26647 0.71973 0.79502 /m/01940j 0.0017365 0.26172 0.26794 0.71973 0.76720 /m/0bt_c3 0.0013709 0.39062 0.65739 0.69922 0.81845 /m/02jvh9 0.0013436 0.25781 0.26647 0.72363 0.80088 /m/025dyy 0.0012796 0.39844 0.66325 0.69922 0.72621 /m/04dr76w 0.0011147 0.26367 0.26794 0.71973 0.76720 /m/0wdt60w 0.0010388 0.26270 0.26794 0.71973 0.73792 /m/025dyy 0.0009261 0.40918 0.64422 0.70410 0.72914 /m/02pv19 0.0009187 0.26465 0.26794 0.71582 0.73792 /m/07dd4 0.0008287 0.26172 0.26794 0.71973 0.75988 /m/083wq 0.0007677 0.38867 0.66471 0.69629 0.81845 /m/06_fw 0.0007624 0.26270 0.26794 0.71973 0.75842 /m/02zn6n 0.0007394 0.26172 0.26794 0.71973 0.74085 /m/0fszt 0.0007307 0.26074 0.26647 0.71973 0.73792 /m/02p5f1q 0.0006643 0.26172 0.26647 0.72461 0.78331 /m/03m3vtv 0.0005925 0.39062 0.65886 0.69629 0.81845 /m/04kkgm 0.0005252 0.26074 0.26794 0.71973 0.76867 /m/05zsy 0.0004927 0.26270 0.26794 0.71777 0.73499 /m/01jfm_ 0.0004885 0.39062 0.66179 0.69824 0.81698 /m/07r04 0.0004550 0.26270 0.26647 0.71582 0.77013 /m/04h8sr 0.0004475 0.26367 0.29868 0.38672 0.66325 /m/01bjv 0.0004285 0.26465 0.26794 0.71582 0.74963 /m/080hkjn 0.0003583 0.26562 0.26794 0.71973 0.76720 /m/01jfm_ 0.0003493 0.26172 0.26940 0.71582 0.73646 /m/03jbxj 0.0003117 0.25879 0.26647 0.72363 0.79941 /m/0pg52 0.0002660 0.26270 0.26794 0.71582 0.74378 /m/076bq 0.0002404 0.26465 0.26794 0.71777 0.75256 /m/01fh4r 0.0002098 0.25293 0.26647 0.72461 0.79941 /m/0174k2 0.0001881 0.25684 0.26501 0.72363 0.80820 /m/06_72j 0.0001686 0.39844 0.66618 0.69922 0.72328 /m/083wq 0.0001595 0.26270 0.30015 0.38574 0.66179 /m/06_72j 0.0001594 0.38770 0.65739 0.69531 0.73792 /m/025dyy 0.0001486 0.43359 0.65593 0.70312 0.72035 /m/029b3 0.0001411 0.38379 0.66325 0.69531 0.82138 /m/04h8sr 0.0001407 0.26367 0.28258 0.54395 0.68228 /m/02rgn06 0.0001349 0.26172 0.26940 0.71582 0.73939 /m/01jfm_ 0.0001316 0.42480 0.67496 0.53906 0.73060 /m/025dyy 0.0001217 0.39160 0.65739 0.60645 0.72767 /m/0bt_c3 0.0001213 0.26270 0.26794 0.71680 0.73792 /m/06_72j 0.0001157 0.38477 0.66764 0.69531 0.81991 /m/025dyy 0.0001114 0.27930 0.52416 0.71777 0.80381 /m/0d20w4 0.0001034 0.25391 0.26647 0.72461 0.79502 /m/0138tl 0.9660458 0.26172 0.26501 0.72266 0.82138 /m/018xm 0.0155999 0.26074 0.26501 0.72266 0.81991 /m/018xm 0.0140593 0.38770 0.65447 0.70020 0.82138 /m/0138tl 0.0126760 0.38574 0.65447 0.69727 0.82284 /m/0k4j 0.0106477 0.26172 0.26501 0.72266 0.82138 /m/01x3z 0.0035643 0.26172 0.26501 0.72070 0.81113 /m/0k5j 0.0030863 0.26074 0.26501 0.72266 0.82284 /m/0hf58v5 0.0026973 0.26172 0.26354 0.72461 0.81845 /m/018xm 0.0014041 0.28613 0.29575 0.38965 0.65593 /m/0k4j 0.0006437 0.38281 0.65154 0.69727 0.82284 /m/0hf58v5 0.0004524 0.38281 0.65300 0.69727 0.82284 /m/06msq 0.0003278 0.26074 0.26208 0.72363 0.81845'"
      ]
     },
     "execution_count": 44,
     "metadata": {},
     "output_type": "execute_result"
    }
   ],
   "source": [
    "df.iloc[0].PredictionString"
   ]
  },
  {
   "cell_type": "code",
   "execution_count": null,
   "metadata": {},
   "outputs": [],
   "source": []
  }
 ],
 "metadata": {
  "kernelspec": {
   "display_name": "Python 3",
   "language": "python",
   "name": "python3"
  },
  "language_info": {
   "codemirror_mode": {
    "name": "ipython",
    "version": 3
   },
   "file_extension": ".py",
   "mimetype": "text/x-python",
   "name": "python",
   "nbconvert_exporter": "python",
   "pygments_lexer": "ipython3",
   "version": "3.7.3"
  }
 },
 "nbformat": 4,
 "nbformat_minor": 2
}

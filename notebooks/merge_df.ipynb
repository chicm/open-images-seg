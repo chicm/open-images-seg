{
 "cells": [
  {
   "cell_type": "code",
   "execution_count": 1,
   "metadata": {},
   "outputs": [],
   "source": [
    "import os\n",
    "import numpy as np\n",
    "import pandas as pd\n",
    "import torch\n",
    "import os\n",
    "import json\n",
    "import pandas as pd\n",
    "from PIL import Image\n",
    "from matplotlib.pyplot import imshow\n",
    "import matplotlib.pyplot as plt\n",
    "import cv2\n",
    "import numpy as np\n",
    "%matplotlib inline\n",
    "from tqdm import tqdm\n",
    "import glob\n",
    "import pickle"
   ]
  },
  {
   "cell_type": "code",
   "execution_count": 15,
   "metadata": {},
   "outputs": [
    {
     "name": "stdout",
     "output_type": "stream",
     "text": [
      "total 25G\r\n",
      "-rw-rw-r-- 1 core core 5.3K Aug  8 17:40 challenge-2019-classes-description-segmentable.csv\r\n",
      "-rw-rw-r-- 1 core core  21K Jul 26 08:26 challenge-2019-label300-segmentable-hierarchy.json\r\n",
      "-rw-rw-r-- 1 core core 369M Aug  8 17:46 challenge-2019-train-segmentation-bbox.csv\r\n",
      "-rw-rw-r-- 1 core core  82M Aug  8 17:47 challenge-2019-train-segmentation-labels.csv\r\n",
      "-rw-rw-r-- 1 core core 613M Aug  8 18:03 challenge-2019-train-segmentation-masks.csv\r\n",
      "-rw-rw-r-- 1 core core 6.4M Aug  8 18:03 challenge-2019-validation-segmentation-bbox.csv\r\n",
      "-rw-rw-r-- 1 core core 2.4M Aug  8 18:03 challenge-2019-validation-segmentation-labels.csv\r\n",
      "-rw-rw-r-- 1 core core 2.7M Aug  8 18:03 challenge-2019-validation-segmentation-masks.csv\r\n",
      "-rw-rw-r-- 1 core core 543K Sep  1 19:05 check_preds.ipynb\r\n",
      "-rw-rw-r-- 1 core core 535K Sep  2 17:36 check_preds-parent.ipynb\r\n",
      "-rw-r--r-- 1 core core 371K Sep  2 09:43 eda.ipynb\r\n",
      "-rw-rw-r-- 1 core core  27M Sep  2 17:42 merge_1000_0902.csv.zip\r\n",
      "-rw-rw-r-- 1 core core  25K Sep  2 17:44 merge_df.ipynb\r\n",
      "-rw-rw-r-- 1 core core 9.7G Jul 26 08:32 open-images-2019-instance-segmentation.zip\r\n",
      "-rw-rw-r-- 1 core core 2.3M Sep  1 00:03 sample_empty_submission-Copy1.csv\r\n",
      "-rw-rw---- 1 core core 2.3M Jul  9 10:50 sample_empty_submission.csv\r\n",
      "-rw-rw---- 1 core core  18K Jul  9 10:50 sample_truncated_submission.csv\r\n",
      "-rw-rw-r-- 1 core core 1.2G Sep  2 09:23 sub_0902_3_top50.csv.zip\r\n",
      "-rw-rw-r-- 1 core core 5.6M Aug 31 17:00 sub1_first_1000_test_add_parent.csv\r\n",
      "-rw-rw-r-- 1 core core 4.4M Aug 31 16:31 sub1_first_1000_test.csv\r\n",
      "-rw-rw-r-- 1 core core  11M Aug 31 17:05 sub1_first_1000_test_th001.csv\r\n",
      "-rw-rw-r-- 1 core core  19M Aug 31 17:51 sub1_first_1000_test_top50.csv\r\n",
      "-rw-rw-r-- 1 core core 1.2G Sep  1 00:33 sub_first_0901_top50.csv.zip\r\n",
      "-rw-rw-r-- 1 core core  19M Sep  1 18:53 sub_first_1000_0902_1_top50.csv\r\n",
      "-rw-rw-r-- 1 core core  31M Sep  1 19:04 sub_first_1000_0902_2_top100.csv\r\n",
      "-rw-rw-r-- 1 core core 336K Sep  2 09:25 submit.ipynb\r\n",
      "-rw-rw-r-- 1 core core 344K Sep  3 05:50 submit-parent.ipynb\r\n",
      "-rw-rw-r-- 1 core core  21M Sep  2 17:35 sub_parent_0902_1000_1.csv\r\n",
      "-rw-rw-r-- 1 core core 1.6G Sep  3 05:46 sub_parent_0903_1_top50.csv\r\n",
      "---------- 1 core core 9.7G Jul  9 10:50 test.zip\r\n",
      "-rw-r--r-- 1 core core 4.2K Aug  8 18:03 top_classes.csv\r\n",
      "-rw-rw-r-- 1 core core 3.9K Aug 23 16:45 top_classes_level1.csv\r\n",
      "-rw-rw-r-- 1 core core  377 Aug 23 16:47 top_classes_parent.csv\r\n"
     ]
    }
   ],
   "source": [
    "!ls -lh"
   ]
  },
  {
   "cell_type": "code",
   "execution_count": 17,
   "metadata": {},
   "outputs": [],
   "source": [
    "csv_files = [\n",
    "            #'sub_first_1000_0902_1_top50.csv',\n",
    "            #'sub_parent_0902_1000_1.csv',\n",
    "            'sub_0902_3_top50.csv.zip',\n",
    "            'sub_parent_0903_1_top50.csv'\n",
    "            ]\n",
    "\n",
    "dfs = [pd.read_csv(x) for x in csv_files]"
   ]
  },
  {
   "cell_type": "code",
   "execution_count": 18,
   "metadata": {},
   "outputs": [],
   "source": [
    "for df in dfs:\n",
    "    df.PredictionString = df.PredictionString.fillna('')"
   ]
  },
  {
   "cell_type": "code",
   "execution_count": 19,
   "metadata": {},
   "outputs": [
    {
     "data": {
      "text/plain": [
       "12047"
      ]
     },
     "execution_count": 19,
     "metadata": {},
     "output_type": "execute_result"
    }
   ],
   "source": [
    "len(dfs[1].iloc[0].PredictionString)"
   ]
  },
  {
   "cell_type": "code",
   "execution_count": 20,
   "metadata": {},
   "outputs": [],
   "source": [
    "# lower conf for is model, not working\n",
    "# dfs[1].PredictionString = dfs[1].PredictionString.map(lambda x: get_low_conf_pred_str(x))"
   ]
  },
  {
   "cell_type": "code",
   "execution_count": 21,
   "metadata": {},
   "outputs": [
    {
     "data": {
      "text/html": [
       "<div>\n",
       "<style scoped>\n",
       "    .dataframe tbody tr th:only-of-type {\n",
       "        vertical-align: middle;\n",
       "    }\n",
       "\n",
       "    .dataframe tbody tr th {\n",
       "        vertical-align: top;\n",
       "    }\n",
       "\n",
       "    .dataframe thead th {\n",
       "        text-align: right;\n",
       "    }\n",
       "</style>\n",
       "<table border=\"1\" class=\"dataframe\">\n",
       "  <thead>\n",
       "    <tr style=\"text-align: right;\">\n",
       "      <th></th>\n",
       "      <th>ImageID</th>\n",
       "      <th>ImageWidth</th>\n",
       "      <th>ImageHeight</th>\n",
       "      <th>PredictionString</th>\n",
       "    </tr>\n",
       "  </thead>\n",
       "  <tbody>\n",
       "    <tr>\n",
       "      <th>0</th>\n",
       "      <td>80155d58d0ee19bd</td>\n",
       "      <td>1024</td>\n",
       "      <td>683</td>\n",
       "      <td>/m/083wq 0.0024876 eNqVU01vwyAM/UsGEjb1Ou3QJGC...</td>\n",
       "    </tr>\n",
       "    <tr>\n",
       "      <th>1</th>\n",
       "      <td>52a76f3fe21185bf</td>\n",
       "      <td>1024</td>\n",
       "      <td>683</td>\n",
       "      <td>/m/083wq 0.0176641 eNoLyIqyzDWISzFABob+2NmUAXS...</td>\n",
       "    </tr>\n",
       "    <tr>\n",
       "      <th>2</th>\n",
       "      <td>65e9da7c04c8e4cd</td>\n",
       "      <td>1024</td>\n",
       "      <td>682</td>\n",
       "      <td></td>\n",
       "    </tr>\n",
       "    <tr>\n",
       "      <th>3</th>\n",
       "      <td>6d10fa21d93bd6cc</td>\n",
       "      <td>1024</td>\n",
       "      <td>682</td>\n",
       "      <td>/m/05r655 0.0065765 eNrNUttSwyAQ/SUICTTNxNFOLL...</td>\n",
       "    </tr>\n",
       "    <tr>\n",
       "      <th>4</th>\n",
       "      <td>0841dee573a875ca</td>\n",
       "      <td>1024</td>\n",
       "      <td>683</td>\n",
       "      <td>/m/05r655 0.0021448 eNqFlMmiqjoQRX/JlL4ZjcL0JK...</td>\n",
       "    </tr>\n",
       "  </tbody>\n",
       "</table>\n",
       "</div>"
      ],
      "text/plain": [
       "            ImageID  ImageWidth  ImageHeight  \\\n",
       "0  80155d58d0ee19bd        1024          683   \n",
       "1  52a76f3fe21185bf        1024          683   \n",
       "2  65e9da7c04c8e4cd        1024          682   \n",
       "3  6d10fa21d93bd6cc        1024          682   \n",
       "4  0841dee573a875ca        1024          683   \n",
       "\n",
       "                                    PredictionString  \n",
       "0  /m/083wq 0.0024876 eNqVU01vwyAM/UsGEjb1Ou3QJGC...  \n",
       "1  /m/083wq 0.0176641 eNoLyIqyzDWISzFABob+2NmUAXS...  \n",
       "2                                                     \n",
       "3  /m/05r655 0.0065765 eNrNUttSwyAQ/SUICTTNxNFOLL...  \n",
       "4  /m/05r655 0.0021448 eNqFlMmiqjoQRX/JlL4ZjcL0JK...  "
      ]
     },
     "execution_count": 21,
     "metadata": {},
     "output_type": "execute_result"
    }
   ],
   "source": [
    "dfs[0].head()"
   ]
  },
  {
   "cell_type": "code",
   "execution_count": 22,
   "metadata": {},
   "outputs": [],
   "source": [
    "#keep top 100\n",
    "#dfs[0].PredictionString = dfs[0].PredictionString.map(lambda x: ' '.join(x.split(' ')[:1200]))"
   ]
  },
  {
   "cell_type": "code",
   "execution_count": 23,
   "metadata": {},
   "outputs": [
    {
     "data": {
      "text/html": [
       "<div>\n",
       "<style scoped>\n",
       "    .dataframe tbody tr th:only-of-type {\n",
       "        vertical-align: middle;\n",
       "    }\n",
       "\n",
       "    .dataframe tbody tr th {\n",
       "        vertical-align: top;\n",
       "    }\n",
       "\n",
       "    .dataframe thead th {\n",
       "        text-align: right;\n",
       "    }\n",
       "</style>\n",
       "<table border=\"1\" class=\"dataframe\">\n",
       "  <thead>\n",
       "    <tr style=\"text-align: right;\">\n",
       "      <th></th>\n",
       "      <th>ImageID</th>\n",
       "      <th>ImageWidth</th>\n",
       "      <th>ImageHeight</th>\n",
       "      <th>PredictionString</th>\n",
       "    </tr>\n",
       "  </thead>\n",
       "  <tbody>\n",
       "    <tr>\n",
       "      <th>0</th>\n",
       "      <td>80155d58d0ee19bd</td>\n",
       "      <td>1024</td>\n",
       "      <td>683</td>\n",
       "      <td>/m/0k4j 0.2084172 eNqNU1tuwyAQvBLLw6gnSI15KAeo...</td>\n",
       "    </tr>\n",
       "    <tr>\n",
       "      <th>1</th>\n",
       "      <td>52a76f3fe21185bf</td>\n",
       "      <td>1024</td>\n",
       "      <td>683</td>\n",
       "      <td>/m/0k4j 0.0547043 eNpLCQmxzDeISTFAAEN/GIlgGWDI...</td>\n",
       "    </tr>\n",
       "    <tr>\n",
       "      <th>2</th>\n",
       "      <td>65e9da7c04c8e4cd</td>\n",
       "      <td>1024</td>\n",
       "      <td>682</td>\n",
       "      <td>/m/02crq1 0.0013185 eNoLiDDMN4hOMYAAQ38Df0MQCW...</td>\n",
       "    </tr>\n",
       "    <tr>\n",
       "      <th>3</th>\n",
       "      <td>6d10fa21d93bd6cc</td>\n",
       "      <td>1024</td>\n",
       "      <td>682</td>\n",
       "      <td>/m/0k4j 0.0118669 eNpNi8EKwkAMRH9pdtFFoQfFi1TJ...</td>\n",
       "    </tr>\n",
       "    <tr>\n",
       "      <th>4</th>\n",
       "      <td>0841dee573a875ca</td>\n",
       "      <td>1024</td>\n",
       "      <td>683</td>\n",
       "      <td>/m/0k4j 0.0986574 eNoLC4wxSjDKTjJABYb+MBIZg0gE...</td>\n",
       "    </tr>\n",
       "    <tr>\n",
       "      <th>5</th>\n",
       "      <td>660329181edd20b4</td>\n",
       "      <td>1024</td>\n",
       "      <td>483</td>\n",
       "      <td>/m/01g317 0.0025120 eNp1UtFuwjAM/CU7bVaVScCmqZ...</td>\n",
       "    </tr>\n",
       "    <tr>\n",
       "      <th>6</th>\n",
       "      <td>2dffa0787ba35f70</td>\n",
       "      <td>1024</td>\n",
       "      <td>545</td>\n",
       "      <td>/m/01g317 0.0115226 eNpLTgwzMs9IMDD2M/SHQwMDKG...</td>\n",
       "    </tr>\n",
       "    <tr>\n",
       "      <th>7</th>\n",
       "      <td>cb66703ecbd0b99a</td>\n",
       "      <td>1024</td>\n",
       "      <td>678</td>\n",
       "      <td>/m/0k4j 0.0017437 eNqLDIlOMjAOTDUw8TH2M/QDYgMD...</td>\n",
       "    </tr>\n",
       "    <tr>\n",
       "      <th>8</th>\n",
       "      <td>2f01f2c68316b5e5</td>\n",
       "      <td>1024</td>\n",
       "      <td>768</td>\n",
       "      <td>/m/0k4j 0.1820910 eNqNU81uwyAMfiUbR9qhj9Bgq1O1...</td>\n",
       "    </tr>\n",
       "    <tr>\n",
       "      <th>9</th>\n",
       "      <td>36cfe3fa46f56ed3</td>\n",
       "      <td>768</td>\n",
       "      <td>768</td>\n",
       "      <td>/m/0k4j 0.0310719 eNrLzAk1MklLN7B2N/My9zb1MfID...</td>\n",
       "    </tr>\n",
       "  </tbody>\n",
       "</table>\n",
       "</div>"
      ],
      "text/plain": [
       "            ImageID  ImageWidth  ImageHeight  \\\n",
       "0  80155d58d0ee19bd        1024          683   \n",
       "1  52a76f3fe21185bf        1024          683   \n",
       "2  65e9da7c04c8e4cd        1024          682   \n",
       "3  6d10fa21d93bd6cc        1024          682   \n",
       "4  0841dee573a875ca        1024          683   \n",
       "5  660329181edd20b4        1024          483   \n",
       "6  2dffa0787ba35f70        1024          545   \n",
       "7  cb66703ecbd0b99a        1024          678   \n",
       "8  2f01f2c68316b5e5        1024          768   \n",
       "9  36cfe3fa46f56ed3         768          768   \n",
       "\n",
       "                                    PredictionString  \n",
       "0  /m/0k4j 0.2084172 eNqNU1tuwyAQvBLLw6gnSI15KAeo...  \n",
       "1  /m/0k4j 0.0547043 eNpLCQmxzDeISTFAAEN/GIlgGWDI...  \n",
       "2  /m/02crq1 0.0013185 eNoLiDDMN4hOMYAAQ38Df0MQCW...  \n",
       "3  /m/0k4j 0.0118669 eNpNi8EKwkAMRH9pdtFFoQfFi1TJ...  \n",
       "4  /m/0k4j 0.0986574 eNoLC4wxSjDKTjJABYb+MBIZg0gE...  \n",
       "5  /m/01g317 0.0025120 eNp1UtFuwjAM/CU7bVaVScCmqZ...  \n",
       "6  /m/01g317 0.0115226 eNpLTgwzMs9IMDD2M/SHQwMDKG...  \n",
       "7  /m/0k4j 0.0017437 eNqLDIlOMjAOTDUw8TH2M/QDYgMD...  \n",
       "8  /m/0k4j 0.1820910 eNqNU81uwyAMfiUbR9qhj9Bgq1O1...  \n",
       "9  /m/0k4j 0.0310719 eNrLzAk1MklLN7B2N/My9zb1MfID...  "
      ]
     },
     "execution_count": 23,
     "metadata": {},
     "output_type": "execute_result"
    }
   ],
   "source": [
    "dfs[1].head(10)"
   ]
  },
  {
   "cell_type": "code",
   "execution_count": 24,
   "metadata": {},
   "outputs": [],
   "source": [
    "x = None\n",
    "for d in dfs:\n",
    "    if x is None:\n",
    "        x = d.PredictionString\n",
    "    else:\n",
    "        x = x.str.cat(d.PredictionString, sep=' ')"
   ]
  },
  {
   "cell_type": "code",
   "execution_count": 25,
   "metadata": {},
   "outputs": [
    {
     "name": "stdout",
     "output_type": "stream",
     "text": [
      "34068 12047\n"
     ]
    }
   ],
   "source": [
    "dfs[0].PredictionString = x\n",
    "print(len(dfs[0].iloc[0].PredictionString), len(dfs[1].iloc[0].PredictionString))"
   ]
  },
  {
   "cell_type": "code",
   "execution_count": 26,
   "metadata": {},
   "outputs": [
    {
     "data": {
      "text/html": [
       "<div>\n",
       "<style scoped>\n",
       "    .dataframe tbody tr th:only-of-type {\n",
       "        vertical-align: middle;\n",
       "    }\n",
       "\n",
       "    .dataframe tbody tr th {\n",
       "        vertical-align: top;\n",
       "    }\n",
       "\n",
       "    .dataframe thead th {\n",
       "        text-align: right;\n",
       "    }\n",
       "</style>\n",
       "<table border=\"1\" class=\"dataframe\">\n",
       "  <thead>\n",
       "    <tr style=\"text-align: right;\">\n",
       "      <th></th>\n",
       "      <th>ImageID</th>\n",
       "      <th>ImageWidth</th>\n",
       "      <th>ImageHeight</th>\n",
       "      <th>PredictionString</th>\n",
       "    </tr>\n",
       "  </thead>\n",
       "  <tbody>\n",
       "    <tr>\n",
       "      <th>0</th>\n",
       "      <td>80155d58d0ee19bd</td>\n",
       "      <td>1024</td>\n",
       "      <td>683</td>\n",
       "      <td>/m/083wq 0.0024876 eNqVU01vwyAM/UsGEjb1Ou3QJGC...</td>\n",
       "    </tr>\n",
       "    <tr>\n",
       "      <th>1</th>\n",
       "      <td>52a76f3fe21185bf</td>\n",
       "      <td>1024</td>\n",
       "      <td>683</td>\n",
       "      <td>/m/083wq 0.0176641 eNoLyIqyzDWISzFABob+2NmUAXS...</td>\n",
       "    </tr>\n",
       "    <tr>\n",
       "      <th>2</th>\n",
       "      <td>65e9da7c04c8e4cd</td>\n",
       "      <td>1024</td>\n",
       "      <td>682</td>\n",
       "      <td>/m/02crq1 0.0013185 eNoLiDDMN4hOMYAAQ38Df0MQC...</td>\n",
       "    </tr>\n",
       "    <tr>\n",
       "      <th>3</th>\n",
       "      <td>6d10fa21d93bd6cc</td>\n",
       "      <td>1024</td>\n",
       "      <td>682</td>\n",
       "      <td>/m/05r655 0.0065765 eNrNUttSwyAQ/SUICTTNxNFOLL...</td>\n",
       "    </tr>\n",
       "    <tr>\n",
       "      <th>4</th>\n",
       "      <td>0841dee573a875ca</td>\n",
       "      <td>1024</td>\n",
       "      <td>683</td>\n",
       "      <td>/m/05r655 0.0021448 eNqFlMmiqjoQRX/JlL4ZjcL0JK...</td>\n",
       "    </tr>\n",
       "  </tbody>\n",
       "</table>\n",
       "</div>"
      ],
      "text/plain": [
       "            ImageID  ImageWidth  ImageHeight  \\\n",
       "0  80155d58d0ee19bd        1024          683   \n",
       "1  52a76f3fe21185bf        1024          683   \n",
       "2  65e9da7c04c8e4cd        1024          682   \n",
       "3  6d10fa21d93bd6cc        1024          682   \n",
       "4  0841dee573a875ca        1024          683   \n",
       "\n",
       "                                    PredictionString  \n",
       "0  /m/083wq 0.0024876 eNqVU01vwyAM/UsGEjb1Ou3QJGC...  \n",
       "1  /m/083wq 0.0176641 eNoLyIqyzDWISzFABob+2NmUAXS...  \n",
       "2   /m/02crq1 0.0013185 eNoLiDDMN4hOMYAAQ38Df0MQC...  \n",
       "3  /m/05r655 0.0065765 eNrNUttSwyAQ/SUICTTNxNFOLL...  \n",
       "4  /m/05r655 0.0021448 eNqFlMmiqjoQRX/JlL4ZjcL0JK...  "
      ]
     },
     "execution_count": 26,
     "metadata": {},
     "output_type": "execute_result"
    }
   ],
   "source": [
    "dfs[0].head()"
   ]
  },
  {
   "cell_type": "code",
   "execution_count": 27,
   "metadata": {},
   "outputs": [],
   "source": [
    "dfs[0].to_csv('merge_0903_1.csv', index=False)"
   ]
  },
  {
   "cell_type": "code",
   "execution_count": 28,
   "metadata": {},
   "outputs": [
    {
     "name": "stdout",
     "output_type": "stream",
     "text": [
      "100%|██████████████████████████████████████| 3.15G/3.15G [01:21<00:00, 41.5MB/s]\n",
      "Successfully submitted to Open Images 2019 - Instance Segmentation"
     ]
    }
   ],
   "source": [
    "!kaggle competitions submit -c open-images-2019-instance-segmentation -f merge_0903_1.csv -m \"merge 0903\""
   ]
  },
  {
   "cell_type": "code",
   "execution_count": null,
   "metadata": {},
   "outputs": [],
   "source": [
    "!ls"
   ]
  },
  {
   "cell_type": "code",
   "execution_count": 11,
   "metadata": {},
   "outputs": [
    {
     "data": {
      "text/plain": [
       "10336"
      ]
     },
     "execution_count": 11,
     "metadata": {},
     "output_type": "execute_result"
    }
   ],
   "source": [
    "len(dfs[0].loc[dfs[0].PredictionString.isna()])"
   ]
  },
  {
   "cell_type": "code",
   "execution_count": 56,
   "metadata": {},
   "outputs": [
    {
     "data": {
      "text/plain": [
       "0"
      ]
     },
     "execution_count": 56,
     "metadata": {},
     "output_type": "execute_result"
    }
   ],
   "source": [
    "len(dfs[0].loc[dfs[0].PredictionString.isna()])"
   ]
  },
  {
   "cell_type": "code",
   "execution_count": 12,
   "metadata": {},
   "outputs": [
    {
     "data": {
      "text/plain": [
       "41"
      ]
     },
     "execution_count": 12,
     "metadata": {},
     "output_type": "execute_result"
    }
   ],
   "source": [
    "len(dfs[1].loc[dfs[1].PredictionString.isna()])"
   ]
  },
  {
   "cell_type": "code",
   "execution_count": 100,
   "metadata": {},
   "outputs": [
    {
     "data": {
      "text/html": [
       "<div>\n",
       "<style scoped>\n",
       "    .dataframe tbody tr th:only-of-type {\n",
       "        vertical-align: middle;\n",
       "    }\n",
       "\n",
       "    .dataframe tbody tr th {\n",
       "        vertical-align: top;\n",
       "    }\n",
       "\n",
       "    .dataframe thead th {\n",
       "        text-align: right;\n",
       "    }\n",
       "</style>\n",
       "<table border=\"1\" class=\"dataframe\">\n",
       "  <thead>\n",
       "    <tr style=\"text-align: right;\">\n",
       "      <th></th>\n",
       "      <th>t</th>\n",
       "    </tr>\n",
       "  </thead>\n",
       "  <tbody>\n",
       "    <tr>\n",
       "      <th>0</th>\n",
       "      <td>a1</td>\n",
       "    </tr>\n",
       "    <tr>\n",
       "      <th>1</th>\n",
       "      <td>b1</td>\n",
       "    </tr>\n",
       "    <tr>\n",
       "      <th>2</th>\n",
       "      <td>c</td>\n",
       "    </tr>\n",
       "    <tr>\n",
       "      <th>3</th>\n",
       "      <td>d</td>\n",
       "    </tr>\n",
       "    <tr>\n",
       "      <th>4</th>\n",
       "      <td>e</td>\n",
       "    </tr>\n",
       "  </tbody>\n",
       "</table>\n",
       "</div>"
      ],
      "text/plain": [
       "    t\n",
       "0  a1\n",
       "1  b1\n",
       "2   c\n",
       "3   d\n",
       "4   e"
      ]
     },
     "execution_count": 100,
     "metadata": {},
     "output_type": "execute_result"
    }
   ],
   "source": [
    "#####\n",
    "lst = ['Geeks', 'For', 'Geeks', 'is',  \n",
    "            'portal', 'for', 'Geeks'] \n",
    "tmp1 = pd.DataFrame(lst, columns=['t'])\n",
    "lst2 = ['a', 'b', 'c', 'd',  \n",
    "            'e', 'f', 'g'] \n",
    "tmp2 = pd.DataFrame(lst2, columns=['t'])\n",
    "\n",
    "lst3 = ['a1', 'b1', 'c', 'd',  \n",
    "            'e', 'f', 'g'] \n",
    "tmp3 = pd.DataFrame(lst3, columns=['t'])\n",
    "tmp3.head()"
   ]
  },
  {
   "cell_type": "code",
   "execution_count": 4,
   "metadata": {},
   "outputs": [
    {
     "data": {
      "text/html": [
       "<div>\n",
       "<style scoped>\n",
       "    .dataframe tbody tr th:only-of-type {\n",
       "        vertical-align: middle;\n",
       "    }\n",
       "\n",
       "    .dataframe tbody tr th {\n",
       "        vertical-align: top;\n",
       "    }\n",
       "\n",
       "    .dataframe thead th {\n",
       "        text-align: right;\n",
       "    }\n",
       "</style>\n",
       "<table border=\"1\" class=\"dataframe\">\n",
       "  <thead>\n",
       "    <tr style=\"text-align: right;\">\n",
       "      <th></th>\n",
       "      <th>ImageId</th>\n",
       "      <th>PredictionString</th>\n",
       "    </tr>\n",
       "  </thead>\n",
       "  <tbody>\n",
       "    <tr>\n",
       "      <th>0</th>\n",
       "      <td>21135d5ed0e7a0b7</td>\n",
       "      <td>0.1689330 /m/04bcr3 0.3664692 0.7250217 0.4814...</td>\n",
       "    </tr>\n",
       "    <tr>\n",
       "      <th>1</th>\n",
       "      <td>763c72626bf24534</td>\n",
       "      <td>0.7671249 /m/04bcr3 0.6873273 0.8193369 0.9977...</td>\n",
       "    </tr>\n",
       "    <tr>\n",
       "      <th>2</th>\n",
       "      <td>7540c162180973b1</td>\n",
       "      <td>0.0219995 /m/04dr76w 0.0762036 0.3234025 0.120...</td>\n",
       "    </tr>\n",
       "    <tr>\n",
       "      <th>3</th>\n",
       "      <td>c4e522dce52cb02f</td>\n",
       "      <td>0.4940703 /m/04bcr3 0.8307936 0.6809913 0.9920...</td>\n",
       "    </tr>\n",
       "    <tr>\n",
       "      <th>4</th>\n",
       "      <td>cafcd9496c808085</td>\n",
       "      <td>0.0129044 /m/04dr76w 0.0000000 0.0600080 0.031...</td>\n",
       "    </tr>\n",
       "  </tbody>\n",
       "</table>\n",
       "</div>"
      ],
      "text/plain": [
       "            ImageId                                   PredictionString\n",
       "0  21135d5ed0e7a0b7  0.1689330 /m/04bcr3 0.3664692 0.7250217 0.4814...\n",
       "1  763c72626bf24534  0.7671249 /m/04bcr3 0.6873273 0.8193369 0.9977...\n",
       "2  7540c162180973b1  0.0219995 /m/04dr76w 0.0762036 0.3234025 0.120...\n",
       "3  c4e522dce52cb02f  0.4940703 /m/04bcr3 0.8307936 0.6809913 0.9920...\n",
       "4  cafcd9496c808085  0.0129044 /m/04dr76w 0.0000000 0.0600080 0.031..."
      ]
     },
     "execution_count": 4,
     "metadata": {},
     "output_type": "execute_result"
    }
   ],
   "source": [
    "df_is = pd.read_csv('ensemble_is_42_0808_1_3_models.csv')\n",
    "df_is.head()"
   ]
  },
  {
   "cell_type": "code",
   "execution_count": 5,
   "metadata": {},
   "outputs": [],
   "source": [
    "def get_low_conf_pred_str(pred_str):\n",
    "    try:\n",
    "        if len(pred_str) < 1:\n",
    "            return pred_str\n",
    "    except:\n",
    "        print('pred_str:', pred_str)\n",
    "        raise\n",
    "    det_items = pred_str.split(' ')\n",
    "    \n",
    "    res = []\n",
    "    for i, c in enumerate(det_items):\n",
    "        if i % 12 == 0:\n",
    "            res.append(str(float(c)/4))\n",
    "        else:\n",
    "            res.append(c)\n",
    "    return ' '.join(res)"
   ]
  },
  {
   "cell_type": "code",
   "execution_count": null,
   "metadata": {},
   "outputs": [],
   "source": []
  }
 ],
 "metadata": {
  "kernelspec": {
   "display_name": "Python 3",
   "language": "python",
   "name": "python3"
  },
  "language_info": {
   "codemirror_mode": {
    "name": "ipython",
    "version": 3
   },
   "file_extension": ".py",
   "mimetype": "text/x-python",
   "name": "python",
   "nbconvert_exporter": "python",
   "pygments_lexer": "ipython3",
   "version": "3.7.3"
  }
 },
 "nbformat": 4,
 "nbformat_minor": 2
}

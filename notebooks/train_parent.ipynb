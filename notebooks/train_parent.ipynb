{
 "cells": [
  {
   "cell_type": "code",
   "execution_count": 1,
   "metadata": {},
   "outputs": [],
   "source": [
    "import os\n",
    "import numpy as np\n",
    "import pandas as pd\n",
    "import torch\n",
    "import os.path as osp\n",
    "import json\n",
    "import pandas as pd\n",
    "from PIL import Image\n",
    "from matplotlib.pyplot import imshow\n",
    "import matplotlib.pyplot as plt\n",
    "import cv2\n",
    "import numpy as np\n",
    "%matplotlib inline\n",
    "from tqdm import tqdm\n",
    "import glob\n",
    "import pickle\n",
    "IMG_DIR = '/home/chec/data/open-images/train/imgs'\n",
    "MASK_DIR = '/home/chec/data/open-images/masks/train'\n",
    "DATA_DIR = '/home/chec/data/open-images/segmentation'"
   ]
  },
  {
   "cell_type": "code",
   "execution_count": 3,
   "metadata": {},
   "outputs": [
    {
     "data": {
      "text/html": [
       "<div>\n",
       "<style scoped>\n",
       "    .dataframe tbody tr th:only-of-type {\n",
       "        vertical-align: middle;\n",
       "    }\n",
       "\n",
       "    .dataframe tbody tr th {\n",
       "        vertical-align: top;\n",
       "    }\n",
       "\n",
       "    .dataframe thead th {\n",
       "        text-align: right;\n",
       "    }\n",
       "</style>\n",
       "<table border=\"1\" class=\"dataframe\">\n",
       "  <thead>\n",
       "    <tr style=\"text-align: right;\">\n",
       "      <th></th>\n",
       "      <th>class</th>\n",
       "      <th>name</th>\n",
       "    </tr>\n",
       "  </thead>\n",
       "  <tbody>\n",
       "    <tr>\n",
       "      <th>0</th>\n",
       "      <td>/m/01bms0</td>\n",
       "      <td>Screwdriver</td>\n",
       "    </tr>\n",
       "    <tr>\n",
       "      <th>1</th>\n",
       "      <td>/m/03jbxj</td>\n",
       "      <td>Light switch</td>\n",
       "    </tr>\n",
       "    <tr>\n",
       "      <th>2</th>\n",
       "      <td>/m/0jy4k</td>\n",
       "      <td>Doughnut</td>\n",
       "    </tr>\n",
       "    <tr>\n",
       "      <th>3</th>\n",
       "      <td>/m/09gtd</td>\n",
       "      <td>Toilet paper</td>\n",
       "    </tr>\n",
       "    <tr>\n",
       "      <th>4</th>\n",
       "      <td>/m/01j5ks</td>\n",
       "      <td>Wrench</td>\n",
       "    </tr>\n",
       "  </tbody>\n",
       "</table>\n",
       "</div>"
      ],
      "text/plain": [
       "       class          name\n",
       "0  /m/01bms0   Screwdriver\n",
       "1  /m/03jbxj  Light switch\n",
       "2   /m/0jy4k      Doughnut\n",
       "3   /m/09gtd  Toilet paper\n",
       "4  /m/01j5ks        Wrench"
      ]
     },
     "execution_count": 3,
     "metadata": {},
     "output_type": "execute_result"
    }
   ],
   "source": [
    "df_des = pd.read_csv(osp.join(DATA_DIR, 'challenge-2019-classes-description-segmentable.csv'), names=['class', 'name'])\n",
    "df_des.head()"
   ]
  },
  {
   "cell_type": "code",
   "execution_count": 4,
   "metadata": {},
   "outputs": [],
   "source": [
    "class_dict = df_des.set_index('class').to_dict()['name']"
   ]
  },
  {
   "cell_type": "code",
   "execution_count": 6,
   "metadata": {},
   "outputs": [],
   "source": []
  },
  {
   "cell_type": "code",
   "execution_count": 44,
   "metadata": {},
   "outputs": [],
   "source": [
    "def get_class_info():\n",
    "    with open(osp.join(DATA_DIR, 'challenge-2019-label300-segmentable-hierarchy.json'), 'r') as f:\n",
    "        h = json.load(f)\n",
    "    leaf_classes = []\n",
    "    parent_classes = []\n",
    "    parent_dict = {}\n",
    "\n",
    "    def travel(root, parent=[]):\n",
    "        if 'Subcategory' in root:\n",
    "            parent_classes.append(root['LabelName'])\n",
    "            for c in root['Subcategory']:\n",
    "                travel(c, parent+[root['LabelName']])\n",
    "        else:\n",
    "            leaf_classes.append(root['LabelName'])\n",
    "            parent_dict[root['LabelName']] = parent\n",
    "\n",
    "    travel(h)\n",
    "\n",
    "    parent_classes.remove('/m/0bl9f')\n",
    "    for k in parent_dict:\n",
    "        parent_dict[k].remove('/m/0bl9f')\n",
    "        #if parent_dict[k] and k in leaf_classes:\n",
    "        #    print(k, parent_dict[k])\n",
    "        #    print(class_dict[k], [class_dict[x] for x in parent_dict[k]])\n",
    "    return set(leaf_classes), set(parent_classes), parent_dict"
   ]
  },
  {
   "cell_type": "code",
   "execution_count": 45,
   "metadata": {},
   "outputs": [],
   "source": [
    "leaf_classes, parent_classes, parent_dict = get_class_info()"
   ]
  },
  {
   "cell_type": "code",
   "execution_count": 46,
   "metadata": {},
   "outputs": [
    {
     "data": {
      "text/plain": [
       "25"
      ]
     },
     "execution_count": 46,
     "metadata": {},
     "output_type": "execute_result"
    }
   ],
   "source": [
    "len(set(parent_classes))"
   ]
  },
  {
   "cell_type": "code",
   "execution_count": 39,
   "metadata": {},
   "outputs": [
    {
     "data": {
      "text/html": [
       "<div>\n",
       "<style scoped>\n",
       "    .dataframe tbody tr th:only-of-type {\n",
       "        vertical-align: middle;\n",
       "    }\n",
       "\n",
       "    .dataframe tbody tr th {\n",
       "        vertical-align: top;\n",
       "    }\n",
       "\n",
       "    .dataframe thead th {\n",
       "        text-align: right;\n",
       "    }\n",
       "</style>\n",
       "<table border=\"1\" class=\"dataframe\">\n",
       "  <thead>\n",
       "    <tr style=\"text-align: right;\">\n",
       "      <th></th>\n",
       "      <th>MaskPath</th>\n",
       "      <th>ImageID</th>\n",
       "      <th>LabelName</th>\n",
       "      <th>BoxID</th>\n",
       "      <th>BoxXMin</th>\n",
       "      <th>BoxXMax</th>\n",
       "      <th>BoxYMin</th>\n",
       "      <th>BoxYMax</th>\n",
       "      <th>PredictedIoU</th>\n",
       "      <th>Clicks</th>\n",
       "    </tr>\n",
       "  </thead>\n",
       "  <tbody>\n",
       "    <tr>\n",
       "      <th>0</th>\n",
       "      <td>ccead8c5906e6e11_m09ddx_a881dc5b.png</td>\n",
       "      <td>ccead8c5906e6e11</td>\n",
       "      <td>/m/09ddx</td>\n",
       "      <td>a881dc5b</td>\n",
       "      <td>0.319531</td>\n",
       "      <td>0.657812</td>\n",
       "      <td>0.328271</td>\n",
       "      <td>0.738318</td>\n",
       "      <td>0.88407</td>\n",
       "      <td>0.62748 0.63862 0;0.44461 0.72795 1;0.44990 0....</td>\n",
       "    </tr>\n",
       "    <tr>\n",
       "      <th>1</th>\n",
       "      <td>88e582a7b14e34a8_m039xj__6133896f.png</td>\n",
       "      <td>88e582a7b14e34a8</td>\n",
       "      <td>/m/039xj_</td>\n",
       "      <td>6133896f</td>\n",
       "      <td>0.756250</td>\n",
       "      <td>0.810625</td>\n",
       "      <td>0.326797</td>\n",
       "      <td>0.442577</td>\n",
       "      <td>0.76044</td>\n",
       "      <td>0.76475 0.42231 0;0.79720 0.32467 1;0.76502 0....</td>\n",
       "    </tr>\n",
       "    <tr>\n",
       "      <th>2</th>\n",
       "      <td>280849e5239012cb_m0342h_c420399e.png</td>\n",
       "      <td>280849e5239012cb</td>\n",
       "      <td>/m/0342h</td>\n",
       "      <td>c420399e</td>\n",
       "      <td>0.000000</td>\n",
       "      <td>0.513950</td>\n",
       "      <td>0.600586</td>\n",
       "      <td>0.739258</td>\n",
       "      <td>0.88397</td>\n",
       "      <td>0.00690 0.67839 1;0.11382 0.62844 0;0.08955 0....</td>\n",
       "    </tr>\n",
       "    <tr>\n",
       "      <th>3</th>\n",
       "      <td>6533d5bbc139857d_m0342h_9466984b.png</td>\n",
       "      <td>6533d5bbc139857d</td>\n",
       "      <td>/m/0342h</td>\n",
       "      <td>9466984b</td>\n",
       "      <td>0.115625</td>\n",
       "      <td>0.312500</td>\n",
       "      <td>0.414634</td>\n",
       "      <td>0.605066</td>\n",
       "      <td>0.57796</td>\n",
       "      <td>0.17948 0.51202 1;0.22844 0.50576 0;0.17219 0....</td>\n",
       "    </tr>\n",
       "    <tr>\n",
       "      <th>4</th>\n",
       "      <td>74362934ae874b7d_m083wq_0e0c104e.png</td>\n",
       "      <td>74362934ae874b7d</td>\n",
       "      <td>/m/083wq</td>\n",
       "      <td>0e0c104e</td>\n",
       "      <td>0.006250</td>\n",
       "      <td>0.081875</td>\n",
       "      <td>0.470833</td>\n",
       "      <td>0.635833</td>\n",
       "      <td>0.83177</td>\n",
       "      <td>0.00726 0.56089 1;0.06891 0.61937 1;0.07646 0....</td>\n",
       "    </tr>\n",
       "  </tbody>\n",
       "</table>\n",
       "</div>"
      ],
      "text/plain": [
       "                                MaskPath           ImageID  LabelName  \\\n",
       "0   ccead8c5906e6e11_m09ddx_a881dc5b.png  ccead8c5906e6e11   /m/09ddx   \n",
       "1  88e582a7b14e34a8_m039xj__6133896f.png  88e582a7b14e34a8  /m/039xj_   \n",
       "2   280849e5239012cb_m0342h_c420399e.png  280849e5239012cb   /m/0342h   \n",
       "3   6533d5bbc139857d_m0342h_9466984b.png  6533d5bbc139857d   /m/0342h   \n",
       "4   74362934ae874b7d_m083wq_0e0c104e.png  74362934ae874b7d   /m/083wq   \n",
       "\n",
       "      BoxID   BoxXMin   BoxXMax   BoxYMin   BoxYMax  PredictedIoU  \\\n",
       "0  a881dc5b  0.319531  0.657812  0.328271  0.738318       0.88407   \n",
       "1  6133896f  0.756250  0.810625  0.326797  0.442577       0.76044   \n",
       "2  c420399e  0.000000  0.513950  0.600586  0.739258       0.88397   \n",
       "3  9466984b  0.115625  0.312500  0.414634  0.605066       0.57796   \n",
       "4  0e0c104e  0.006250  0.081875  0.470833  0.635833       0.83177   \n",
       "\n",
       "                                              Clicks  \n",
       "0  0.62748 0.63862 0;0.44461 0.72795 1;0.44990 0....  \n",
       "1  0.76475 0.42231 0;0.79720 0.32467 1;0.76502 0....  \n",
       "2  0.00690 0.67839 1;0.11382 0.62844 0;0.08955 0....  \n",
       "3  0.17948 0.51202 1;0.22844 0.50576 0;0.17219 0....  \n",
       "4  0.00726 0.56089 1;0.06891 0.61937 1;0.07646 0....  "
      ]
     },
     "execution_count": 39,
     "metadata": {},
     "output_type": "execute_result"
    }
   ],
   "source": [
    "df_masks = pd.read_csv(osp.join(DATA_DIR, 'challenge-2019-train-segmentation-masks.csv'))\n",
    "df_masks.head()"
   ]
  },
  {
   "cell_type": "code",
   "execution_count": 47,
   "metadata": {},
   "outputs": [
    {
     "data": {
      "text/plain": [
       "(1296517, 10)"
      ]
     },
     "execution_count": 47,
     "metadata": {},
     "output_type": "execute_result"
    }
   ],
   "source": [
    "df_masks.loc[df_masks.LabelName.isin(parent_classes)].shape"
   ]
  },
  {
   "cell_type": "code",
   "execution_count": 35,
   "metadata": {},
   "outputs": [],
   "source": [
    "import random\n",
    "def get_parent_label(label_name):\n",
    "    if label_name in parent_classes:\n",
    "        return label_name\n",
    "    elif label_name in leaf_classes:\n",
    "        if parent_dict[label_name]:\n",
    "            return random.choice(parent_dict[label_name])\n",
    "        else:\n",
    "            return 'none'"
   ]
  },
  {
   "cell_type": "code",
   "execution_count": 41,
   "metadata": {},
   "outputs": [
    {
     "data": {
      "text/html": [
       "<div>\n",
       "<style scoped>\n",
       "    .dataframe tbody tr th:only-of-type {\n",
       "        vertical-align: middle;\n",
       "    }\n",
       "\n",
       "    .dataframe tbody tr th {\n",
       "        vertical-align: top;\n",
       "    }\n",
       "\n",
       "    .dataframe thead th {\n",
       "        text-align: right;\n",
       "    }\n",
       "</style>\n",
       "<table border=\"1\" class=\"dataframe\">\n",
       "  <thead>\n",
       "    <tr style=\"text-align: right;\">\n",
       "      <th></th>\n",
       "      <th>MaskPath</th>\n",
       "      <th>ImageID</th>\n",
       "      <th>LabelName</th>\n",
       "      <th>BoxID</th>\n",
       "      <th>BoxXMin</th>\n",
       "      <th>BoxXMax</th>\n",
       "      <th>BoxYMin</th>\n",
       "      <th>BoxYMax</th>\n",
       "      <th>PredictedIoU</th>\n",
       "      <th>Clicks</th>\n",
       "    </tr>\n",
       "  </thead>\n",
       "  <tbody>\n",
       "    <tr>\n",
       "      <th>0</th>\n",
       "      <td>ccead8c5906e6e11_m09ddx_a881dc5b.png</td>\n",
       "      <td>ccead8c5906e6e11</td>\n",
       "      <td>/m/015p6</td>\n",
       "      <td>a881dc5b</td>\n",
       "      <td>0.319531</td>\n",
       "      <td>0.657812</td>\n",
       "      <td>0.328271</td>\n",
       "      <td>0.738318</td>\n",
       "      <td>0.88407</td>\n",
       "      <td>0.62748 0.63862 0;0.44461 0.72795 1;0.44990 0....</td>\n",
       "    </tr>\n",
       "    <tr>\n",
       "      <th>1</th>\n",
       "      <td>88e582a7b14e34a8_m039xj__6133896f.png</td>\n",
       "      <td>88e582a7b14e34a8</td>\n",
       "      <td>none</td>\n",
       "      <td>6133896f</td>\n",
       "      <td>0.756250</td>\n",
       "      <td>0.810625</td>\n",
       "      <td>0.326797</td>\n",
       "      <td>0.442577</td>\n",
       "      <td>0.76044</td>\n",
       "      <td>0.76475 0.42231 0;0.79720 0.32467 1;0.76502 0....</td>\n",
       "    </tr>\n",
       "    <tr>\n",
       "      <th>2</th>\n",
       "      <td>280849e5239012cb_m0342h_c420399e.png</td>\n",
       "      <td>280849e5239012cb</td>\n",
       "      <td>none</td>\n",
       "      <td>c420399e</td>\n",
       "      <td>0.000000</td>\n",
       "      <td>0.513950</td>\n",
       "      <td>0.600586</td>\n",
       "      <td>0.739258</td>\n",
       "      <td>0.88397</td>\n",
       "      <td>0.00690 0.67839 1;0.11382 0.62844 0;0.08955 0....</td>\n",
       "    </tr>\n",
       "    <tr>\n",
       "      <th>3</th>\n",
       "      <td>6533d5bbc139857d_m0342h_9466984b.png</td>\n",
       "      <td>6533d5bbc139857d</td>\n",
       "      <td>none</td>\n",
       "      <td>9466984b</td>\n",
       "      <td>0.115625</td>\n",
       "      <td>0.312500</td>\n",
       "      <td>0.414634</td>\n",
       "      <td>0.605066</td>\n",
       "      <td>0.57796</td>\n",
       "      <td>0.17948 0.51202 1;0.22844 0.50576 0;0.17219 0....</td>\n",
       "    </tr>\n",
       "    <tr>\n",
       "      <th>4</th>\n",
       "      <td>74362934ae874b7d_m083wq_0e0c104e.png</td>\n",
       "      <td>74362934ae874b7d</td>\n",
       "      <td>none</td>\n",
       "      <td>0e0c104e</td>\n",
       "      <td>0.006250</td>\n",
       "      <td>0.081875</td>\n",
       "      <td>0.470833</td>\n",
       "      <td>0.635833</td>\n",
       "      <td>0.83177</td>\n",
       "      <td>0.00726 0.56089 1;0.06891 0.61937 1;0.07646 0....</td>\n",
       "    </tr>\n",
       "  </tbody>\n",
       "</table>\n",
       "</div>"
      ],
      "text/plain": [
       "                                MaskPath           ImageID LabelName  \\\n",
       "0   ccead8c5906e6e11_m09ddx_a881dc5b.png  ccead8c5906e6e11  /m/015p6   \n",
       "1  88e582a7b14e34a8_m039xj__6133896f.png  88e582a7b14e34a8      none   \n",
       "2   280849e5239012cb_m0342h_c420399e.png  280849e5239012cb      none   \n",
       "3   6533d5bbc139857d_m0342h_9466984b.png  6533d5bbc139857d      none   \n",
       "4   74362934ae874b7d_m083wq_0e0c104e.png  74362934ae874b7d      none   \n",
       "\n",
       "      BoxID   BoxXMin   BoxXMax   BoxYMin   BoxYMax  PredictedIoU  \\\n",
       "0  a881dc5b  0.319531  0.657812  0.328271  0.738318       0.88407   \n",
       "1  6133896f  0.756250  0.810625  0.326797  0.442577       0.76044   \n",
       "2  c420399e  0.000000  0.513950  0.600586  0.739258       0.88397   \n",
       "3  9466984b  0.115625  0.312500  0.414634  0.605066       0.57796   \n",
       "4  0e0c104e  0.006250  0.081875  0.470833  0.635833       0.83177   \n",
       "\n",
       "                                              Clicks  \n",
       "0  0.62748 0.63862 0;0.44461 0.72795 1;0.44990 0....  \n",
       "1  0.76475 0.42231 0;0.79720 0.32467 1;0.76502 0....  \n",
       "2  0.00690 0.67839 1;0.11382 0.62844 0;0.08955 0....  \n",
       "3  0.17948 0.51202 1;0.22844 0.50576 0;0.17219 0....  \n",
       "4  0.00726 0.56089 1;0.06891 0.61937 1;0.07646 0....  "
      ]
     },
     "execution_count": 41,
     "metadata": {},
     "output_type": "execute_result"
    }
   ],
   "source": [
    "df_masks.LabelName = df_masks.LabelName.map(lambda x: get_parent_label(x))\n",
    "df_masks.head()"
   ]
  },
  {
   "cell_type": "code",
   "execution_count": 37,
   "metadata": {},
   "outputs": [
    {
     "data": {
      "text/plain": [
       "(1296517, 10)"
      ]
     },
     "execution_count": 37,
     "metadata": {},
     "output_type": "execute_result"
    }
   ],
   "source": [
    "df_masks.loc[df_masks.LabelName!='none'].shape"
   ]
  },
  {
   "cell_type": "code",
   "execution_count": 42,
   "metadata": {},
   "outputs": [],
   "source": [
    "df_train = df_masks.loc[df_masks.LabelName!='none']"
   ]
  },
  {
   "cell_type": "code",
   "execution_count": 43,
   "metadata": {},
   "outputs": [
    {
     "data": {
      "text/plain": [
       "/m/01g317     634241\n",
       "/m/0k4j       166635\n",
       "/m/0c9ph5     100067\n",
       "/m/07mhn       68365\n",
       "/m/015p6       57049\n",
       "/m/0138tl      52553\n",
       "/m/01lrl       42508\n",
       "/m/0271t       42213\n",
       "/m/06msq       30185\n",
       "/m/02dl1y      22791\n",
       "/m/0k5j        18433\n",
       "/m/0ch_cf      13854\n",
       "/m/018xm        6797\n",
       "/m/06bt6        6750\n",
       "/m/02crq1       6127\n",
       "/m/0hf58v5      6019\n",
       "/m/0dv77        4718\n",
       "/m/01mqdt       4520\n",
       "/m/0l515        2540\n",
       "/m/0174n1       2483\n",
       "/m/02wv6h6      1912\n",
       "/m/0dv9c        1655\n",
       "/m/01dws        1428\n",
       "/m/09dzg        1417\n",
       "/m/01x3z        1257\n",
       "Name: LabelName, dtype: int64"
      ]
     },
     "execution_count": 43,
     "metadata": {},
     "output_type": "execute_result"
    }
   ],
   "source": [
    "df_train.LabelName.value_counts()"
   ]
  },
  {
   "cell_type": "code",
   "execution_count": null,
   "metadata": {},
   "outputs": [],
   "source": []
  }
 ],
 "metadata": {
  "kernelspec": {
   "display_name": "Python 3",
   "language": "python",
   "name": "python3"
  },
  "language_info": {
   "codemirror_mode": {
    "name": "ipython",
    "version": 3
   },
   "file_extension": ".py",
   "mimetype": "text/x-python",
   "name": "python",
   "nbconvert_exporter": "python",
   "pygments_lexer": "ipython3",
   "version": "3.7.3"
  }
 },
 "nbformat": 4,
 "nbformat_minor": 2
}
